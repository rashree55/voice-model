{
  "nbformat": 4,
  "nbformat_minor": 0,
  "metadata": {
    "colab": {
      "provenance": [],
      "gpuType": "T4",
      "authorship_tag": "ABX9TyNfOAtLhgaHUzIfpEcPKSq/",
      "include_colab_link": true
    },
    "kernelspec": {
      "name": "python3",
      "display_name": "Python 3"
    },
    "language_info": {
      "name": "python"
    },
    "accelerator": "GPU"
  },
  "cells": [
    {
      "cell_type": "markdown",
      "metadata": {
        "id": "view-in-github",
        "colab_type": "text"
      },
      "source": [
        "<a href=\"https://colab.research.google.com/github/rashree55/voice-model/blob/main/tts_training.ipynb\" target=\"_parent\"><img src=\"https://colab.research.google.com/assets/colab-badge.svg\" alt=\"Open In Colab\"/></a>"
      ]
    },
    {
      "cell_type": "code",
      "execution_count": 2,
      "metadata": {
        "colab": {
          "base_uri": "https://localhost:8080/"
        },
        "id": "DEPMR3LXKJ6T",
        "outputId": "802c4de7-a053-4ceb-c6e0-34a0e9f47717"
      },
      "outputs": [
        {
          "output_type": "stream",
          "name": "stdout",
          "text": [
            "Requirement already satisfied: TTS in /usr/local/lib/python3.11/dist-packages (0.22.0)\n",
            "Requirement already satisfied: cython>=0.29.30 in /usr/local/lib/python3.11/dist-packages (from TTS) (3.0.12)\n",
            "Requirement already satisfied: scipy>=1.11.2 in /usr/local/lib/python3.11/dist-packages (from TTS) (1.15.3)\n",
            "Requirement already satisfied: torch>=2.1 in /usr/local/lib/python3.11/dist-packages (from TTS) (2.6.0+cu124)\n",
            "Requirement already satisfied: torchaudio in /usr/local/lib/python3.11/dist-packages (from TTS) (2.6.0+cu124)\n",
            "Requirement already satisfied: soundfile>=0.12.0 in /usr/local/lib/python3.11/dist-packages (from TTS) (0.13.1)\n",
            "Requirement already satisfied: librosa>=0.10.0 in /usr/local/lib/python3.11/dist-packages (from TTS) (0.11.0)\n",
            "Requirement already satisfied: scikit-learn>=1.3.0 in /usr/local/lib/python3.11/dist-packages (from TTS) (1.6.1)\n",
            "Requirement already satisfied: inflect>=5.6.0 in /usr/local/lib/python3.11/dist-packages (from TTS) (7.5.0)\n",
            "Requirement already satisfied: tqdm>=4.64.1 in /usr/local/lib/python3.11/dist-packages (from TTS) (4.67.1)\n",
            "Requirement already satisfied: anyascii>=0.3.0 in /usr/local/lib/python3.11/dist-packages (from TTS) (0.3.3)\n",
            "Requirement already satisfied: pyyaml>=6.0 in /usr/local/lib/python3.11/dist-packages (from TTS) (6.0.2)\n",
            "Requirement already satisfied: fsspec>=2023.6.0 in /usr/local/lib/python3.11/dist-packages (from TTS) (2025.3.2)\n",
            "Requirement already satisfied: aiohttp>=3.8.1 in /usr/local/lib/python3.11/dist-packages (from TTS) (3.11.15)\n",
            "Requirement already satisfied: packaging>=23.1 in /usr/local/lib/python3.11/dist-packages (from TTS) (24.2)\n",
            "Requirement already satisfied: flask>=2.0.1 in /usr/local/lib/python3.11/dist-packages (from TTS) (3.1.1)\n",
            "Requirement already satisfied: pysbd>=0.3.4 in /usr/local/lib/python3.11/dist-packages (from TTS) (0.3.4)\n",
            "Requirement already satisfied: umap-learn>=0.5.1 in /usr/local/lib/python3.11/dist-packages (from TTS) (0.5.9.post2)\n",
            "Requirement already satisfied: pandas<2.0,>=1.4 in /usr/local/lib/python3.11/dist-packages (from TTS) (1.5.3)\n",
            "Requirement already satisfied: matplotlib>=3.7.0 in /usr/local/lib/python3.11/dist-packages (from TTS) (3.10.0)\n",
            "Requirement already satisfied: trainer>=0.0.32 in /usr/local/lib/python3.11/dist-packages (from TTS) (0.0.36)\n",
            "Requirement already satisfied: coqpit>=0.0.16 in /usr/local/lib/python3.11/dist-packages (from TTS) (0.0.17)\n",
            "Requirement already satisfied: jieba in /usr/local/lib/python3.11/dist-packages (from TTS) (0.42.1)\n",
            "Requirement already satisfied: pypinyin in /usr/local/lib/python3.11/dist-packages (from TTS) (0.54.0)\n",
            "Requirement already satisfied: hangul-romanize in /usr/local/lib/python3.11/dist-packages (from TTS) (0.1.0)\n",
            "Requirement already satisfied: gruut==2.2.3 in /usr/local/lib/python3.11/dist-packages (from gruut[de,es,fr]==2.2.3->TTS) (2.2.3)\n",
            "Requirement already satisfied: jamo in /usr/local/lib/python3.11/dist-packages (from TTS) (0.4.1)\n",
            "Requirement already satisfied: nltk in /usr/local/lib/python3.11/dist-packages (from TTS) (3.9.1)\n",
            "Requirement already satisfied: g2pkk>=0.1.1 in /usr/local/lib/python3.11/dist-packages (from TTS) (0.1.2)\n",
            "Requirement already satisfied: bangla in /usr/local/lib/python3.11/dist-packages (from TTS) (0.0.5)\n",
            "Requirement already satisfied: bnnumerizer in /usr/local/lib/python3.11/dist-packages (from TTS) (0.0.2)\n",
            "Requirement already satisfied: bnunicodenormalizer in /usr/local/lib/python3.11/dist-packages (from TTS) (0.1.7)\n",
            "Requirement already satisfied: einops>=0.6.0 in /usr/local/lib/python3.11/dist-packages (from TTS) (0.8.1)\n",
            "Requirement already satisfied: transformers>=4.33.0 in /usr/local/lib/python3.11/dist-packages (from TTS) (4.53.1)\n",
            "Requirement already satisfied: encodec>=0.1.1 in /usr/local/lib/python3.11/dist-packages (from TTS) (0.1.1)\n",
            "Requirement already satisfied: unidecode>=1.3.2 in /usr/local/lib/python3.11/dist-packages (from TTS) (1.4.0)\n",
            "Requirement already satisfied: num2words in /usr/local/lib/python3.11/dist-packages (from TTS) (0.5.14)\n",
            "Requirement already satisfied: spacy>=3 in /usr/local/lib/python3.11/dist-packages (from spacy[ja]>=3->TTS) (3.8.7)\n",
            "Requirement already satisfied: numpy>=1.24.3 in /usr/local/lib/python3.11/dist-packages (from TTS) (1.26.4)\n",
            "Requirement already satisfied: numba>=0.57.0 in /usr/local/lib/python3.11/dist-packages (from TTS) (0.60.0)\n",
            "Requirement already satisfied: Babel<3.0.0,>=2.8.0 in /usr/local/lib/python3.11/dist-packages (from gruut==2.2.3->gruut[de,es,fr]==2.2.3->TTS) (2.17.0)\n",
            "Requirement already satisfied: dateparser~=1.1.0 in /usr/local/lib/python3.11/dist-packages (from gruut==2.2.3->gruut[de,es,fr]==2.2.3->TTS) (1.1.8)\n",
            "Requirement already satisfied: gruut-ipa<1.0,>=0.12.0 in /usr/local/lib/python3.11/dist-packages (from gruut==2.2.3->gruut[de,es,fr]==2.2.3->TTS) (0.13.0)\n",
            "Requirement already satisfied: gruut-lang-en~=2.0.0 in /usr/local/lib/python3.11/dist-packages (from gruut==2.2.3->gruut[de,es,fr]==2.2.3->TTS) (2.0.1)\n",
            "Requirement already satisfied: jsonlines~=1.2.0 in /usr/local/lib/python3.11/dist-packages (from gruut==2.2.3->gruut[de,es,fr]==2.2.3->TTS) (1.2.0)\n",
            "Requirement already satisfied: networkx<3.0.0,>=2.5.0 in /usr/local/lib/python3.11/dist-packages (from gruut==2.2.3->gruut[de,es,fr]==2.2.3->TTS) (2.8.8)\n",
            "Requirement already satisfied: python-crfsuite~=0.9.7 in /usr/local/lib/python3.11/dist-packages (from gruut==2.2.3->gruut[de,es,fr]==2.2.3->TTS) (0.9.11)\n",
            "Requirement already satisfied: gruut-lang-de~=2.0.0 in /usr/local/lib/python3.11/dist-packages (from gruut[de,es,fr]==2.2.3->TTS) (2.0.1)\n",
            "Requirement already satisfied: gruut-lang-es~=2.0.0 in /usr/local/lib/python3.11/dist-packages (from gruut[de,es,fr]==2.2.3->TTS) (2.0.1)\n",
            "Requirement already satisfied: gruut-lang-fr~=2.0.0 in /usr/local/lib/python3.11/dist-packages (from gruut[de,es,fr]==2.2.3->TTS) (2.0.2)\n",
            "Requirement already satisfied: aiohappyeyeballs>=2.3.0 in /usr/local/lib/python3.11/dist-packages (from aiohttp>=3.8.1->TTS) (2.6.1)\n",
            "Requirement already satisfied: aiosignal>=1.1.2 in /usr/local/lib/python3.11/dist-packages (from aiohttp>=3.8.1->TTS) (1.4.0)\n",
            "Requirement already satisfied: attrs>=17.3.0 in /usr/local/lib/python3.11/dist-packages (from aiohttp>=3.8.1->TTS) (25.3.0)\n",
            "Requirement already satisfied: frozenlist>=1.1.1 in /usr/local/lib/python3.11/dist-packages (from aiohttp>=3.8.1->TTS) (1.7.0)\n",
            "Requirement already satisfied: multidict<7.0,>=4.5 in /usr/local/lib/python3.11/dist-packages (from aiohttp>=3.8.1->TTS) (6.6.3)\n",
            "Requirement already satisfied: propcache>=0.2.0 in /usr/local/lib/python3.11/dist-packages (from aiohttp>=3.8.1->TTS) (0.3.2)\n",
            "Requirement already satisfied: yarl<2.0,>=1.17.0 in /usr/local/lib/python3.11/dist-packages (from aiohttp>=3.8.1->TTS) (1.20.1)\n",
            "Requirement already satisfied: blinker>=1.9.0 in /usr/local/lib/python3.11/dist-packages (from flask>=2.0.1->TTS) (1.9.0)\n",
            "Requirement already satisfied: click>=8.1.3 in /usr/local/lib/python3.11/dist-packages (from flask>=2.0.1->TTS) (8.2.1)\n",
            "Requirement already satisfied: itsdangerous>=2.2.0 in /usr/local/lib/python3.11/dist-packages (from flask>=2.0.1->TTS) (2.2.0)\n",
            "Requirement already satisfied: jinja2>=3.1.2 in /usr/local/lib/python3.11/dist-packages (from flask>=2.0.1->TTS) (3.1.6)\n",
            "Requirement already satisfied: markupsafe>=2.1.1 in /usr/local/lib/python3.11/dist-packages (from flask>=2.0.1->TTS) (3.0.2)\n",
            "Requirement already satisfied: werkzeug>=3.1.0 in /usr/local/lib/python3.11/dist-packages (from flask>=2.0.1->TTS) (3.1.3)\n",
            "Requirement already satisfied: more_itertools>=8.5.0 in /usr/local/lib/python3.11/dist-packages (from inflect>=5.6.0->TTS) (10.7.0)\n",
            "Requirement already satisfied: typeguard>=4.0.1 in /usr/local/lib/python3.11/dist-packages (from inflect>=5.6.0->TTS) (4.4.4)\n",
            "Requirement already satisfied: audioread>=2.1.9 in /usr/local/lib/python3.11/dist-packages (from librosa>=0.10.0->TTS) (3.0.1)\n",
            "Requirement already satisfied: joblib>=1.0 in /usr/local/lib/python3.11/dist-packages (from librosa>=0.10.0->TTS) (1.5.1)\n",
            "Requirement already satisfied: decorator>=4.3.0 in /usr/local/lib/python3.11/dist-packages (from librosa>=0.10.0->TTS) (4.4.2)\n",
            "Requirement already satisfied: pooch>=1.1 in /usr/local/lib/python3.11/dist-packages (from librosa>=0.10.0->TTS) (1.8.2)\n",
            "Requirement already satisfied: soxr>=0.3.2 in /usr/local/lib/python3.11/dist-packages (from librosa>=0.10.0->TTS) (0.5.0.post1)\n",
            "Requirement already satisfied: typing_extensions>=4.1.1 in /usr/local/lib/python3.11/dist-packages (from librosa>=0.10.0->TTS) (4.14.1)\n",
            "Requirement already satisfied: lazy_loader>=0.1 in /usr/local/lib/python3.11/dist-packages (from librosa>=0.10.0->TTS) (0.4)\n",
            "Requirement already satisfied: msgpack>=1.0 in /usr/local/lib/python3.11/dist-packages (from librosa>=0.10.0->TTS) (1.1.1)\n",
            "Requirement already satisfied: contourpy>=1.0.1 in /usr/local/lib/python3.11/dist-packages (from matplotlib>=3.7.0->TTS) (1.3.2)\n",
            "Requirement already satisfied: cycler>=0.10 in /usr/local/lib/python3.11/dist-packages (from matplotlib>=3.7.0->TTS) (0.12.1)\n",
            "Requirement already satisfied: fonttools>=4.22.0 in /usr/local/lib/python3.11/dist-packages (from matplotlib>=3.7.0->TTS) (4.58.5)\n",
            "Requirement already satisfied: kiwisolver>=1.3.1 in /usr/local/lib/python3.11/dist-packages (from matplotlib>=3.7.0->TTS) (1.4.8)\n",
            "Requirement already satisfied: pillow>=8 in /usr/local/lib/python3.11/dist-packages (from matplotlib>=3.7.0->TTS) (11.2.1)\n",
            "Requirement already satisfied: pyparsing>=2.3.1 in /usr/local/lib/python3.11/dist-packages (from matplotlib>=3.7.0->TTS) (3.2.3)\n",
            "Requirement already satisfied: python-dateutil>=2.7 in /usr/local/lib/python3.11/dist-packages (from matplotlib>=3.7.0->TTS) (2.9.0.post0)\n",
            "Requirement already satisfied: docopt>=0.6.2 in /usr/local/lib/python3.11/dist-packages (from num2words->TTS) (0.6.2)\n",
            "Requirement already satisfied: llvmlite<0.44,>=0.43.0dev0 in /usr/local/lib/python3.11/dist-packages (from numba>=0.57.0->TTS) (0.43.0)\n",
            "Requirement already satisfied: pytz>=2020.1 in /usr/local/lib/python3.11/dist-packages (from pandas<2.0,>=1.4->TTS) (2025.2)\n",
            "Requirement already satisfied: threadpoolctl>=3.1.0 in /usr/local/lib/python3.11/dist-packages (from scikit-learn>=1.3.0->TTS) (3.6.0)\n",
            "Requirement already satisfied: cffi>=1.0 in /usr/local/lib/python3.11/dist-packages (from soundfile>=0.12.0->TTS) (1.17.1)\n",
            "Requirement already satisfied: spacy-legacy<3.1.0,>=3.0.11 in /usr/local/lib/python3.11/dist-packages (from spacy>=3->spacy[ja]>=3->TTS) (3.0.12)\n",
            "Requirement already satisfied: spacy-loggers<2.0.0,>=1.0.0 in /usr/local/lib/python3.11/dist-packages (from spacy>=3->spacy[ja]>=3->TTS) (1.0.5)\n",
            "Requirement already satisfied: murmurhash<1.1.0,>=0.28.0 in /usr/local/lib/python3.11/dist-packages (from spacy>=3->spacy[ja]>=3->TTS) (1.0.13)\n",
            "Requirement already satisfied: cymem<2.1.0,>=2.0.2 in /usr/local/lib/python3.11/dist-packages (from spacy>=3->spacy[ja]>=3->TTS) (2.0.11)\n",
            "Requirement already satisfied: preshed<3.1.0,>=3.0.2 in /usr/local/lib/python3.11/dist-packages (from spacy>=3->spacy[ja]>=3->TTS) (3.0.10)\n",
            "Requirement already satisfied: thinc<8.4.0,>=8.3.4 in /usr/local/lib/python3.11/dist-packages (from spacy>=3->spacy[ja]>=3->TTS) (8.3.4)\n",
            "Requirement already satisfied: wasabi<1.2.0,>=0.9.1 in /usr/local/lib/python3.11/dist-packages (from spacy>=3->spacy[ja]>=3->TTS) (1.1.3)\n",
            "Requirement already satisfied: srsly<3.0.0,>=2.4.3 in /usr/local/lib/python3.11/dist-packages (from spacy>=3->spacy[ja]>=3->TTS) (2.5.1)\n",
            "Requirement already satisfied: catalogue<2.1.0,>=2.0.6 in /usr/local/lib/python3.11/dist-packages (from spacy>=3->spacy[ja]>=3->TTS) (2.0.10)\n",
            "Requirement already satisfied: weasel<0.5.0,>=0.1.0 in /usr/local/lib/python3.11/dist-packages (from spacy>=3->spacy[ja]>=3->TTS) (0.4.1)\n",
            "Requirement already satisfied: typer<1.0.0,>=0.3.0 in /usr/local/lib/python3.11/dist-packages (from spacy>=3->spacy[ja]>=3->TTS) (0.16.0)\n",
            "Requirement already satisfied: requests<3.0.0,>=2.13.0 in /usr/local/lib/python3.11/dist-packages (from spacy>=3->spacy[ja]>=3->TTS) (2.32.3)\n",
            "Requirement already satisfied: pydantic!=1.8,!=1.8.1,<3.0.0,>=1.7.4 in /usr/local/lib/python3.11/dist-packages (from spacy>=3->spacy[ja]>=3->TTS) (2.11.7)\n",
            "Requirement already satisfied: setuptools in /usr/local/lib/python3.11/dist-packages (from spacy>=3->spacy[ja]>=3->TTS) (75.2.0)\n",
            "Requirement already satisfied: langcodes<4.0.0,>=3.2.0 in /usr/local/lib/python3.11/dist-packages (from spacy>=3->spacy[ja]>=3->TTS) (3.5.0)\n",
            "Requirement already satisfied: sudachipy!=0.6.1,>=0.5.2 in /usr/local/lib/python3.11/dist-packages (from spacy[ja]>=3->TTS) (0.6.10)\n",
            "Requirement already satisfied: sudachidict_core>=20211220 in /usr/local/lib/python3.11/dist-packages (from spacy[ja]>=3->TTS) (20250515)\n",
            "Requirement already satisfied: filelock in /usr/local/lib/python3.11/dist-packages (from torch>=2.1->TTS) (3.18.0)\n",
            "Requirement already satisfied: nvidia-cuda-nvrtc-cu12==12.4.127 in /usr/local/lib/python3.11/dist-packages (from torch>=2.1->TTS) (12.4.127)\n",
            "Requirement already satisfied: nvidia-cuda-runtime-cu12==12.4.127 in /usr/local/lib/python3.11/dist-packages (from torch>=2.1->TTS) (12.4.127)\n",
            "Requirement already satisfied: nvidia-cuda-cupti-cu12==12.4.127 in /usr/local/lib/python3.11/dist-packages (from torch>=2.1->TTS) (12.4.127)\n",
            "Requirement already satisfied: nvidia-cudnn-cu12==9.1.0.70 in /usr/local/lib/python3.11/dist-packages (from torch>=2.1->TTS) (9.1.0.70)\n",
            "Requirement already satisfied: nvidia-cublas-cu12==12.4.5.8 in /usr/local/lib/python3.11/dist-packages (from torch>=2.1->TTS) (12.4.5.8)\n",
            "Requirement already satisfied: nvidia-cufft-cu12==11.2.1.3 in /usr/local/lib/python3.11/dist-packages (from torch>=2.1->TTS) (11.2.1.3)\n",
            "Requirement already satisfied: nvidia-curand-cu12==10.3.5.147 in /usr/local/lib/python3.11/dist-packages (from torch>=2.1->TTS) (10.3.5.147)\n",
            "Requirement already satisfied: nvidia-cusolver-cu12==11.6.1.9 in /usr/local/lib/python3.11/dist-packages (from torch>=2.1->TTS) (11.6.1.9)\n",
            "Requirement already satisfied: nvidia-cusparse-cu12==12.3.1.170 in /usr/local/lib/python3.11/dist-packages (from torch>=2.1->TTS) (12.3.1.170)\n",
            "Requirement already satisfied: nvidia-cusparselt-cu12==0.6.2 in /usr/local/lib/python3.11/dist-packages (from torch>=2.1->TTS) (0.6.2)\n",
            "Requirement already satisfied: nvidia-nccl-cu12==2.21.5 in /usr/local/lib/python3.11/dist-packages (from torch>=2.1->TTS) (2.21.5)\n",
            "Requirement already satisfied: nvidia-nvtx-cu12==12.4.127 in /usr/local/lib/python3.11/dist-packages (from torch>=2.1->TTS) (12.4.127)\n",
            "Requirement already satisfied: nvidia-nvjitlink-cu12==12.4.127 in /usr/local/lib/python3.11/dist-packages (from torch>=2.1->TTS) (12.4.127)\n",
            "Requirement already satisfied: triton==3.2.0 in /usr/local/lib/python3.11/dist-packages (from torch>=2.1->TTS) (3.2.0)\n",
            "Requirement already satisfied: sympy==1.13.1 in /usr/local/lib/python3.11/dist-packages (from torch>=2.1->TTS) (1.13.1)\n",
            "Requirement already satisfied: mpmath<1.4,>=1.1.0 in /usr/local/lib/python3.11/dist-packages (from sympy==1.13.1->torch>=2.1->TTS) (1.3.0)\n",
            "Requirement already satisfied: psutil in /usr/local/lib/python3.11/dist-packages (from trainer>=0.0.32->TTS) (5.9.5)\n",
            "Requirement already satisfied: tensorboard in /usr/local/lib/python3.11/dist-packages (from trainer>=0.0.32->TTS) (2.18.0)\n",
            "Requirement already satisfied: huggingface-hub<1.0,>=0.30.0 in /usr/local/lib/python3.11/dist-packages (from transformers>=4.33.0->TTS) (0.33.2)\n",
            "Requirement already satisfied: regex!=2019.12.17 in /usr/local/lib/python3.11/dist-packages (from transformers>=4.33.0->TTS) (2024.11.6)\n",
            "Requirement already satisfied: tokenizers<0.22,>=0.21 in /usr/local/lib/python3.11/dist-packages (from transformers>=4.33.0->TTS) (0.21.2)\n",
            "Requirement already satisfied: safetensors>=0.4.3 in /usr/local/lib/python3.11/dist-packages (from transformers>=4.33.0->TTS) (0.5.3)\n",
            "Requirement already satisfied: pynndescent>=0.5 in /usr/local/lib/python3.11/dist-packages (from umap-learn>=0.5.1->TTS) (0.5.13)\n",
            "Requirement already satisfied: pycparser in /usr/local/lib/python3.11/dist-packages (from cffi>=1.0->soundfile>=0.12.0->TTS) (2.22)\n",
            "Requirement already satisfied: tzlocal in /usr/local/lib/python3.11/dist-packages (from dateparser~=1.1.0->gruut==2.2.3->gruut[de,es,fr]==2.2.3->TTS) (5.3.1)\n",
            "Requirement already satisfied: hf-xet<2.0.0,>=1.1.2 in /usr/local/lib/python3.11/dist-packages (from huggingface-hub<1.0,>=0.30.0->transformers>=4.33.0->TTS) (1.1.5)\n",
            "Requirement already satisfied: six in /usr/local/lib/python3.11/dist-packages (from jsonlines~=1.2.0->gruut==2.2.3->gruut[de,es,fr]==2.2.3->TTS) (1.17.0)\n",
            "Requirement already satisfied: language-data>=1.2 in /usr/local/lib/python3.11/dist-packages (from langcodes<4.0.0,>=3.2.0->spacy>=3->spacy[ja]>=3->TTS) (1.3.0)\n",
            "Requirement already satisfied: platformdirs>=2.5.0 in /usr/local/lib/python3.11/dist-packages (from pooch>=1.1->librosa>=0.10.0->TTS) (4.3.8)\n",
            "Requirement already satisfied: annotated-types>=0.6.0 in /usr/local/lib/python3.11/dist-packages (from pydantic!=1.8,!=1.8.1,<3.0.0,>=1.7.4->spacy>=3->spacy[ja]>=3->TTS) (0.7.0)\n",
            "Requirement already satisfied: pydantic-core==2.33.2 in /usr/local/lib/python3.11/dist-packages (from pydantic!=1.8,!=1.8.1,<3.0.0,>=1.7.4->spacy>=3->spacy[ja]>=3->TTS) (2.33.2)\n",
            "Requirement already satisfied: typing-inspection>=0.4.0 in /usr/local/lib/python3.11/dist-packages (from pydantic!=1.8,!=1.8.1,<3.0.0,>=1.7.4->spacy>=3->spacy[ja]>=3->TTS) (0.4.1)\n",
            "Requirement already satisfied: charset-normalizer<4,>=2 in /usr/local/lib/python3.11/dist-packages (from requests<3.0.0,>=2.13.0->spacy>=3->spacy[ja]>=3->TTS) (3.4.2)\n",
            "Requirement already satisfied: idna<4,>=2.5 in /usr/local/lib/python3.11/dist-packages (from requests<3.0.0,>=2.13.0->spacy>=3->spacy[ja]>=3->TTS) (3.10)\n",
            "Requirement already satisfied: urllib3<3,>=1.21.1 in /usr/local/lib/python3.11/dist-packages (from requests<3.0.0,>=2.13.0->spacy>=3->spacy[ja]>=3->TTS) (2.4.0)\n",
            "Requirement already satisfied: certifi>=2017.4.17 in /usr/local/lib/python3.11/dist-packages (from requests<3.0.0,>=2.13.0->spacy>=3->spacy[ja]>=3->TTS) (2025.7.9)\n",
            "Requirement already satisfied: blis<1.3.0,>=1.2.0 in /usr/local/lib/python3.11/dist-packages (from thinc<8.4.0,>=8.3.4->spacy>=3->spacy[ja]>=3->TTS) (1.2.1)\n",
            "Requirement already satisfied: confection<1.0.0,>=0.0.1 in /usr/local/lib/python3.11/dist-packages (from thinc<8.4.0,>=8.3.4->spacy>=3->spacy[ja]>=3->TTS) (0.1.5)\n",
            "Requirement already satisfied: shellingham>=1.3.0 in /usr/local/lib/python3.11/dist-packages (from typer<1.0.0,>=0.3.0->spacy>=3->spacy[ja]>=3->TTS) (1.5.4)\n",
            "Requirement already satisfied: rich>=10.11.0 in /usr/local/lib/python3.11/dist-packages (from typer<1.0.0,>=0.3.0->spacy>=3->spacy[ja]>=3->TTS) (13.9.4)\n",
            "Requirement already satisfied: cloudpathlib<1.0.0,>=0.7.0 in /usr/local/lib/python3.11/dist-packages (from weasel<0.5.0,>=0.1.0->spacy>=3->spacy[ja]>=3->TTS) (0.21.1)\n",
            "Requirement already satisfied: smart-open<8.0.0,>=5.2.1 in /usr/local/lib/python3.11/dist-packages (from weasel<0.5.0,>=0.1.0->spacy>=3->spacy[ja]>=3->TTS) (7.3.0.post1)\n",
            "Requirement already satisfied: absl-py>=0.4 in /usr/local/lib/python3.11/dist-packages (from tensorboard->trainer>=0.0.32->TTS) (1.4.0)\n",
            "Requirement already satisfied: grpcio>=1.48.2 in /usr/local/lib/python3.11/dist-packages (from tensorboard->trainer>=0.0.32->TTS) (1.73.1)\n",
            "Requirement already satisfied: markdown>=2.6.8 in /usr/local/lib/python3.11/dist-packages (from tensorboard->trainer>=0.0.32->TTS) (3.8.2)\n",
            "Requirement already satisfied: protobuf!=4.24.0,>=3.19.6 in /usr/local/lib/python3.11/dist-packages (from tensorboard->trainer>=0.0.32->TTS) (5.29.5)\n",
            "Requirement already satisfied: tensorboard-data-server<0.8.0,>=0.7.0 in /usr/local/lib/python3.11/dist-packages (from tensorboard->trainer>=0.0.32->TTS) (0.7.2)\n",
            "Requirement already satisfied: marisa-trie>=1.1.0 in /usr/local/lib/python3.11/dist-packages (from language-data>=1.2->langcodes<4.0.0,>=3.2.0->spacy>=3->spacy[ja]>=3->TTS) (1.2.1)\n",
            "Requirement already satisfied: markdown-it-py>=2.2.0 in /usr/local/lib/python3.11/dist-packages (from rich>=10.11.0->typer<1.0.0,>=0.3.0->spacy>=3->spacy[ja]>=3->TTS) (3.0.0)\n",
            "Requirement already satisfied: pygments<3.0.0,>=2.13.0 in /usr/local/lib/python3.11/dist-packages (from rich>=10.11.0->typer<1.0.0,>=0.3.0->spacy>=3->spacy[ja]>=3->TTS) (2.19.2)\n",
            "Requirement already satisfied: wrapt in /usr/local/lib/python3.11/dist-packages (from smart-open<8.0.0,>=5.2.1->weasel<0.5.0,>=0.1.0->spacy>=3->spacy[ja]>=3->TTS) (1.12.1)\n",
            "Requirement already satisfied: mdurl~=0.1 in /usr/local/lib/python3.11/dist-packages (from markdown-it-py>=2.2.0->rich>=10.11.0->typer<1.0.0,>=0.3.0->spacy>=3->spacy[ja]>=3->TTS) (0.1.2)\n"
          ]
        }
      ],
      "source": [
        "#!pip install TTS\n",
        "# # install correct tts version\n",
        "!pip install git+https://github.com/coqui-ai/TTS.git"
      ]
    },
    {
      "cell_type": "code",
      "source": [
        "!pip install --upgrade pandas numpy networkx bokeh"
      ],
      "metadata": {
        "colab": {
          "base_uri": "https://localhost:8080/",
          "height": 1000
        },
        "id": "EKhN9a36sJuD",
        "outputId": "aa1815df-6176-4aa2-f5d6-8d100880188c"
      },
      "execution_count": 3,
      "outputs": [
        {
          "output_type": "stream",
          "name": "stdout",
          "text": [
            "Requirement already satisfied: pandas in /usr/local/lib/python3.11/dist-packages (1.5.3)\n",
            "Collecting pandas\n",
            "  Downloading pandas-2.3.1-cp311-cp311-manylinux_2_17_x86_64.manylinux2014_x86_64.whl.metadata (91 kB)\n",
            "\u001b[2K     \u001b[90m━━━━━━━━━━━━━━━━━━━━━━━━━━━━━━━━━━━━━━━━\u001b[0m \u001b[32m91.2/91.2 kB\u001b[0m \u001b[31m3.5 MB/s\u001b[0m eta \u001b[36m0:00:00\u001b[0m\n",
            "\u001b[?25hRequirement already satisfied: numpy in /usr/local/lib/python3.11/dist-packages (1.26.4)\n",
            "Collecting numpy\n",
            "  Downloading numpy-2.3.1-cp311-cp311-manylinux_2_28_x86_64.whl.metadata (62 kB)\n",
            "\u001b[2K     \u001b[90m━━━━━━━━━━━━━━━━━━━━━━━━━━━━━━━━━━━━━━━━\u001b[0m \u001b[32m62.1/62.1 kB\u001b[0m \u001b[31m4.4 MB/s\u001b[0m eta \u001b[36m0:00:00\u001b[0m\n",
            "\u001b[?25hRequirement already satisfied: networkx in /usr/local/lib/python3.11/dist-packages (2.8.8)\n",
            "Collecting networkx\n",
            "  Downloading networkx-3.5-py3-none-any.whl.metadata (6.3 kB)\n",
            "Requirement already satisfied: bokeh in /usr/local/lib/python3.11/dist-packages (1.4.0)\n",
            "Collecting bokeh\n",
            "  Downloading bokeh-3.7.3-py3-none-any.whl.metadata (12 kB)\n",
            "Requirement already satisfied: python-dateutil>=2.8.2 in /usr/local/lib/python3.11/dist-packages (from pandas) (2.9.0.post0)\n",
            "Requirement already satisfied: pytz>=2020.1 in /usr/local/lib/python3.11/dist-packages (from pandas) (2025.2)\n",
            "Requirement already satisfied: tzdata>=2022.7 in /usr/local/lib/python3.11/dist-packages (from pandas) (2025.2)\n",
            "Requirement already satisfied: Jinja2>=2.9 in /usr/local/lib/python3.11/dist-packages (from bokeh) (3.1.6)\n",
            "Requirement already satisfied: contourpy>=1.2 in /usr/local/lib/python3.11/dist-packages (from bokeh) (1.3.2)\n",
            "Requirement already satisfied: narwhals>=1.13 in /usr/local/lib/python3.11/dist-packages (from bokeh) (1.46.0)\n",
            "Requirement already satisfied: packaging>=16.8 in /usr/local/lib/python3.11/dist-packages (from bokeh) (24.2)\n",
            "Requirement already satisfied: pillow>=7.1.0 in /usr/local/lib/python3.11/dist-packages (from bokeh) (11.2.1)\n",
            "Requirement already satisfied: PyYAML>=3.10 in /usr/local/lib/python3.11/dist-packages (from bokeh) (6.0.2)\n",
            "Requirement already satisfied: tornado>=6.2 in /usr/local/lib/python3.11/dist-packages (from bokeh) (6.4.2)\n",
            "Requirement already satisfied: xyzservices>=2021.09.1 in /usr/local/lib/python3.11/dist-packages (from bokeh) (2025.4.0)\n",
            "Requirement already satisfied: MarkupSafe>=2.0 in /usr/local/lib/python3.11/dist-packages (from Jinja2>=2.9->bokeh) (3.0.2)\n",
            "Requirement already satisfied: six>=1.5 in /usr/local/lib/python3.11/dist-packages (from python-dateutil>=2.8.2->pandas) (1.17.0)\n",
            "Downloading pandas-2.3.1-cp311-cp311-manylinux_2_17_x86_64.manylinux2014_x86_64.whl (12.4 MB)\n",
            "\u001b[2K   \u001b[90m━━━━━━━━━━━━━━━━━━━━━━━━━━━━━━━━━━━━━━━━\u001b[0m \u001b[32m12.4/12.4 MB\u001b[0m \u001b[31m104.3 MB/s\u001b[0m eta \u001b[36m0:00:00\u001b[0m\n",
            "\u001b[?25hDownloading numpy-2.3.1-cp311-cp311-manylinux_2_28_x86_64.whl (16.9 MB)\n",
            "\u001b[2K   \u001b[90m━━━━━━━━━━━━━━━━━━━━━━━━━━━━━━━━━━━━━━━━\u001b[0m \u001b[32m16.9/16.9 MB\u001b[0m \u001b[31m107.7 MB/s\u001b[0m eta \u001b[36m0:00:00\u001b[0m\n",
            "\u001b[?25hDownloading networkx-3.5-py3-none-any.whl (2.0 MB)\n",
            "\u001b[2K   \u001b[90m━━━━━━━━━━━━━━━━━━━━━━━━━━━━━━━━━━━━━━━━\u001b[0m \u001b[32m2.0/2.0 MB\u001b[0m \u001b[31m78.2 MB/s\u001b[0m eta \u001b[36m0:00:00\u001b[0m\n",
            "\u001b[?25hDownloading bokeh-3.7.3-py3-none-any.whl (7.0 MB)\n",
            "\u001b[2K   \u001b[90m━━━━━━━━━━━━━━━━━━━━━━━━━━━━━━━━━━━━━━━━\u001b[0m \u001b[32m7.0/7.0 MB\u001b[0m \u001b[31m104.8 MB/s\u001b[0m eta \u001b[36m0:00:00\u001b[0m\n",
            "\u001b[?25hInstalling collected packages: numpy, networkx, pandas, bokeh\n",
            "  Attempting uninstall: numpy\n",
            "    Found existing installation: numpy 1.26.4\n",
            "    Uninstalling numpy-1.26.4:\n",
            "      Successfully uninstalled numpy-1.26.4\n",
            "  Attempting uninstall: networkx\n",
            "    Found existing installation: networkx 2.8.8\n",
            "    Uninstalling networkx-2.8.8:\n",
            "      Successfully uninstalled networkx-2.8.8\n",
            "  Attempting uninstall: pandas\n",
            "    Found existing installation: pandas 1.5.3\n",
            "    Uninstalling pandas-1.5.3:\n",
            "      Successfully uninstalled pandas-1.5.3\n",
            "  Attempting uninstall: bokeh\n",
            "    Found existing installation: bokeh 1.4.0\n",
            "    Uninstalling bokeh-1.4.0:\n",
            "      Successfully uninstalled bokeh-1.4.0\n",
            "\u001b[31mERROR: pip's dependency resolver does not currently take into account all the packages that are installed. This behaviour is the source of the following dependency conflicts.\n",
            "gruut 2.2.3 requires networkx<3.0.0,>=2.5.0, but you have networkx 3.5 which is incompatible.\n",
            "gruut 2.2.3 requires numpy<2.0.0,>=1.19.0, but you have numpy 2.3.1 which is incompatible.\n",
            "tts 0.22.0 requires pandas<2.0,>=1.4, but you have pandas 2.3.1 which is incompatible.\n",
            "google-colab 1.0.0 requires pandas==2.2.2, but you have pandas 2.3.1 which is incompatible.\n",
            "numba 0.60.0 requires numpy<2.1,>=1.22, but you have numpy 2.3.1 which is incompatible.\n",
            "cudf-cu12 25.2.1 requires pandas<2.2.4dev0,>=2.0, but you have pandas 2.3.1 which is incompatible.\n",
            "opencv-python-headless 4.12.0.88 requires numpy<2.3.0,>=2; python_version >= \"3.9\", but you have numpy 2.3.1 which is incompatible.\n",
            "cupy-cuda12x 13.3.0 requires numpy<2.3,>=1.22, but you have numpy 2.3.1 which is incompatible.\n",
            "tensorflow 2.18.0 requires numpy<2.1.0,>=1.26.0, but you have numpy 2.3.1 which is incompatible.\n",
            "dask-cudf-cu12 25.2.2 requires pandas<2.2.4dev0,>=2.0, but you have pandas 2.3.1 which is incompatible.\u001b[0m\u001b[31m\n",
            "\u001b[0mSuccessfully installed bokeh-3.7.3 networkx-3.5 numpy-2.3.1 pandas-2.3.1\n"
          ]
        },
        {
          "output_type": "display_data",
          "data": {
            "application/vnd.colab-display-data+json": {
              "pip_warning": {
                "packages": [
                  "numpy"
                ]
              },
              "id": "d475467de83a452f92b5a02b3244cf0e"
            }
          },
          "metadata": {}
        }
      ]
    },
    {
      "cell_type": "code",
      "source": [
        "!tts --help"
      ],
      "metadata": {
        "colab": {
          "base_uri": "https://localhost:8080/"
        },
        "id": "sw36aolyW72v",
        "outputId": "7586a31a-5d16-43da-e43f-90f0e7e40579"
      },
      "execution_count": 1,
      "outputs": [
        {
          "output_type": "stream",
          "name": "stdout",
          "text": [
            "usage: tts [-h] [--list_models [LIST_MODELS]]\n",
            "           [--model_info_by_idx MODEL_INFO_BY_IDX]\n",
            "           [--model_info_by_name MODEL_INFO_BY_NAME] [--text TEXT]\n",
            "           [--model_name MODEL_NAME] [--vocoder_name VOCODER_NAME]\n",
            "           [--config_path CONFIG_PATH] [--model_path MODEL_PATH]\n",
            "           [--out_path OUT_PATH] [--use_cuda USE_CUDA] [--device DEVICE]\n",
            "           [--vocoder_path VOCODER_PATH]\n",
            "           [--vocoder_config_path VOCODER_CONFIG_PATH]\n",
            "           [--encoder_path ENCODER_PATH]\n",
            "           [--encoder_config_path ENCODER_CONFIG_PATH] [--pipe_out [PIPE_OUT]]\n",
            "           [--speakers_file_path SPEAKERS_FILE_PATH]\n",
            "           [--language_ids_file_path LANGUAGE_IDS_FILE_PATH]\n",
            "           [--speaker_idx SPEAKER_IDX] [--language_idx LANGUAGE_IDX]\n",
            "           [--speaker_wav SPEAKER_WAV [SPEAKER_WAV ...]]\n",
            "           [--gst_style GST_STYLE]\n",
            "           [--capacitron_style_wav CAPACITRON_STYLE_WAV]\n",
            "           [--capacitron_style_text CAPACITRON_STYLE_TEXT]\n",
            "           [--list_speaker_idxs [LIST_SPEAKER_IDXS]]\n",
            "           [--list_language_idxs [LIST_LANGUAGE_IDXS]]\n",
            "           [--save_spectogram SAVE_SPECTOGRAM] [--reference_wav REFERENCE_WAV]\n",
            "           [--reference_speaker_idx REFERENCE_SPEAKER_IDX]\n",
            "           [--progress_bar PROGRESS_BAR] [--source_wav SOURCE_WAV]\n",
            "           [--target_wav TARGET_WAV] [--voice_dir VOICE_DIR]\n",
            "\n",
            "Synthesize speech on command line.\n",
            "\n",
            "You can either use your trained model or choose a model from the provided list.\n",
            "\n",
            "If you don't specify any models, then it uses LJSpeech based English model.\n",
            "\n",
            "#### Single Speaker Models\n",
            "\n",
            "- List provided models:\n",
            "\n",
            "  ```\n",
            "  $ tts --list_models\n",
            "  ```\n",
            "\n",
            "- Get model info (for both tts_models and vocoder_models):\n",
            "\n",
            "  - Query by type/name:\n",
            "    The model_info_by_name uses the name as it from the --list_models.\n",
            "    $ tts --model_info_by_name \"<model_type>/<language>/<dataset>/<model_name>\"\n",
            "    For example:\n",
            "    $ tts --model_info_by_name tts_models/tr/common-voice/glow-tts\n",
            "    $ tts --model_info_by_name vocoder_models/en/ljspeech/hifigan_v2\n",
            "  - Query by type/idx:\n",
            "    The model_query_idx uses the corresponding idx from --list_models.\n",
            "\n",
            "    $ tts --model_info_by_idx \"<model_type>/<model_query_idx>\"\n",
            "\n",
            "    For example:\n",
            "\n",
            "    $ tts --model_info_by_idx tts_models/3\n",
            "\n",
            "  - Query info for model info by full name:\n",
            "    $ tts --model_info_by_name \"<model_type>/<language>/<dataset>/<model_name>\"\n",
            "\n",
            "- Run TTS with default models:\n",
            "\n",
            "  ```\n",
            "  $ tts --text \"Text for TTS\" --out_path output/path/speech.wav\n",
            "  ```\n",
            "\n",
            "- Run TTS and pipe out the generated TTS wav file data:\n",
            "\n",
            "  ```\n",
            "  $ tts --text \"Text for TTS\" --pipe_out --out_path output/path/speech.wav | aplay\n",
            "  ```\n",
            "\n",
            "- Run a TTS model with its default vocoder model:\n",
            "\n",
            "  ```\n",
            "  $ tts --text \"Text for TTS\" --model_name \"<model_type>/<language>/<dataset>/<model_name>\" --out_path output/path/speech.wav\n",
            "  ```\n",
            "\n",
            "  For example:\n",
            "\n",
            "  ```\n",
            "  $ tts --text \"Text for TTS\" --model_name \"tts_models/en/ljspeech/glow-tts\" --out_path output/path/speech.wav\n",
            "  ```\n",
            "\n",
            "- Run with specific TTS and vocoder models from the list:\n",
            "\n",
            "  ```\n",
            "  $ tts --text \"Text for TTS\" --model_name \"<model_type>/<language>/<dataset>/<model_name>\" --vocoder_name \"<model_type>/<language>/<dataset>/<model_name>\" --out_path output/path/speech.wav\n",
            "  ```\n",
            "\n",
            "  For example:\n",
            "\n",
            "  ```\n",
            "  $ tts --text \"Text for TTS\" --model_name \"tts_models/en/ljspeech/glow-tts\" --vocoder_name \"vocoder_models/en/ljspeech/univnet\" --out_path output/path/speech.wav\n",
            "  ```\n",
            "\n",
            "- Run your own TTS model (Using Griffin-Lim Vocoder):\n",
            "\n",
            "  ```\n",
            "  $ tts --text \"Text for TTS\" --model_path path/to/model.pth --config_path path/to/config.json --out_path output/path/speech.wav\n",
            "  ```\n",
            "\n",
            "- Run your own TTS and Vocoder models:\n",
            "\n",
            "  ```\n",
            "  $ tts --text \"Text for TTS\" --model_path path/to/model.pth --config_path path/to/config.json --out_path output/path/speech.wav\n",
            "      --vocoder_path path/to/vocoder.pth --vocoder_config_path path/to/vocoder_config.json\n",
            "  ```\n",
            "\n",
            "#### Multi-speaker Models\n",
            "\n",
            "- List the available speakers and choose a <speaker_id> among them:\n",
            "\n",
            "  ```\n",
            "  $ tts --model_name \"<language>/<dataset>/<model_name>\"  --list_speaker_idxs\n",
            "  ```\n",
            "\n",
            "- Run the multi-speaker TTS model with the target speaker ID:\n",
            "\n",
            "  ```\n",
            "  $ tts --text \"Text for TTS.\" --out_path output/path/speech.wav --model_name \"<language>/<dataset>/<model_name>\"  --speaker_idx <speaker_id>\n",
            "  ```\n",
            "\n",
            "- Run your own multi-speaker TTS model:\n",
            "\n",
            "  ```\n",
            "  $ tts --text \"Text for TTS\" --out_path output/path/speech.wav --model_path path/to/model.pth --config_path path/to/config.json --speakers_file_path path/to/speaker.json --speaker_idx <speaker_id>\n",
            "  ```\n",
            "\n",
            "### Voice Conversion Models\n",
            "\n",
            "```\n",
            "$ tts --out_path output/path/speech.wav --model_name \"<language>/<dataset>/<model_name>\" --source_wav <path/to/speaker/wav> --target_wav <path/to/reference/wav>\n",
            "```\n",
            "\n",
            "options:\n",
            "  -h, --help            show this help message and exit\n",
            "  --list_models [LIST_MODELS]\n",
            "                        list available pre-trained TTS and vocoder models.\n",
            "  --model_info_by_idx MODEL_INFO_BY_IDX\n",
            "                        model info using query format: <model_type>/<model_query_idx>\n",
            "  --model_info_by_name MODEL_INFO_BY_NAME\n",
            "                        model info using query format: <model_type>/<language>/<dataset>/<model_name>\n",
            "  --text TEXT           Text to generate speech.\n",
            "  --model_name MODEL_NAME\n",
            "                        Name of one of the pre-trained TTS models in format <language>/<dataset>/<model_name>\n",
            "  --vocoder_name VOCODER_NAME\n",
            "                        Name of one of the pre-trained  vocoder models in format <language>/<dataset>/<model_name>\n",
            "  --config_path CONFIG_PATH\n",
            "                        Path to model config file.\n",
            "  --model_path MODEL_PATH\n",
            "                        Path to model file.\n",
            "  --out_path OUT_PATH   Output wav file path.\n",
            "  --use_cuda USE_CUDA   Run model on CUDA.\n",
            "  --device DEVICE       Device to run model on.\n",
            "  --vocoder_path VOCODER_PATH\n",
            "                        Path to vocoder model file. If it is not defined, model uses GL as vocoder. Please make sure that you installed vocoder library before (WaveRNN).\n",
            "  --vocoder_config_path VOCODER_CONFIG_PATH\n",
            "                        Path to vocoder model config file.\n",
            "  --encoder_path ENCODER_PATH\n",
            "                        Path to speaker encoder model file.\n",
            "  --encoder_config_path ENCODER_CONFIG_PATH\n",
            "                        Path to speaker encoder config file.\n",
            "  --pipe_out [PIPE_OUT]\n",
            "                        stdout the generated TTS wav file for shell pipe.\n",
            "  --speakers_file_path SPEAKERS_FILE_PATH\n",
            "                        JSON file for multi-speaker model.\n",
            "  --language_ids_file_path LANGUAGE_IDS_FILE_PATH\n",
            "                        JSON file for multi-lingual model.\n",
            "  --speaker_idx SPEAKER_IDX\n",
            "                        Target speaker ID for a multi-speaker TTS model.\n",
            "  --language_idx LANGUAGE_IDX\n",
            "                        Target language ID for a multi-lingual TTS model.\n",
            "  --speaker_wav SPEAKER_WAV [SPEAKER_WAV ...]\n",
            "                        wav file(s) to condition a multi-speaker TTS model with a Speaker Encoder. You can give multiple file paths. The d_vectors is computed as their average.\n",
            "  --gst_style GST_STYLE\n",
            "                        Wav path file for GST style reference.\n",
            "  --capacitron_style_wav CAPACITRON_STYLE_WAV\n",
            "                        Wav path file for Capacitron prosody reference.\n",
            "  --capacitron_style_text CAPACITRON_STYLE_TEXT\n",
            "                        Transcription of the reference.\n",
            "  --list_speaker_idxs [LIST_SPEAKER_IDXS]\n",
            "                        List available speaker ids for the defined multi-speaker model.\n",
            "  --list_language_idxs [LIST_LANGUAGE_IDXS]\n",
            "                        List available language ids for the defined multi-lingual model.\n",
            "  --save_spectogram SAVE_SPECTOGRAM\n",
            "                        If true save raw spectogram for further (vocoder) processing in out_path.\n",
            "  --reference_wav REFERENCE_WAV\n",
            "                        Reference wav file to convert in the voice of the speaker_idx or speaker_wav\n",
            "  --reference_speaker_idx REFERENCE_SPEAKER_IDX\n",
            "                        speaker ID of the reference_wav speaker (If not provided the embedding will be computed using the Speaker Encoder).\n",
            "  --progress_bar PROGRESS_BAR\n",
            "                        If true shows a progress bar for the model download. Defaults to True\n",
            "  --source_wav SOURCE_WAV\n",
            "                        Original audio file to convert in the voice of the target_wav\n",
            "  --target_wav TARGET_WAV\n",
            "                        Target audio file to convert in the voice of the source_wav\n",
            "  --voice_dir VOICE_DIR\n",
            "                        Voice dir for tortoise model\n"
          ]
        }
      ]
    },
    {
      "cell_type": "code",
      "source": [
        "from google.colab import files\n",
        "uploaded = files.upload()"
      ],
      "metadata": {
        "colab": {
          "base_uri": "https://localhost:8080/",
          "height": 73
        },
        "id": "AGCE7WxRdXJP",
        "outputId": "a126de36-26b8-4551-eb7d-cecabae9f7d3"
      },
      "execution_count": 2,
      "outputs": [
        {
          "output_type": "display_data",
          "data": {
            "text/plain": [
              "<IPython.core.display.HTML object>"
            ],
            "text/html": [
              "\n",
              "     <input type=\"file\" id=\"files-9d0bdb17-12ee-4dc6-82d6-f98b83b6fa98\" name=\"files[]\" multiple disabled\n",
              "        style=\"border:none\" />\n",
              "     <output id=\"result-9d0bdb17-12ee-4dc6-82d6-f98b83b6fa98\">\n",
              "      Upload widget is only available when the cell has been executed in the\n",
              "      current browser session. Please rerun this cell to enable.\n",
              "      </output>\n",
              "      <script>// Copyright 2017 Google LLC\n",
              "//\n",
              "// Licensed under the Apache License, Version 2.0 (the \"License\");\n",
              "// you may not use this file except in compliance with the License.\n",
              "// You may obtain a copy of the License at\n",
              "//\n",
              "//      http://www.apache.org/licenses/LICENSE-2.0\n",
              "//\n",
              "// Unless required by applicable law or agreed to in writing, software\n",
              "// distributed under the License is distributed on an \"AS IS\" BASIS,\n",
              "// WITHOUT WARRANTIES OR CONDITIONS OF ANY KIND, either express or implied.\n",
              "// See the License for the specific language governing permissions and\n",
              "// limitations under the License.\n",
              "\n",
              "/**\n",
              " * @fileoverview Helpers for google.colab Python module.\n",
              " */\n",
              "(function(scope) {\n",
              "function span(text, styleAttributes = {}) {\n",
              "  const element = document.createElement('span');\n",
              "  element.textContent = text;\n",
              "  for (const key of Object.keys(styleAttributes)) {\n",
              "    element.style[key] = styleAttributes[key];\n",
              "  }\n",
              "  return element;\n",
              "}\n",
              "\n",
              "// Max number of bytes which will be uploaded at a time.\n",
              "const MAX_PAYLOAD_SIZE = 100 * 1024;\n",
              "\n",
              "function _uploadFiles(inputId, outputId) {\n",
              "  const steps = uploadFilesStep(inputId, outputId);\n",
              "  const outputElement = document.getElementById(outputId);\n",
              "  // Cache steps on the outputElement to make it available for the next call\n",
              "  // to uploadFilesContinue from Python.\n",
              "  outputElement.steps = steps;\n",
              "\n",
              "  return _uploadFilesContinue(outputId);\n",
              "}\n",
              "\n",
              "// This is roughly an async generator (not supported in the browser yet),\n",
              "// where there are multiple asynchronous steps and the Python side is going\n",
              "// to poll for completion of each step.\n",
              "// This uses a Promise to block the python side on completion of each step,\n",
              "// then passes the result of the previous step as the input to the next step.\n",
              "function _uploadFilesContinue(outputId) {\n",
              "  const outputElement = document.getElementById(outputId);\n",
              "  const steps = outputElement.steps;\n",
              "\n",
              "  const next = steps.next(outputElement.lastPromiseValue);\n",
              "  return Promise.resolve(next.value.promise).then((value) => {\n",
              "    // Cache the last promise value to make it available to the next\n",
              "    // step of the generator.\n",
              "    outputElement.lastPromiseValue = value;\n",
              "    return next.value.response;\n",
              "  });\n",
              "}\n",
              "\n",
              "/**\n",
              " * Generator function which is called between each async step of the upload\n",
              " * process.\n",
              " * @param {string} inputId Element ID of the input file picker element.\n",
              " * @param {string} outputId Element ID of the output display.\n",
              " * @return {!Iterable<!Object>} Iterable of next steps.\n",
              " */\n",
              "function* uploadFilesStep(inputId, outputId) {\n",
              "  const inputElement = document.getElementById(inputId);\n",
              "  inputElement.disabled = false;\n",
              "\n",
              "  const outputElement = document.getElementById(outputId);\n",
              "  outputElement.innerHTML = '';\n",
              "\n",
              "  const pickedPromise = new Promise((resolve) => {\n",
              "    inputElement.addEventListener('change', (e) => {\n",
              "      resolve(e.target.files);\n",
              "    });\n",
              "  });\n",
              "\n",
              "  const cancel = document.createElement('button');\n",
              "  inputElement.parentElement.appendChild(cancel);\n",
              "  cancel.textContent = 'Cancel upload';\n",
              "  const cancelPromise = new Promise((resolve) => {\n",
              "    cancel.onclick = () => {\n",
              "      resolve(null);\n",
              "    };\n",
              "  });\n",
              "\n",
              "  // Wait for the user to pick the files.\n",
              "  const files = yield {\n",
              "    promise: Promise.race([pickedPromise, cancelPromise]),\n",
              "    response: {\n",
              "      action: 'starting',\n",
              "    }\n",
              "  };\n",
              "\n",
              "  cancel.remove();\n",
              "\n",
              "  // Disable the input element since further picks are not allowed.\n",
              "  inputElement.disabled = true;\n",
              "\n",
              "  if (!files) {\n",
              "    return {\n",
              "      response: {\n",
              "        action: 'complete',\n",
              "      }\n",
              "    };\n",
              "  }\n",
              "\n",
              "  for (const file of files) {\n",
              "    const li = document.createElement('li');\n",
              "    li.append(span(file.name, {fontWeight: 'bold'}));\n",
              "    li.append(span(\n",
              "        `(${file.type || 'n/a'}) - ${file.size} bytes, ` +\n",
              "        `last modified: ${\n",
              "            file.lastModifiedDate ? file.lastModifiedDate.toLocaleDateString() :\n",
              "                                    'n/a'} - `));\n",
              "    const percent = span('0% done');\n",
              "    li.appendChild(percent);\n",
              "\n",
              "    outputElement.appendChild(li);\n",
              "\n",
              "    const fileDataPromise = new Promise((resolve) => {\n",
              "      const reader = new FileReader();\n",
              "      reader.onload = (e) => {\n",
              "        resolve(e.target.result);\n",
              "      };\n",
              "      reader.readAsArrayBuffer(file);\n",
              "    });\n",
              "    // Wait for the data to be ready.\n",
              "    let fileData = yield {\n",
              "      promise: fileDataPromise,\n",
              "      response: {\n",
              "        action: 'continue',\n",
              "      }\n",
              "    };\n",
              "\n",
              "    // Use a chunked sending to avoid message size limits. See b/62115660.\n",
              "    let position = 0;\n",
              "    do {\n",
              "      const length = Math.min(fileData.byteLength - position, MAX_PAYLOAD_SIZE);\n",
              "      const chunk = new Uint8Array(fileData, position, length);\n",
              "      position += length;\n",
              "\n",
              "      const base64 = btoa(String.fromCharCode.apply(null, chunk));\n",
              "      yield {\n",
              "        response: {\n",
              "          action: 'append',\n",
              "          file: file.name,\n",
              "          data: base64,\n",
              "        },\n",
              "      };\n",
              "\n",
              "      let percentDone = fileData.byteLength === 0 ?\n",
              "          100 :\n",
              "          Math.round((position / fileData.byteLength) * 100);\n",
              "      percent.textContent = `${percentDone}% done`;\n",
              "\n",
              "    } while (position < fileData.byteLength);\n",
              "  }\n",
              "\n",
              "  // All done.\n",
              "  yield {\n",
              "    response: {\n",
              "      action: 'complete',\n",
              "    }\n",
              "  };\n",
              "}\n",
              "\n",
              "scope.google = scope.google || {};\n",
              "scope.google.colab = scope.google.colab || {};\n",
              "scope.google.colab._files = {\n",
              "  _uploadFiles,\n",
              "  _uploadFilesContinue,\n",
              "};\n",
              "})(self);\n",
              "</script> "
            ]
          },
          "metadata": {}
        },
        {
          "output_type": "stream",
          "name": "stdout",
          "text": [
            "Saving my_voice_dataset.zip to my_voice_dataset.zip\n"
          ]
        }
      ]
    },
    {
      "cell_type": "code",
      "source": [
        "# 3 delete zip file if issue occurs after below command\n",
        "!rm -rf my_voice_dataset"
      ],
      "metadata": {
        "id": "4lrppZ8qvxRo"
      },
      "execution_count": null,
      "outputs": []
    },
    {
      "cell_type": "code",
      "source": [
        "# 3 unzip dataset\n",
        "!unzip my_voice_dataset.zip"
      ],
      "metadata": {
        "colab": {
          "base_uri": "https://localhost:8080/"
        },
        "id": "unASI8vihZTk",
        "outputId": "cba27226-5dbe-4689-caae-f5342e95277e"
      },
      "execution_count": 3,
      "outputs": [
        {
          "output_type": "stream",
          "name": "stdout",
          "text": [
            "Archive:  my_voice_dataset.zip\n",
            "   creating: my_voice_dataset/\n",
            "  inflating: my_voice_dataset/metadata.csv  \n",
            "   creating: my_voice_dataset/New folder/\n",
            "   creating: my_voice_dataset/wavs/\n",
            "  inflating: my_voice_dataset/wavs/0001.wav  \n",
            "  inflating: my_voice_dataset/wavs/0002.wav  \n",
            "  inflating: my_voice_dataset/wavs/0003.wav  \n",
            "  inflating: my_voice_dataset/wavs/00031.wav  \n",
            "  inflating: my_voice_dataset/wavs/0004.wav  \n",
            "  inflating: my_voice_dataset/wavs/0005.wav  \n",
            "  inflating: my_voice_dataset/wavs/0006.wav  \n",
            "  inflating: my_voice_dataset/wavs/0007.wav  \n",
            "  inflating: my_voice_dataset/wavs/0008.wav  \n",
            "  inflating: my_voice_dataset/wavs/0009.wav  \n",
            "  inflating: my_voice_dataset/wavs/0010.wav  \n",
            "  inflating: my_voice_dataset/wavs/0011.wav  \n",
            "  inflating: my_voice_dataset/wavs/0012.wav  \n",
            "  inflating: my_voice_dataset/wavs/0013.wav  \n",
            "  inflating: my_voice_dataset/wavs/0014.wav  \n",
            "  inflating: my_voice_dataset/wavs/0015.wav  \n",
            "  inflating: my_voice_dataset/wavs/0016.wav  \n",
            "  inflating: my_voice_dataset/wavs/0017.wav  \n",
            "  inflating: my_voice_dataset/wavs/0018.wav  \n",
            "  inflating: my_voice_dataset/wavs/0019.wav  \n",
            "  inflating: my_voice_dataset/wavs/0020.wav  \n",
            "  inflating: my_voice_dataset/wavs/0021.wav  \n",
            "  inflating: my_voice_dataset/wavs/0022.wav  \n",
            "  inflating: my_voice_dataset/wavs/0023.wav  \n",
            "  inflating: my_voice_dataset/wavs/0024.wav  \n",
            "  inflating: my_voice_dataset/wavs/0025.wav  \n",
            "  inflating: my_voice_dataset/wavs/0026.wav  \n",
            "  inflating: my_voice_dataset/wavs/0027.wav  \n",
            "  inflating: my_voice_dataset/wavs/0028.wav  \n",
            "  inflating: my_voice_dataset/wavs/0029.wav  \n",
            "  inflating: my_voice_dataset/wavs/0030.wav  \n",
            "  inflating: my_voice_dataset/wavs/0032.wav  \n",
            "  inflating: my_voice_dataset/wavs/0033.wav  \n",
            "  inflating: my_voice_dataset/wavs/0034.wav  \n",
            "  inflating: my_voice_dataset/wavs/0035.wav  \n",
            "  inflating: my_voice_dataset/wavs/0036.wav  \n",
            "  inflating: my_voice_dataset/wavs/0037.wav  \n",
            "  inflating: my_voice_dataset/wavs/0038.wav  \n",
            "  inflating: my_voice_dataset/wavs/0039.wav  \n",
            "  inflating: my_voice_dataset/wavs/0040.wav  \n"
          ]
        }
      ]
    },
    {
      "cell_type": "code",
      "source": [
        "!ls my_voice_dataset"
      ],
      "metadata": {
        "colab": {
          "base_uri": "https://localhost:8080/"
        },
        "id": "0VuSQ644jlGF",
        "outputId": "c5c0d15e-3eda-4c18-a765-d5826a1d227f"
      },
      "execution_count": 4,
      "outputs": [
        {
          "output_type": "stream",
          "name": "stdout",
          "text": [
            " metadata.csv  'New folder'   wavs\n"
          ]
        }
      ]
    },
    {
      "cell_type": "code",
      "source": [
        "!rm -r my_voice_dataset/\"New folder\""
      ],
      "metadata": {
        "id": "7P2vF_uHkL4u",
        "colab": {
          "base_uri": "https://localhost:8080/"
        },
        "outputId": "ba9dc5d4-91c0-480a-bd7b-fda74ec9c8f2"
      },
      "execution_count": 6,
      "outputs": [
        {
          "output_type": "stream",
          "name": "stdout",
          "text": [
            "rm: cannot remove 'my_voice_dataset/New folder': No such file or directory\n"
          ]
        }
      ]
    },
    {
      "cell_type": "code",
      "source": [
        "import pandas as pd\n",
        "import os\n",
        "\n",
        "# Load the metadata file\n",
        "metadata_path = \"my_voice_dataset/metadata.csv\"\n",
        "df = pd.read_csv(metadata_path, sep=\"|\", header=None, names=[\"filename\", \"transcript\", \"normalized\"])\n",
        "\n",
        "# Display first few entries\n",
        "print(\"📋 First 5 entries in metadata.csv:\\n\")\n",
        "print(df.head())\n",
        "\n",
        "# Check if all wav files exist\n",
        "missing_files = []\n",
        "for file in df[\"filename\"]:\n",
        "    if not os.path.isfile(f\"my_voice_dataset/wavs/{file}\"):\n",
        "        missing_files.append(file)\n",
        "\n",
        "if not missing_files:\n",
        "    print(\"\\n✅ All audio files referenced in metadata.csv are present in /wavs\")\n",
        "else:\n",
        "    print(\"\\n❌ Missing audio files:\")\n",
        "    for f in missing_files:\n",
        "        print(f\"  ❌ {f}\")"
      ],
      "metadata": {
        "colab": {
          "base_uri": "https://localhost:8080/"
        },
        "id": "bFCZ2C5pk3Lo",
        "outputId": "222da9c1-94db-4396-bb4e-4553b968638b"
      },
      "execution_count": 7,
      "outputs": [
        {
          "output_type": "stream",
          "name": "stdout",
          "text": [
            "📋 First 5 entries in metadata.csv:\n",
            "\n",
            "   filename                                         transcript  normalized\n",
            "0  0001.wav  Hello my name is Raj, and welcome to my voice ...         NaN\n",
            "1  0002.wav    This project converts text into natural speech.         NaN\n",
            "2  0003.wav  I am training a voice model using machine lear...         NaN\n",
            "3  0004.wav      This is a custom voice for a TTS application.         NaN\n",
            "4  0005.wav     Type here anything, and I will speak out loud.         NaN\n",
            "\n",
            "❌ Missing audio files:\n",
            "  ❌ 0031.wav\n"
          ]
        }
      ]
    },
    {
      "cell_type": "code",
      "source": [
        "import os\n",
        "\n",
        "wav_dir = \"my_voice_dataset/wavs\"\n",
        "files = os.listdir(wav_dir)\n",
        "files.sort()  # sort alphabetically\n",
        "\n",
        "print(f\"Files in '{wav_dir}':\")\n",
        "for f in files:\n",
        "    print(f)\n"
      ],
      "metadata": {
        "colab": {
          "base_uri": "https://localhost:8080/"
        },
        "id": "aYPB99Wklk4X",
        "outputId": "2fb164c4-a4b2-4468-8839-51db0132ce94"
      },
      "execution_count": 8,
      "outputs": [
        {
          "output_type": "stream",
          "name": "stdout",
          "text": [
            "Files in 'my_voice_dataset/wavs':\n",
            "0001.wav\n",
            "0002.wav\n",
            "0003.wav\n",
            "00031.wav\n",
            "0004.wav\n",
            "0005.wav\n",
            "0006.wav\n",
            "0007.wav\n",
            "0008.wav\n",
            "0009.wav\n",
            "0010.wav\n",
            "0011.wav\n",
            "0012.wav\n",
            "0013.wav\n",
            "0014.wav\n",
            "0015.wav\n",
            "0016.wav\n",
            "0017.wav\n",
            "0018.wav\n",
            "0019.wav\n",
            "0020.wav\n",
            "0021.wav\n",
            "0022.wav\n",
            "0023.wav\n",
            "0024.wav\n",
            "0025.wav\n",
            "0026.wav\n",
            "0027.wav\n",
            "0028.wav\n",
            "0029.wav\n",
            "0030.wav\n",
            "0032.wav\n",
            "0033.wav\n",
            "0034.wav\n",
            "0035.wav\n",
            "0036.wav\n",
            "0037.wav\n",
            "0038.wav\n",
            "0039.wav\n",
            "0040.wav\n"
          ]
        }
      ]
    },
    {
      "cell_type": "code",
      "source": [
        "import pandas as pd\n",
        "\n",
        "metadata_path = \"my_voice_dataset/metadata.csv\"\n",
        "\n",
        "# Load metadata\n",
        "df = pd.read_csv(metadata_path, sep=\"|\", header=None, names=[\"filename\", \"transcript\"])\n",
        "\n",
        "# Fix filenames starting with '00031.wav' to '0031.wav'\n",
        "df[\"filename\"] = df[\"filename\"].apply(lambda x: \"0031.wav\" if x.strip() == \"00031.wav\" else x.strip())\n",
        "\n",
        "# Save corrected metadata back\n",
        "df.to_csv(metadata_path, sep=\"|\", index=False, header=False)\n",
        "\n",
        "print(\"Filename corrected in metadata.csv\")"
      ],
      "metadata": {
        "colab": {
          "base_uri": "https://localhost:8080/"
        },
        "id": "KUcMizEcl7jo",
        "outputId": "2047570d-844a-4e34-862c-bab29a6d30f4"
      },
      "execution_count": 9,
      "outputs": [
        {
          "output_type": "stream",
          "name": "stdout",
          "text": [
            "Filename corrected in metadata.csv\n"
          ]
        }
      ]
    },
    {
      "cell_type": "code",
      "source": [
        "import os\n",
        "\n",
        "wav_dir = \"my_voice_dataset/wavs\"\n",
        "missing_files = [f for f in df[\"filename\"] if not os.path.isfile(os.path.join(wav_dir, f))]\n",
        "\n",
        "if not missing_files:\n",
        "    print(\"✅ All audio files are present.\")\n",
        "else:\n",
        "    print(\"❌ Missing files:\")\n",
        "    print(missing_files)\n"
      ],
      "metadata": {
        "colab": {
          "base_uri": "https://localhost:8080/"
        },
        "id": "fN-k4bbQmEZa",
        "outputId": "a552187b-341c-41dc-9f54-412f4a14e7d8"
      },
      "execution_count": 10,
      "outputs": [
        {
          "output_type": "stream",
          "name": "stdout",
          "text": [
            "❌ Missing files:\n",
            "['0031.wav']\n"
          ]
        }
      ]
    },
    {
      "cell_type": "code",
      "source": [
        "# to automatically change the mismatched files import os\n",
        "import pandas as pd\n",
        "\n",
        "metadata_path = \"my_voice_dataset/metadata.csv\"\n",
        "wav_dir = \"my_voice_dataset/wavs\"\n",
        "\n",
        "# Load metadata\n",
        "df = pd.read_csv(metadata_path, sep=\"|\", header=None, names=[\"filename\", \"transcript\"])\n",
        "\n",
        "# Get list of actual .wav files in the folder\n",
        "actual_files = os.listdir(wav_dir)\n",
        "actual_files_set = set([f.strip() for f in actual_files if f.endswith(\".wav\")])\n",
        "\n",
        "# Automatically fix metadata filename mismatches if possible\n",
        "fixed_count = 0\n",
        "\n",
        "for i in range(len(df)):\n",
        "    original = df.at[i, \"filename\"].strip()\n",
        "    if original not in actual_files_set:\n",
        "        # Try to find a close match (like 00031.wav vs 0031.wav)\n",
        "        for real_file in actual_files_set:\n",
        "            if real_file.endswith(original[-8:]):  # Match last few digits\n",
        "                print(f\"🔄 Fixing '{original}' → '{real_file}' in metadata.\")\n",
        "                df.at[i, \"filename\"] = real_file\n",
        "                fixed_count += 1\n",
        "                break\n",
        "\n",
        "# Save fixed metadata\n",
        "df.to_csv(metadata_path, sep=\"|\", index=False, header=False)\n",
        "\n",
        "print(f\"✅ Fixed {fixed_count} mismatched filenames in metadata.csv.\")\n"
      ],
      "metadata": {
        "colab": {
          "base_uri": "https://localhost:8080/"
        },
        "id": "A7NaJ5kJuLjO",
        "outputId": "a389e6c3-69fa-43b9-8ec4-1b86907179a9"
      },
      "execution_count": 12,
      "outputs": [
        {
          "output_type": "stream",
          "name": "stdout",
          "text": [
            "✅ Fixed 0 mismatched filenames in metadata.csv.\n"
          ]
        }
      ]
    },
    {
      "cell_type": "code",
      "source": [
        "#4 preprocess\n",
        "!tts --data_path my-voice-dataset \\\n",
        "     --dataset_config my-voice-dataset/metadata.csv \\\n",
        "     --output_path my-voice-dataset/output \\\n",
        "     --preprocess"
      ],
      "metadata": {
        "colab": {
          "base_uri": "https://localhost:8080/"
        },
        "id": "-cgv3PnbuSs9",
        "outputId": "a828590f-0a69-4d05-e79f-dda89b339ab3"
      },
      "execution_count": 13,
      "outputs": [
        {
          "output_type": "stream",
          "name": "stdout",
          "text": [
            "usage: tts [-h] [--list_models [LIST_MODELS]]\n",
            "           [--model_info_by_idx MODEL_INFO_BY_IDX]\n",
            "           [--model_info_by_name MODEL_INFO_BY_NAME] [--text TEXT]\n",
            "           [--model_name MODEL_NAME] [--vocoder_name VOCODER_NAME]\n",
            "           [--config_path CONFIG_PATH] [--model_path MODEL_PATH]\n",
            "           [--out_path OUT_PATH] [--use_cuda USE_CUDA] [--device DEVICE]\n",
            "           [--vocoder_path VOCODER_PATH]\n",
            "           [--vocoder_config_path VOCODER_CONFIG_PATH]\n",
            "           [--encoder_path ENCODER_PATH]\n",
            "           [--encoder_config_path ENCODER_CONFIG_PATH] [--pipe_out [PIPE_OUT]]\n",
            "           [--speakers_file_path SPEAKERS_FILE_PATH]\n",
            "           [--language_ids_file_path LANGUAGE_IDS_FILE_PATH]\n",
            "           [--speaker_idx SPEAKER_IDX] [--language_idx LANGUAGE_IDX]\n",
            "           [--speaker_wav SPEAKER_WAV [SPEAKER_WAV ...]]\n",
            "           [--gst_style GST_STYLE]\n",
            "           [--capacitron_style_wav CAPACITRON_STYLE_WAV]\n",
            "           [--capacitron_style_text CAPACITRON_STYLE_TEXT]\n",
            "           [--list_speaker_idxs [LIST_SPEAKER_IDXS]]\n",
            "           [--list_language_idxs [LIST_LANGUAGE_IDXS]]\n",
            "           [--save_spectogram SAVE_SPECTOGRAM] [--reference_wav REFERENCE_WAV]\n",
            "           [--reference_speaker_idx REFERENCE_SPEAKER_IDX]\n",
            "           [--progress_bar PROGRESS_BAR] [--source_wav SOURCE_WAV]\n",
            "           [--target_wav TARGET_WAV] [--voice_dir VOICE_DIR]\n",
            "tts: error: unrecognized arguments: --data_path my-voice-dataset --dataset_config my-voice-dataset/metadata.csv --output_path my-voice-dataset/output --preprocess\n"
          ]
        }
      ]
    },
    {
      "cell_type": "code",
      "source": [
        "# mount to drive\n",
        "from google.colab import drive\n",
        "drive.mount('/content/drive')"
      ],
      "metadata": {
        "colab": {
          "base_uri": "https://localhost:8080/"
        },
        "id": "24MshQ4V3JHt",
        "outputId": "50799cbd-43be-4554-f47f-7cb84f2236b0"
      },
      "execution_count": 14,
      "outputs": [
        {
          "output_type": "stream",
          "name": "stdout",
          "text": [
            "Mounted at /content/drive\n"
          ]
        }
      ]
    },
    {
      "cell_type": "code",
      "source": [
        "# dataset from drive to colab's local storage\n",
        "!cp -r /content/drive/MyDrive/my_voice_dataset /content/"
      ],
      "metadata": {
        "id": "CYKR_2xp38oQ"
      },
      "execution_count": 15,
      "outputs": []
    },
    {
      "cell_type": "code",
      "source": [
        "import os\n",
        "\n",
        "# Set the path where you copied the dataset\n",
        "dataset_path = \"/content/my_voice_dataset\"\n",
        "\n",
        "# Check if metadata.csv exists\n",
        "print(\"Metadata file exists:\", os.path.isfile(os.path.join(dataset_path, \"metadata.csv\")))\n",
        "\n",
        "# Count how many wav files are in the 'wavs' folder\n",
        "wavs_path = os.path.join(dataset_path, \"wavs\")\n",
        "print(\"Number of audio files:\", len([f for f in os.listdir(wavs_path) if f.endswith(\".wav\")]))"
      ],
      "metadata": {
        "colab": {
          "base_uri": "https://localhost:8080/"
        },
        "id": "j8N5uWSe4Rnf",
        "outputId": "9db8d977-70bd-48d4-86e3-dda3d63d02bc"
      },
      "execution_count": 16,
      "outputs": [
        {
          "output_type": "stream",
          "name": "stdout",
          "text": [
            "Metadata file exists: True\n",
            "Number of audio files: 40\n"
          ]
        }
      ]
    },
    {
      "cell_type": "code",
      "source": [
        "# base config file\n",
        "!mkdir -p my_tts_config\n",
        "!cp /usr/local/lib/python3.*/dist-packages/TTS/tts/configs/config.json my_tts_config/config.json\n"
      ],
      "metadata": {
        "colab": {
          "base_uri": "https://localhost:8080/"
        },
        "id": "dcyY2ZvB7FfB",
        "outputId": "5166f710-bca8-4dc6-b142-5818c1f00a78"
      },
      "execution_count": 18,
      "outputs": [
        {
          "output_type": "stream",
          "name": "stdout",
          "text": [
            "cp: cannot stat '/usr/local/lib/python3.*/dist-packages/TTS/tts/configs/config.json': No such file or directory\n"
          ]
        }
      ]
    },
    {
      "cell_type": "code",
      "source": [
        "# creating config file\n",
        "config = {\n",
        "    \"audio\": {\n",
        "        \"sample_rate\": 22050,\n",
        "        \"num_mels\": 80\n",
        "    },\n",
        "    \"dataset\": {\n",
        "        \"path\": \"my_voice_dataset\",\n",
        "        \"metadata_file\": \"metadata.csv\"\n",
        "    },\n",
        "    \"output_path\": \"tts_output\",\n",
        "    \"training\": {\n",
        "        \"epochs\": 10,\n",
        "        \"batch_size\": 16,\n",
        "        \"learning_rate\": 0.001\n",
        "    },\n",
        "    \"model\": {\n",
        "        \"type\": \"tacotron2\"\n",
        "    }\n",
        "}\n",
        "\n",
        "import json\n",
        "\n",
        "with open(\"my_tts_config/config.json\", \"w\") as f:\n",
        "    json.dump(config, f, indent=4)\n",
        "\n",
        "print(\"✅ Created minimal config file at my_tts_config/config.json\")\n"
      ],
      "metadata": {
        "colab": {
          "base_uri": "https://localhost:8080/"
        },
        "id": "FdOvzmwf7hd7",
        "outputId": "e384e5dd-ab17-48a8-b1bc-ad23d425fb1d"
      },
      "execution_count": 19,
      "outputs": [
        {
          "output_type": "stream",
          "name": "stdout",
          "text": [
            "✅ Created minimal config file at my_tts_config/config.json\n"
          ]
        }
      ]
    },
    {
      "cell_type": "code",
      "source": [
        "!ls my_tts_config"
      ],
      "metadata": {
        "colab": {
          "base_uri": "https://localhost:8080/"
        },
        "id": "yHQkHCQv7pZN",
        "outputId": "b331531d-7dd2-4318-dd96-302dfecc0d4c"
      },
      "execution_count": 20,
      "outputs": [
        {
          "output_type": "stream",
          "name": "stdout",
          "text": [
            "config.json\n"
          ]
        }
      ]
    },
    {
      "cell_type": "code",
      "source": [
        "#checking if dataset is copied properly after config file\n",
        "import os\n",
        "\n",
        "print(\"Metadata exists:\", os.path.isfile(\"/content/my_voice_dataset/metadata.csv\"))\n",
        "print(\"Number of wav files:\", len(os.listdir(\"/content/my_voice_dataset/wavs\")))"
      ],
      "metadata": {
        "colab": {
          "base_uri": "https://localhost:8080/"
        },
        "id": "D99fu2vs8HvC",
        "outputId": "1b008a7b-3496-4d0a-d794-3f1ecbe8fe95"
      },
      "execution_count": 22,
      "outputs": [
        {
          "output_type": "stream",
          "name": "stdout",
          "text": [
            "Metadata exists: True\n",
            "Number of wav files: 40\n"
          ]
        }
      ]
    },
    {
      "cell_type": "code",
      "source": [
        "!tts --config_path my_tts_config/config.json --continue_path \"\" --prepare_dataset\n"
      ],
      "metadata": {
        "colab": {
          "base_uri": "https://localhost:8080/"
        },
        "id": "lpY-losb8SiS",
        "outputId": "439798eb-22ee-488c-917c-a056bf92b91e"
      },
      "execution_count": 23,
      "outputs": [
        {
          "output_type": "stream",
          "name": "stdout",
          "text": [
            "usage: tts [-h] [--list_models [LIST_MODELS]]\n",
            "           [--model_info_by_idx MODEL_INFO_BY_IDX]\n",
            "           [--model_info_by_name MODEL_INFO_BY_NAME] [--text TEXT]\n",
            "           [--model_name MODEL_NAME] [--vocoder_name VOCODER_NAME]\n",
            "           [--config_path CONFIG_PATH] [--model_path MODEL_PATH]\n",
            "           [--out_path OUT_PATH] [--use_cuda USE_CUDA] [--device DEVICE]\n",
            "           [--vocoder_path VOCODER_PATH]\n",
            "           [--vocoder_config_path VOCODER_CONFIG_PATH]\n",
            "           [--encoder_path ENCODER_PATH]\n",
            "           [--encoder_config_path ENCODER_CONFIG_PATH] [--pipe_out [PIPE_OUT]]\n",
            "           [--speakers_file_path SPEAKERS_FILE_PATH]\n",
            "           [--language_ids_file_path LANGUAGE_IDS_FILE_PATH]\n",
            "           [--speaker_idx SPEAKER_IDX] [--language_idx LANGUAGE_IDX]\n",
            "           [--speaker_wav SPEAKER_WAV [SPEAKER_WAV ...]]\n",
            "           [--gst_style GST_STYLE]\n",
            "           [--capacitron_style_wav CAPACITRON_STYLE_WAV]\n",
            "           [--capacitron_style_text CAPACITRON_STYLE_TEXT]\n",
            "           [--list_speaker_idxs [LIST_SPEAKER_IDXS]]\n",
            "           [--list_language_idxs [LIST_LANGUAGE_IDXS]]\n",
            "           [--save_spectogram SAVE_SPECTOGRAM] [--reference_wav REFERENCE_WAV]\n",
            "           [--reference_speaker_idx REFERENCE_SPEAKER_IDX]\n",
            "           [--progress_bar PROGRESS_BAR] [--source_wav SOURCE_WAV]\n",
            "           [--target_wav TARGET_WAV] [--voice_dir VOICE_DIR]\n",
            "tts: error: unrecognized arguments: --continue_path  --prepare_dataset\n"
          ]
        }
      ]
    },
    {
      "cell_type": "code",
      "source": [
        "!tts --help"
      ],
      "metadata": {
        "colab": {
          "base_uri": "https://localhost:8080/"
        },
        "id": "iFT7JWmT8WiZ",
        "outputId": "88b9dcf3-790a-4504-a748-cbfa39e4b1b9"
      },
      "execution_count": 24,
      "outputs": [
        {
          "output_type": "stream",
          "name": "stdout",
          "text": [
            "usage: tts [-h] [--list_models [LIST_MODELS]]\n",
            "           [--model_info_by_idx MODEL_INFO_BY_IDX]\n",
            "           [--model_info_by_name MODEL_INFO_BY_NAME] [--text TEXT]\n",
            "           [--model_name MODEL_NAME] [--vocoder_name VOCODER_NAME]\n",
            "           [--config_path CONFIG_PATH] [--model_path MODEL_PATH]\n",
            "           [--out_path OUT_PATH] [--use_cuda USE_CUDA] [--device DEVICE]\n",
            "           [--vocoder_path VOCODER_PATH]\n",
            "           [--vocoder_config_path VOCODER_CONFIG_PATH]\n",
            "           [--encoder_path ENCODER_PATH]\n",
            "           [--encoder_config_path ENCODER_CONFIG_PATH] [--pipe_out [PIPE_OUT]]\n",
            "           [--speakers_file_path SPEAKERS_FILE_PATH]\n",
            "           [--language_ids_file_path LANGUAGE_IDS_FILE_PATH]\n",
            "           [--speaker_idx SPEAKER_IDX] [--language_idx LANGUAGE_IDX]\n",
            "           [--speaker_wav SPEAKER_WAV [SPEAKER_WAV ...]]\n",
            "           [--gst_style GST_STYLE]\n",
            "           [--capacitron_style_wav CAPACITRON_STYLE_WAV]\n",
            "           [--capacitron_style_text CAPACITRON_STYLE_TEXT]\n",
            "           [--list_speaker_idxs [LIST_SPEAKER_IDXS]]\n",
            "           [--list_language_idxs [LIST_LANGUAGE_IDXS]]\n",
            "           [--save_spectogram SAVE_SPECTOGRAM] [--reference_wav REFERENCE_WAV]\n",
            "           [--reference_speaker_idx REFERENCE_SPEAKER_IDX]\n",
            "           [--progress_bar PROGRESS_BAR] [--source_wav SOURCE_WAV]\n",
            "           [--target_wav TARGET_WAV] [--voice_dir VOICE_DIR]\n",
            "\n",
            "Synthesize speech on command line.\n",
            "\n",
            "You can either use your trained model or choose a model from the provided list.\n",
            "\n",
            "If you don't specify any models, then it uses LJSpeech based English model.\n",
            "\n",
            "#### Single Speaker Models\n",
            "\n",
            "- List provided models:\n",
            "\n",
            "  ```\n",
            "  $ tts --list_models\n",
            "  ```\n",
            "\n",
            "- Get model info (for both tts_models and vocoder_models):\n",
            "\n",
            "  - Query by type/name:\n",
            "    The model_info_by_name uses the name as it from the --list_models.\n",
            "    $ tts --model_info_by_name \"<model_type>/<language>/<dataset>/<model_name>\"\n",
            "    For example:\n",
            "    $ tts --model_info_by_name tts_models/tr/common-voice/glow-tts\n",
            "    $ tts --model_info_by_name vocoder_models/en/ljspeech/hifigan_v2\n",
            "  - Query by type/idx:\n",
            "    The model_query_idx uses the corresponding idx from --list_models.\n",
            "\n",
            "    $ tts --model_info_by_idx \"<model_type>/<model_query_idx>\"\n",
            "\n",
            "    For example:\n",
            "\n",
            "    $ tts --model_info_by_idx tts_models/3\n",
            "\n",
            "  - Query info for model info by full name:\n",
            "    $ tts --model_info_by_name \"<model_type>/<language>/<dataset>/<model_name>\"\n",
            "\n",
            "- Run TTS with default models:\n",
            "\n",
            "  ```\n",
            "  $ tts --text \"Text for TTS\" --out_path output/path/speech.wav\n",
            "  ```\n",
            "\n",
            "- Run TTS and pipe out the generated TTS wav file data:\n",
            "\n",
            "  ```\n",
            "  $ tts --text \"Text for TTS\" --pipe_out --out_path output/path/speech.wav | aplay\n",
            "  ```\n",
            "\n",
            "- Run a TTS model with its default vocoder model:\n",
            "\n",
            "  ```\n",
            "  $ tts --text \"Text for TTS\" --model_name \"<model_type>/<language>/<dataset>/<model_name>\" --out_path output/path/speech.wav\n",
            "  ```\n",
            "\n",
            "  For example:\n",
            "\n",
            "  ```\n",
            "  $ tts --text \"Text for TTS\" --model_name \"tts_models/en/ljspeech/glow-tts\" --out_path output/path/speech.wav\n",
            "  ```\n",
            "\n",
            "- Run with specific TTS and vocoder models from the list:\n",
            "\n",
            "  ```\n",
            "  $ tts --text \"Text for TTS\" --model_name \"<model_type>/<language>/<dataset>/<model_name>\" --vocoder_name \"<model_type>/<language>/<dataset>/<model_name>\" --out_path output/path/speech.wav\n",
            "  ```\n",
            "\n",
            "  For example:\n",
            "\n",
            "  ```\n",
            "  $ tts --text \"Text for TTS\" --model_name \"tts_models/en/ljspeech/glow-tts\" --vocoder_name \"vocoder_models/en/ljspeech/univnet\" --out_path output/path/speech.wav\n",
            "  ```\n",
            "\n",
            "- Run your own TTS model (Using Griffin-Lim Vocoder):\n",
            "\n",
            "  ```\n",
            "  $ tts --text \"Text for TTS\" --model_path path/to/model.pth --config_path path/to/config.json --out_path output/path/speech.wav\n",
            "  ```\n",
            "\n",
            "- Run your own TTS and Vocoder models:\n",
            "\n",
            "  ```\n",
            "  $ tts --text \"Text for TTS\" --model_path path/to/model.pth --config_path path/to/config.json --out_path output/path/speech.wav\n",
            "      --vocoder_path path/to/vocoder.pth --vocoder_config_path path/to/vocoder_config.json\n",
            "  ```\n",
            "\n",
            "#### Multi-speaker Models\n",
            "\n",
            "- List the available speakers and choose a <speaker_id> among them:\n",
            "\n",
            "  ```\n",
            "  $ tts --model_name \"<language>/<dataset>/<model_name>\"  --list_speaker_idxs\n",
            "  ```\n",
            "\n",
            "- Run the multi-speaker TTS model with the target speaker ID:\n",
            "\n",
            "  ```\n",
            "  $ tts --text \"Text for TTS.\" --out_path output/path/speech.wav --model_name \"<language>/<dataset>/<model_name>\"  --speaker_idx <speaker_id>\n",
            "  ```\n",
            "\n",
            "- Run your own multi-speaker TTS model:\n",
            "\n",
            "  ```\n",
            "  $ tts --text \"Text for TTS\" --out_path output/path/speech.wav --model_path path/to/model.pth --config_path path/to/config.json --speakers_file_path path/to/speaker.json --speaker_idx <speaker_id>\n",
            "  ```\n",
            "\n",
            "### Voice Conversion Models\n",
            "\n",
            "```\n",
            "$ tts --out_path output/path/speech.wav --model_name \"<language>/<dataset>/<model_name>\" --source_wav <path/to/speaker/wav> --target_wav <path/to/reference/wav>\n",
            "```\n",
            "\n",
            "options:\n",
            "  -h, --help            show this help message and exit\n",
            "  --list_models [LIST_MODELS]\n",
            "                        list available pre-trained TTS and vocoder models.\n",
            "  --model_info_by_idx MODEL_INFO_BY_IDX\n",
            "                        model info using query format: <model_type>/<model_query_idx>\n",
            "  --model_info_by_name MODEL_INFO_BY_NAME\n",
            "                        model info using query format: <model_type>/<language>/<dataset>/<model_name>\n",
            "  --text TEXT           Text to generate speech.\n",
            "  --model_name MODEL_NAME\n",
            "                        Name of one of the pre-trained TTS models in format <language>/<dataset>/<model_name>\n",
            "  --vocoder_name VOCODER_NAME\n",
            "                        Name of one of the pre-trained  vocoder models in format <language>/<dataset>/<model_name>\n",
            "  --config_path CONFIG_PATH\n",
            "                        Path to model config file.\n",
            "  --model_path MODEL_PATH\n",
            "                        Path to model file.\n",
            "  --out_path OUT_PATH   Output wav file path.\n",
            "  --use_cuda USE_CUDA   Run model on CUDA.\n",
            "  --device DEVICE       Device to run model on.\n",
            "  --vocoder_path VOCODER_PATH\n",
            "                        Path to vocoder model file. If it is not defined, model uses GL as vocoder. Please make sure that you installed vocoder library before (WaveRNN).\n",
            "  --vocoder_config_path VOCODER_CONFIG_PATH\n",
            "                        Path to vocoder model config file.\n",
            "  --encoder_path ENCODER_PATH\n",
            "                        Path to speaker encoder model file.\n",
            "  --encoder_config_path ENCODER_CONFIG_PATH\n",
            "                        Path to speaker encoder config file.\n",
            "  --pipe_out [PIPE_OUT]\n",
            "                        stdout the generated TTS wav file for shell pipe.\n",
            "  --speakers_file_path SPEAKERS_FILE_PATH\n",
            "                        JSON file for multi-speaker model.\n",
            "  --language_ids_file_path LANGUAGE_IDS_FILE_PATH\n",
            "                        JSON file for multi-lingual model.\n",
            "  --speaker_idx SPEAKER_IDX\n",
            "                        Target speaker ID for a multi-speaker TTS model.\n",
            "  --language_idx LANGUAGE_IDX\n",
            "                        Target language ID for a multi-lingual TTS model.\n",
            "  --speaker_wav SPEAKER_WAV [SPEAKER_WAV ...]\n",
            "                        wav file(s) to condition a multi-speaker TTS model with a Speaker Encoder. You can give multiple file paths. The d_vectors is computed as their average.\n",
            "  --gst_style GST_STYLE\n",
            "                        Wav path file for GST style reference.\n",
            "  --capacitron_style_wav CAPACITRON_STYLE_WAV\n",
            "                        Wav path file for Capacitron prosody reference.\n",
            "  --capacitron_style_text CAPACITRON_STYLE_TEXT\n",
            "                        Transcription of the reference.\n",
            "  --list_speaker_idxs [LIST_SPEAKER_IDXS]\n",
            "                        List available speaker ids for the defined multi-speaker model.\n",
            "  --list_language_idxs [LIST_LANGUAGE_IDXS]\n",
            "                        List available language ids for the defined multi-lingual model.\n",
            "  --save_spectogram SAVE_SPECTOGRAM\n",
            "                        If true save raw spectogram for further (vocoder) processing in out_path.\n",
            "  --reference_wav REFERENCE_WAV\n",
            "                        Reference wav file to convert in the voice of the speaker_idx or speaker_wav\n",
            "  --reference_speaker_idx REFERENCE_SPEAKER_IDX\n",
            "                        speaker ID of the reference_wav speaker (If not provided the embedding will be computed using the Speaker Encoder).\n",
            "  --progress_bar PROGRESS_BAR\n",
            "                        If true shows a progress bar for the model download. Defaults to True\n",
            "  --source_wav SOURCE_WAV\n",
            "                        Original audio file to convert in the voice of the target_wav\n",
            "  --target_wav TARGET_WAV\n",
            "                        Target audio file to convert in the voice of the source_wav\n",
            "  --voice_dir VOICE_DIR\n",
            "                        Voice dir for tortoise model\n"
          ]
        }
      ]
    },
    {
      "cell_type": "code",
      "source": [
        "# to check tts version\n",
        "!pip show TTS"
      ],
      "metadata": {
        "colab": {
          "base_uri": "https://localhost:8080/"
        },
        "id": "LvugX8Uq90aQ",
        "outputId": "ab214942-ee72-43d0-d85e-bcfc9fe2f7a1"
      },
      "execution_count": 25,
      "outputs": [
        {
          "output_type": "stream",
          "name": "stdout",
          "text": [
            "Name: TTS\n",
            "Version: 0.22.0\n",
            "Summary: Deep learning for Text to Speech by Coqui.\n",
            "Home-page: https://github.com/coqui-ai/TTS\n",
            "Author: Eren Gölge\n",
            "Author-email: egolge@coqui.ai\n",
            "License: MPL-2.0\n",
            "Location: /usr/local/lib/python3.11/dist-packages\n",
            "Requires: aiohttp, anyascii, bangla, bnnumerizer, bnunicodenormalizer, coqpit, cython, einops, encodec, flask, fsspec, g2pkk, gruut, hangul-romanize, inflect, jamo, jieba, librosa, matplotlib, nltk, num2words, numba, numpy, packaging, pandas, pypinyin, pysbd, pyyaml, scikit-learn, scipy, soundfile, spacy, torch, torchaudio, tqdm, trainer, transformers, umap-learn, unidecode\n",
            "Required-by: \n"
          ]
        }
      ]
    },
    {
      "cell_type": "code",
      "source": [
        "!tts-preprocess --help\n",
        "!tts-train --help"
      ],
      "metadata": {
        "id": "JcUty-KX_3oT",
        "outputId": "2bb17163-8454-4165-b0d9-d6425b18d8f5",
        "colab": {
          "base_uri": "https://localhost:8080/"
        }
      },
      "execution_count": 26,
      "outputs": [
        {
          "output_type": "stream",
          "name": "stdout",
          "text": [
            "/bin/bash: line 1: tts-preprocess: command not found\n",
            "/bin/bash: line 1: tts-train: command not found\n"
          ]
        }
      ]
    },
    {
      "cell_type": "code",
      "source": [
        "# do not run this cell the next time\n",
        "!pip uninstall -y TTS"
      ],
      "metadata": {
        "id": "1q4Yjy10AhNv",
        "outputId": "c3d31e32-7761-4eb7-cd29-d954a15a10e5",
        "colab": {
          "base_uri": "https://localhost:8080/"
        }
      },
      "execution_count": 27,
      "outputs": [
        {
          "output_type": "stream",
          "name": "stdout",
          "text": [
            "Found existing installation: TTS 0.22.0\n",
            "Uninstalling TTS-0.22.0:\n",
            "  Successfully uninstalled TTS-0.22.0\n"
          ]
        }
      ]
    },
    {
      "cell_type": "code",
      "source": [
        "# install correct tts version\n",
        "!pip install git+https://github.com/coqui-ai/TTS.git"
      ],
      "metadata": {
        "id": "RXXyBhRwBMHv",
        "outputId": "4d632203-bb58-4529-adf1-cc64cf6962e1",
        "colab": {
          "base_uri": "https://localhost:8080/",
          "height": 1000
        }
      },
      "execution_count": 28,
      "outputs": [
        {
          "output_type": "stream",
          "name": "stdout",
          "text": [
            "Collecting git+https://github.com/coqui-ai/TTS.git\n",
            "  Cloning https://github.com/coqui-ai/TTS.git to /tmp/pip-req-build-u0i0tk26\n",
            "  Running command git clone --filter=blob:none --quiet https://github.com/coqui-ai/TTS.git /tmp/pip-req-build-u0i0tk26\n",
            "  Resolved https://github.com/coqui-ai/TTS.git to commit dbf1a08a0d4e47fdad6172e433eeb34bc6b13b4e\n",
            "  Installing build dependencies ... \u001b[?25l\u001b[?25hdone\n",
            "  Getting requirements to build wheel ... \u001b[?25l\u001b[?25hdone\n",
            "  Preparing metadata (pyproject.toml) ... \u001b[?25l\u001b[?25hdone\n",
            "Requirement already satisfied: numpy>=1.24.3 in /usr/local/lib/python3.11/dist-packages (from TTS==0.22.0) (2.3.1)\n",
            "Requirement already satisfied: cython>=0.29.30 in /usr/local/lib/python3.11/dist-packages (from TTS==0.22.0) (3.0.12)\n",
            "Requirement already satisfied: scipy>=1.11.2 in /usr/local/lib/python3.11/dist-packages (from TTS==0.22.0) (1.15.3)\n",
            "Requirement already satisfied: torch>=2.1 in /usr/local/lib/python3.11/dist-packages (from TTS==0.22.0) (2.6.0+cu124)\n",
            "Requirement already satisfied: torchaudio in /usr/local/lib/python3.11/dist-packages (from TTS==0.22.0) (2.6.0+cu124)\n",
            "Requirement already satisfied: soundfile>=0.12.0 in /usr/local/lib/python3.11/dist-packages (from TTS==0.22.0) (0.13.1)\n",
            "Requirement already satisfied: librosa>=0.10.0 in /usr/local/lib/python3.11/dist-packages (from TTS==0.22.0) (0.11.0)\n",
            "Requirement already satisfied: scikit-learn>=1.3.0 in /usr/local/lib/python3.11/dist-packages (from TTS==0.22.0) (1.6.1)\n",
            "Requirement already satisfied: numba>=0.57.0 in /usr/local/lib/python3.11/dist-packages (from TTS==0.22.0) (0.60.0)\n",
            "Requirement already satisfied: inflect>=5.6.0 in /usr/local/lib/python3.11/dist-packages (from TTS==0.22.0) (7.5.0)\n",
            "Requirement already satisfied: tqdm>=4.64.1 in /usr/local/lib/python3.11/dist-packages (from TTS==0.22.0) (4.67.1)\n",
            "Requirement already satisfied: anyascii>=0.3.0 in /usr/local/lib/python3.11/dist-packages (from TTS==0.22.0) (0.3.3)\n",
            "Requirement already satisfied: pyyaml>=6.0 in /usr/local/lib/python3.11/dist-packages (from TTS==0.22.0) (6.0.2)\n",
            "Requirement already satisfied: fsspec>=2023.6.0 in /usr/local/lib/python3.11/dist-packages (from TTS==0.22.0) (2025.3.2)\n",
            "Requirement already satisfied: aiohttp>=3.8.1 in /usr/local/lib/python3.11/dist-packages (from TTS==0.22.0) (3.11.15)\n",
            "Requirement already satisfied: packaging>=23.1 in /usr/local/lib/python3.11/dist-packages (from TTS==0.22.0) (24.2)\n",
            "Collecting mutagen==1.47.0 (from TTS==0.22.0)\n",
            "  Downloading mutagen-1.47.0-py3-none-any.whl.metadata (1.7 kB)\n",
            "Requirement already satisfied: flask>=2.0.1 in /usr/local/lib/python3.11/dist-packages (from TTS==0.22.0) (3.1.1)\n",
            "Requirement already satisfied: pysbd>=0.3.4 in /usr/local/lib/python3.11/dist-packages (from TTS==0.22.0) (0.3.4)\n",
            "Requirement already satisfied: umap-learn>=0.5.1 in /usr/local/lib/python3.11/dist-packages (from TTS==0.22.0) (0.5.9.post2)\n",
            "Collecting pandas<2.0,>=1.4 (from TTS==0.22.0)\n",
            "  Using cached pandas-1.5.3-cp311-cp311-manylinux_2_17_x86_64.manylinux2014_x86_64.whl.metadata (11 kB)\n",
            "Requirement already satisfied: matplotlib>=3.7.0 in /usr/local/lib/python3.11/dist-packages (from TTS==0.22.0) (3.10.0)\n",
            "Requirement already satisfied: trainer>=0.0.36 in /usr/local/lib/python3.11/dist-packages (from TTS==0.22.0) (0.0.36)\n",
            "Requirement already satisfied: coqpit>=0.0.16 in /usr/local/lib/python3.11/dist-packages (from TTS==0.22.0) (0.0.17)\n",
            "Requirement already satisfied: jieba in /usr/local/lib/python3.11/dist-packages (from TTS==0.22.0) (0.42.1)\n",
            "Requirement already satisfied: pypinyin in /usr/local/lib/python3.11/dist-packages (from TTS==0.22.0) (0.54.0)\n",
            "Requirement already satisfied: hangul_romanize in /usr/local/lib/python3.11/dist-packages (from TTS==0.22.0) (0.1.0)\n",
            "Requirement already satisfied: gruut==2.2.3 in /usr/local/lib/python3.11/dist-packages (from gruut[de,es,fr]==2.2.3->TTS==0.22.0) (2.2.3)\n",
            "Requirement already satisfied: jamo in /usr/local/lib/python3.11/dist-packages (from TTS==0.22.0) (0.4.1)\n",
            "Requirement already satisfied: nltk in /usr/local/lib/python3.11/dist-packages (from TTS==0.22.0) (3.9.1)\n",
            "Requirement already satisfied: g2pkk>=0.1.1 in /usr/local/lib/python3.11/dist-packages (from TTS==0.22.0) (0.1.2)\n",
            "Requirement already satisfied: bangla in /usr/local/lib/python3.11/dist-packages (from TTS==0.22.0) (0.0.5)\n",
            "Requirement already satisfied: bnnumerizer in /usr/local/lib/python3.11/dist-packages (from TTS==0.22.0) (0.0.2)\n",
            "Requirement already satisfied: bnunicodenormalizer in /usr/local/lib/python3.11/dist-packages (from TTS==0.22.0) (0.1.7)\n",
            "Requirement already satisfied: einops>=0.6.0 in /usr/local/lib/python3.11/dist-packages (from TTS==0.22.0) (0.8.1)\n",
            "Requirement already satisfied: transformers>=4.33.0 in /usr/local/lib/python3.11/dist-packages (from TTS==0.22.0) (4.53.1)\n",
            "Requirement already satisfied: encodec>=0.1.1 in /usr/local/lib/python3.11/dist-packages (from TTS==0.22.0) (0.1.1)\n",
            "Requirement already satisfied: unidecode>=1.3.2 in /usr/local/lib/python3.11/dist-packages (from TTS==0.22.0) (1.4.0)\n",
            "Requirement already satisfied: num2words in /usr/local/lib/python3.11/dist-packages (from TTS==0.22.0) (0.5.14)\n",
            "Requirement already satisfied: spacy>=3 in /usr/local/lib/python3.11/dist-packages (from spacy[ja]>=3->TTS==0.22.0) (3.8.7)\n",
            "Requirement already satisfied: Babel<3.0.0,>=2.8.0 in /usr/local/lib/python3.11/dist-packages (from gruut==2.2.3->gruut[de,es,fr]==2.2.3->TTS==0.22.0) (2.17.0)\n",
            "Requirement already satisfied: dateparser~=1.1.0 in /usr/local/lib/python3.11/dist-packages (from gruut==2.2.3->gruut[de,es,fr]==2.2.3->TTS==0.22.0) (1.1.8)\n",
            "Requirement already satisfied: gruut-ipa<1.0,>=0.12.0 in /usr/local/lib/python3.11/dist-packages (from gruut==2.2.3->gruut[de,es,fr]==2.2.3->TTS==0.22.0) (0.13.0)\n",
            "Requirement already satisfied: gruut-lang-en~=2.0.0 in /usr/local/lib/python3.11/dist-packages (from gruut==2.2.3->gruut[de,es,fr]==2.2.3->TTS==0.22.0) (2.0.1)\n",
            "Requirement already satisfied: jsonlines~=1.2.0 in /usr/local/lib/python3.11/dist-packages (from gruut==2.2.3->gruut[de,es,fr]==2.2.3->TTS==0.22.0) (1.2.0)\n",
            "Collecting networkx<3.0.0,>=2.5.0 (from gruut==2.2.3->gruut[de,es,fr]==2.2.3->TTS==0.22.0)\n",
            "  Using cached networkx-2.8.8-py3-none-any.whl.metadata (5.1 kB)\n",
            "Collecting numpy>=1.24.3 (from TTS==0.22.0)\n",
            "  Using cached numpy-1.26.4-cp311-cp311-manylinux_2_17_x86_64.manylinux2014_x86_64.whl.metadata (61 kB)\n",
            "Requirement already satisfied: python-crfsuite~=0.9.7 in /usr/local/lib/python3.11/dist-packages (from gruut==2.2.3->gruut[de,es,fr]==2.2.3->TTS==0.22.0) (0.9.11)\n",
            "Requirement already satisfied: gruut-lang-de~=2.0.0 in /usr/local/lib/python3.11/dist-packages (from gruut[de,es,fr]==2.2.3->TTS==0.22.0) (2.0.1)\n",
            "Requirement already satisfied: gruut-lang-es~=2.0.0 in /usr/local/lib/python3.11/dist-packages (from gruut[de,es,fr]==2.2.3->TTS==0.22.0) (2.0.1)\n",
            "Requirement already satisfied: gruut-lang-fr~=2.0.0 in /usr/local/lib/python3.11/dist-packages (from gruut[de,es,fr]==2.2.3->TTS==0.22.0) (2.0.2)\n",
            "Requirement already satisfied: aiohappyeyeballs>=2.3.0 in /usr/local/lib/python3.11/dist-packages (from aiohttp>=3.8.1->TTS==0.22.0) (2.6.1)\n",
            "Requirement already satisfied: aiosignal>=1.1.2 in /usr/local/lib/python3.11/dist-packages (from aiohttp>=3.8.1->TTS==0.22.0) (1.4.0)\n",
            "Requirement already satisfied: attrs>=17.3.0 in /usr/local/lib/python3.11/dist-packages (from aiohttp>=3.8.1->TTS==0.22.0) (25.3.0)\n",
            "Requirement already satisfied: frozenlist>=1.1.1 in /usr/local/lib/python3.11/dist-packages (from aiohttp>=3.8.1->TTS==0.22.0) (1.7.0)\n",
            "Requirement already satisfied: multidict<7.0,>=4.5 in /usr/local/lib/python3.11/dist-packages (from aiohttp>=3.8.1->TTS==0.22.0) (6.6.3)\n",
            "Requirement already satisfied: propcache>=0.2.0 in /usr/local/lib/python3.11/dist-packages (from aiohttp>=3.8.1->TTS==0.22.0) (0.3.2)\n",
            "Requirement already satisfied: yarl<2.0,>=1.17.0 in /usr/local/lib/python3.11/dist-packages (from aiohttp>=3.8.1->TTS==0.22.0) (1.20.1)\n",
            "Requirement already satisfied: blinker>=1.9.0 in /usr/local/lib/python3.11/dist-packages (from flask>=2.0.1->TTS==0.22.0) (1.9.0)\n",
            "Requirement already satisfied: click>=8.1.3 in /usr/local/lib/python3.11/dist-packages (from flask>=2.0.1->TTS==0.22.0) (8.2.1)\n",
            "Requirement already satisfied: itsdangerous>=2.2.0 in /usr/local/lib/python3.11/dist-packages (from flask>=2.0.1->TTS==0.22.0) (2.2.0)\n",
            "Requirement already satisfied: jinja2>=3.1.2 in /usr/local/lib/python3.11/dist-packages (from flask>=2.0.1->TTS==0.22.0) (3.1.6)\n",
            "Requirement already satisfied: markupsafe>=2.1.1 in /usr/local/lib/python3.11/dist-packages (from flask>=2.0.1->TTS==0.22.0) (3.0.2)\n",
            "Requirement already satisfied: werkzeug>=3.1.0 in /usr/local/lib/python3.11/dist-packages (from flask>=2.0.1->TTS==0.22.0) (3.1.3)\n",
            "Requirement already satisfied: more_itertools>=8.5.0 in /usr/local/lib/python3.11/dist-packages (from inflect>=5.6.0->TTS==0.22.0) (10.7.0)\n",
            "Requirement already satisfied: typeguard>=4.0.1 in /usr/local/lib/python3.11/dist-packages (from inflect>=5.6.0->TTS==0.22.0) (4.4.4)\n",
            "Requirement already satisfied: audioread>=2.1.9 in /usr/local/lib/python3.11/dist-packages (from librosa>=0.10.0->TTS==0.22.0) (3.0.1)\n",
            "Requirement already satisfied: joblib>=1.0 in /usr/local/lib/python3.11/dist-packages (from librosa>=0.10.0->TTS==0.22.0) (1.5.1)\n",
            "Requirement already satisfied: decorator>=4.3.0 in /usr/local/lib/python3.11/dist-packages (from librosa>=0.10.0->TTS==0.22.0) (4.4.2)\n",
            "Requirement already satisfied: pooch>=1.1 in /usr/local/lib/python3.11/dist-packages (from librosa>=0.10.0->TTS==0.22.0) (1.8.2)\n",
            "Requirement already satisfied: soxr>=0.3.2 in /usr/local/lib/python3.11/dist-packages (from librosa>=0.10.0->TTS==0.22.0) (0.5.0.post1)\n",
            "Requirement already satisfied: typing_extensions>=4.1.1 in /usr/local/lib/python3.11/dist-packages (from librosa>=0.10.0->TTS==0.22.0) (4.14.1)\n",
            "Requirement already satisfied: lazy_loader>=0.1 in /usr/local/lib/python3.11/dist-packages (from librosa>=0.10.0->TTS==0.22.0) (0.4)\n",
            "Requirement already satisfied: msgpack>=1.0 in /usr/local/lib/python3.11/dist-packages (from librosa>=0.10.0->TTS==0.22.0) (1.1.1)\n",
            "Requirement already satisfied: contourpy>=1.0.1 in /usr/local/lib/python3.11/dist-packages (from matplotlib>=3.7.0->TTS==0.22.0) (1.3.2)\n",
            "Requirement already satisfied: cycler>=0.10 in /usr/local/lib/python3.11/dist-packages (from matplotlib>=3.7.0->TTS==0.22.0) (0.12.1)\n",
            "Requirement already satisfied: fonttools>=4.22.0 in /usr/local/lib/python3.11/dist-packages (from matplotlib>=3.7.0->TTS==0.22.0) (4.58.5)\n",
            "Requirement already satisfied: kiwisolver>=1.3.1 in /usr/local/lib/python3.11/dist-packages (from matplotlib>=3.7.0->TTS==0.22.0) (1.4.8)\n",
            "Requirement already satisfied: pillow>=8 in /usr/local/lib/python3.11/dist-packages (from matplotlib>=3.7.0->TTS==0.22.0) (11.2.1)\n",
            "Requirement already satisfied: pyparsing>=2.3.1 in /usr/local/lib/python3.11/dist-packages (from matplotlib>=3.7.0->TTS==0.22.0) (3.2.3)\n",
            "Requirement already satisfied: python-dateutil>=2.7 in /usr/local/lib/python3.11/dist-packages (from matplotlib>=3.7.0->TTS==0.22.0) (2.9.0.post0)\n",
            "Requirement already satisfied: docopt>=0.6.2 in /usr/local/lib/python3.11/dist-packages (from num2words->TTS==0.22.0) (0.6.2)\n",
            "Requirement already satisfied: llvmlite<0.44,>=0.43.0dev0 in /usr/local/lib/python3.11/dist-packages (from numba>=0.57.0->TTS==0.22.0) (0.43.0)\n",
            "Requirement already satisfied: pytz>=2020.1 in /usr/local/lib/python3.11/dist-packages (from pandas<2.0,>=1.4->TTS==0.22.0) (2025.2)\n",
            "Requirement already satisfied: threadpoolctl>=3.1.0 in /usr/local/lib/python3.11/dist-packages (from scikit-learn>=1.3.0->TTS==0.22.0) (3.6.0)\n",
            "Requirement already satisfied: cffi>=1.0 in /usr/local/lib/python3.11/dist-packages (from soundfile>=0.12.0->TTS==0.22.0) (1.17.1)\n",
            "Requirement already satisfied: spacy-legacy<3.1.0,>=3.0.11 in /usr/local/lib/python3.11/dist-packages (from spacy>=3->spacy[ja]>=3->TTS==0.22.0) (3.0.12)\n",
            "Requirement already satisfied: spacy-loggers<2.0.0,>=1.0.0 in /usr/local/lib/python3.11/dist-packages (from spacy>=3->spacy[ja]>=3->TTS==0.22.0) (1.0.5)\n",
            "Requirement already satisfied: murmurhash<1.1.0,>=0.28.0 in /usr/local/lib/python3.11/dist-packages (from spacy>=3->spacy[ja]>=3->TTS==0.22.0) (1.0.13)\n",
            "Requirement already satisfied: cymem<2.1.0,>=2.0.2 in /usr/local/lib/python3.11/dist-packages (from spacy>=3->spacy[ja]>=3->TTS==0.22.0) (2.0.11)\n",
            "Requirement already satisfied: preshed<3.1.0,>=3.0.2 in /usr/local/lib/python3.11/dist-packages (from spacy>=3->spacy[ja]>=3->TTS==0.22.0) (3.0.10)\n",
            "Requirement already satisfied: thinc<8.4.0,>=8.3.4 in /usr/local/lib/python3.11/dist-packages (from spacy>=3->spacy[ja]>=3->TTS==0.22.0) (8.3.4)\n",
            "Requirement already satisfied: wasabi<1.2.0,>=0.9.1 in /usr/local/lib/python3.11/dist-packages (from spacy>=3->spacy[ja]>=3->TTS==0.22.0) (1.1.3)\n",
            "Requirement already satisfied: srsly<3.0.0,>=2.4.3 in /usr/local/lib/python3.11/dist-packages (from spacy>=3->spacy[ja]>=3->TTS==0.22.0) (2.5.1)\n",
            "Requirement already satisfied: catalogue<2.1.0,>=2.0.6 in /usr/local/lib/python3.11/dist-packages (from spacy>=3->spacy[ja]>=3->TTS==0.22.0) (2.0.10)\n",
            "Requirement already satisfied: weasel<0.5.0,>=0.1.0 in /usr/local/lib/python3.11/dist-packages (from spacy>=3->spacy[ja]>=3->TTS==0.22.0) (0.4.1)\n",
            "Requirement already satisfied: typer<1.0.0,>=0.3.0 in /usr/local/lib/python3.11/dist-packages (from spacy>=3->spacy[ja]>=3->TTS==0.22.0) (0.16.0)\n",
            "Requirement already satisfied: requests<3.0.0,>=2.13.0 in /usr/local/lib/python3.11/dist-packages (from spacy>=3->spacy[ja]>=3->TTS==0.22.0) (2.32.3)\n",
            "Requirement already satisfied: pydantic!=1.8,!=1.8.1,<3.0.0,>=1.7.4 in /usr/local/lib/python3.11/dist-packages (from spacy>=3->spacy[ja]>=3->TTS==0.22.0) (2.11.7)\n",
            "Requirement already satisfied: setuptools in /usr/local/lib/python3.11/dist-packages (from spacy>=3->spacy[ja]>=3->TTS==0.22.0) (75.2.0)\n",
            "Requirement already satisfied: langcodes<4.0.0,>=3.2.0 in /usr/local/lib/python3.11/dist-packages (from spacy>=3->spacy[ja]>=3->TTS==0.22.0) (3.5.0)\n",
            "Requirement already satisfied: sudachipy!=0.6.1,>=0.5.2 in /usr/local/lib/python3.11/dist-packages (from spacy[ja]>=3->TTS==0.22.0) (0.6.10)\n",
            "Requirement already satisfied: sudachidict_core>=20211220 in /usr/local/lib/python3.11/dist-packages (from spacy[ja]>=3->TTS==0.22.0) (20250515)\n",
            "Requirement already satisfied: filelock in /usr/local/lib/python3.11/dist-packages (from torch>=2.1->TTS==0.22.0) (3.18.0)\n",
            "Requirement already satisfied: nvidia-cuda-nvrtc-cu12==12.4.127 in /usr/local/lib/python3.11/dist-packages (from torch>=2.1->TTS==0.22.0) (12.4.127)\n",
            "Requirement already satisfied: nvidia-cuda-runtime-cu12==12.4.127 in /usr/local/lib/python3.11/dist-packages (from torch>=2.1->TTS==0.22.0) (12.4.127)\n",
            "Requirement already satisfied: nvidia-cuda-cupti-cu12==12.4.127 in /usr/local/lib/python3.11/dist-packages (from torch>=2.1->TTS==0.22.0) (12.4.127)\n",
            "Requirement already satisfied: nvidia-cudnn-cu12==9.1.0.70 in /usr/local/lib/python3.11/dist-packages (from torch>=2.1->TTS==0.22.0) (9.1.0.70)\n",
            "Requirement already satisfied: nvidia-cublas-cu12==12.4.5.8 in /usr/local/lib/python3.11/dist-packages (from torch>=2.1->TTS==0.22.0) (12.4.5.8)\n",
            "Requirement already satisfied: nvidia-cufft-cu12==11.2.1.3 in /usr/local/lib/python3.11/dist-packages (from torch>=2.1->TTS==0.22.0) (11.2.1.3)\n",
            "Requirement already satisfied: nvidia-curand-cu12==10.3.5.147 in /usr/local/lib/python3.11/dist-packages (from torch>=2.1->TTS==0.22.0) (10.3.5.147)\n",
            "Requirement already satisfied: nvidia-cusolver-cu12==11.6.1.9 in /usr/local/lib/python3.11/dist-packages (from torch>=2.1->TTS==0.22.0) (11.6.1.9)\n",
            "Requirement already satisfied: nvidia-cusparse-cu12==12.3.1.170 in /usr/local/lib/python3.11/dist-packages (from torch>=2.1->TTS==0.22.0) (12.3.1.170)\n",
            "Requirement already satisfied: nvidia-cusparselt-cu12==0.6.2 in /usr/local/lib/python3.11/dist-packages (from torch>=2.1->TTS==0.22.0) (0.6.2)\n",
            "Requirement already satisfied: nvidia-nccl-cu12==2.21.5 in /usr/local/lib/python3.11/dist-packages (from torch>=2.1->TTS==0.22.0) (2.21.5)\n",
            "Requirement already satisfied: nvidia-nvtx-cu12==12.4.127 in /usr/local/lib/python3.11/dist-packages (from torch>=2.1->TTS==0.22.0) (12.4.127)\n",
            "Requirement already satisfied: nvidia-nvjitlink-cu12==12.4.127 in /usr/local/lib/python3.11/dist-packages (from torch>=2.1->TTS==0.22.0) (12.4.127)\n",
            "Requirement already satisfied: triton==3.2.0 in /usr/local/lib/python3.11/dist-packages (from torch>=2.1->TTS==0.22.0) (3.2.0)\n",
            "Requirement already satisfied: sympy==1.13.1 in /usr/local/lib/python3.11/dist-packages (from torch>=2.1->TTS==0.22.0) (1.13.1)\n",
            "Requirement already satisfied: mpmath<1.4,>=1.1.0 in /usr/local/lib/python3.11/dist-packages (from sympy==1.13.1->torch>=2.1->TTS==0.22.0) (1.3.0)\n",
            "Requirement already satisfied: psutil in /usr/local/lib/python3.11/dist-packages (from trainer>=0.0.36->TTS==0.22.0) (5.9.5)\n",
            "Requirement already satisfied: tensorboard in /usr/local/lib/python3.11/dist-packages (from trainer>=0.0.36->TTS==0.22.0) (2.18.0)\n",
            "Requirement already satisfied: huggingface-hub<1.0,>=0.30.0 in /usr/local/lib/python3.11/dist-packages (from transformers>=4.33.0->TTS==0.22.0) (0.33.2)\n",
            "Requirement already satisfied: regex!=2019.12.17 in /usr/local/lib/python3.11/dist-packages (from transformers>=4.33.0->TTS==0.22.0) (2024.11.6)\n",
            "Requirement already satisfied: tokenizers<0.22,>=0.21 in /usr/local/lib/python3.11/dist-packages (from transformers>=4.33.0->TTS==0.22.0) (0.21.2)\n",
            "Requirement already satisfied: safetensors>=0.4.3 in /usr/local/lib/python3.11/dist-packages (from transformers>=4.33.0->TTS==0.22.0) (0.5.3)\n",
            "Requirement already satisfied: pynndescent>=0.5 in /usr/local/lib/python3.11/dist-packages (from umap-learn>=0.5.1->TTS==0.22.0) (0.5.13)\n",
            "Requirement already satisfied: pycparser in /usr/local/lib/python3.11/dist-packages (from cffi>=1.0->soundfile>=0.12.0->TTS==0.22.0) (2.22)\n",
            "Requirement already satisfied: tzlocal in /usr/local/lib/python3.11/dist-packages (from dateparser~=1.1.0->gruut==2.2.3->gruut[de,es,fr]==2.2.3->TTS==0.22.0) (5.3.1)\n",
            "Requirement already satisfied: hf-xet<2.0.0,>=1.1.2 in /usr/local/lib/python3.11/dist-packages (from huggingface-hub<1.0,>=0.30.0->transformers>=4.33.0->TTS==0.22.0) (1.1.5)\n",
            "Requirement already satisfied: six in /usr/local/lib/python3.11/dist-packages (from jsonlines~=1.2.0->gruut==2.2.3->gruut[de,es,fr]==2.2.3->TTS==0.22.0) (1.17.0)\n",
            "Requirement already satisfied: language-data>=1.2 in /usr/local/lib/python3.11/dist-packages (from langcodes<4.0.0,>=3.2.0->spacy>=3->spacy[ja]>=3->TTS==0.22.0) (1.3.0)\n",
            "Requirement already satisfied: platformdirs>=2.5.0 in /usr/local/lib/python3.11/dist-packages (from pooch>=1.1->librosa>=0.10.0->TTS==0.22.0) (4.3.8)\n",
            "Requirement already satisfied: annotated-types>=0.6.0 in /usr/local/lib/python3.11/dist-packages (from pydantic!=1.8,!=1.8.1,<3.0.0,>=1.7.4->spacy>=3->spacy[ja]>=3->TTS==0.22.0) (0.7.0)\n",
            "Requirement already satisfied: pydantic-core==2.33.2 in /usr/local/lib/python3.11/dist-packages (from pydantic!=1.8,!=1.8.1,<3.0.0,>=1.7.4->spacy>=3->spacy[ja]>=3->TTS==0.22.0) (2.33.2)\n",
            "Requirement already satisfied: typing-inspection>=0.4.0 in /usr/local/lib/python3.11/dist-packages (from pydantic!=1.8,!=1.8.1,<3.0.0,>=1.7.4->spacy>=3->spacy[ja]>=3->TTS==0.22.0) (0.4.1)\n",
            "Requirement already satisfied: charset-normalizer<4,>=2 in /usr/local/lib/python3.11/dist-packages (from requests<3.0.0,>=2.13.0->spacy>=3->spacy[ja]>=3->TTS==0.22.0) (3.4.2)\n",
            "Requirement already satisfied: idna<4,>=2.5 in /usr/local/lib/python3.11/dist-packages (from requests<3.0.0,>=2.13.0->spacy>=3->spacy[ja]>=3->TTS==0.22.0) (3.10)\n",
            "Requirement already satisfied: urllib3<3,>=1.21.1 in /usr/local/lib/python3.11/dist-packages (from requests<3.0.0,>=2.13.0->spacy>=3->spacy[ja]>=3->TTS==0.22.0) (2.4.0)\n",
            "Requirement already satisfied: certifi>=2017.4.17 in /usr/local/lib/python3.11/dist-packages (from requests<3.0.0,>=2.13.0->spacy>=3->spacy[ja]>=3->TTS==0.22.0) (2025.7.9)\n",
            "Requirement already satisfied: blis<1.3.0,>=1.2.0 in /usr/local/lib/python3.11/dist-packages (from thinc<8.4.0,>=8.3.4->spacy>=3->spacy[ja]>=3->TTS==0.22.0) (1.2.1)\n",
            "Requirement already satisfied: confection<1.0.0,>=0.0.1 in /usr/local/lib/python3.11/dist-packages (from thinc<8.4.0,>=8.3.4->spacy>=3->spacy[ja]>=3->TTS==0.22.0) (0.1.5)\n",
            "Requirement already satisfied: shellingham>=1.3.0 in /usr/local/lib/python3.11/dist-packages (from typer<1.0.0,>=0.3.0->spacy>=3->spacy[ja]>=3->TTS==0.22.0) (1.5.4)\n",
            "Requirement already satisfied: rich>=10.11.0 in /usr/local/lib/python3.11/dist-packages (from typer<1.0.0,>=0.3.0->spacy>=3->spacy[ja]>=3->TTS==0.22.0) (13.9.4)\n",
            "Requirement already satisfied: cloudpathlib<1.0.0,>=0.7.0 in /usr/local/lib/python3.11/dist-packages (from weasel<0.5.0,>=0.1.0->spacy>=3->spacy[ja]>=3->TTS==0.22.0) (0.21.1)\n",
            "Requirement already satisfied: smart-open<8.0.0,>=5.2.1 in /usr/local/lib/python3.11/dist-packages (from weasel<0.5.0,>=0.1.0->spacy>=3->spacy[ja]>=3->TTS==0.22.0) (7.3.0.post1)\n",
            "Requirement already satisfied: absl-py>=0.4 in /usr/local/lib/python3.11/dist-packages (from tensorboard->trainer>=0.0.36->TTS==0.22.0) (1.4.0)\n",
            "Requirement already satisfied: grpcio>=1.48.2 in /usr/local/lib/python3.11/dist-packages (from tensorboard->trainer>=0.0.36->TTS==0.22.0) (1.73.1)\n",
            "Requirement already satisfied: markdown>=2.6.8 in /usr/local/lib/python3.11/dist-packages (from tensorboard->trainer>=0.0.36->TTS==0.22.0) (3.8.2)\n",
            "Requirement already satisfied: protobuf!=4.24.0,>=3.19.6 in /usr/local/lib/python3.11/dist-packages (from tensorboard->trainer>=0.0.36->TTS==0.22.0) (5.29.5)\n",
            "Requirement already satisfied: tensorboard-data-server<0.8.0,>=0.7.0 in /usr/local/lib/python3.11/dist-packages (from tensorboard->trainer>=0.0.36->TTS==0.22.0) (0.7.2)\n",
            "Requirement already satisfied: marisa-trie>=1.1.0 in /usr/local/lib/python3.11/dist-packages (from language-data>=1.2->langcodes<4.0.0,>=3.2.0->spacy>=3->spacy[ja]>=3->TTS==0.22.0) (1.2.1)\n",
            "Requirement already satisfied: markdown-it-py>=2.2.0 in /usr/local/lib/python3.11/dist-packages (from rich>=10.11.0->typer<1.0.0,>=0.3.0->spacy>=3->spacy[ja]>=3->TTS==0.22.0) (3.0.0)\n",
            "Requirement already satisfied: pygments<3.0.0,>=2.13.0 in /usr/local/lib/python3.11/dist-packages (from rich>=10.11.0->typer<1.0.0,>=0.3.0->spacy>=3->spacy[ja]>=3->TTS==0.22.0) (2.19.2)\n",
            "Requirement already satisfied: wrapt in /usr/local/lib/python3.11/dist-packages (from smart-open<8.0.0,>=5.2.1->weasel<0.5.0,>=0.1.0->spacy>=3->spacy[ja]>=3->TTS==0.22.0) (1.12.1)\n",
            "Requirement already satisfied: mdurl~=0.1 in /usr/local/lib/python3.11/dist-packages (from markdown-it-py>=2.2.0->rich>=10.11.0->typer<1.0.0,>=0.3.0->spacy>=3->spacy[ja]>=3->TTS==0.22.0) (0.1.2)\n",
            "Downloading mutagen-1.47.0-py3-none-any.whl (194 kB)\n",
            "\u001b[2K   \u001b[90m━━━━━━━━━━━━━━━━━━━━━━━━━━━━━━━━━━━━━━━━\u001b[0m \u001b[32m194.4/194.4 kB\u001b[0m \u001b[31m4.6 MB/s\u001b[0m eta \u001b[36m0:00:00\u001b[0m\n",
            "\u001b[?25hUsing cached numpy-1.26.4-cp311-cp311-manylinux_2_17_x86_64.manylinux2014_x86_64.whl (18.3 MB)\n",
            "Using cached pandas-1.5.3-cp311-cp311-manylinux_2_17_x86_64.manylinux2014_x86_64.whl (12.0 MB)\n",
            "Using cached networkx-2.8.8-py3-none-any.whl (2.0 MB)\n",
            "Building wheels for collected packages: TTS\n",
            "  Building wheel for TTS (pyproject.toml) ... \u001b[?25l\u001b[?25hdone\n",
            "  Created wheel for TTS: filename=tts-0.22.0-cp311-cp311-linux_x86_64.whl size=904009 sha256=160a4d34fc00b6e37a76460b37e3e8a98750e5648652628f4dc79931690a6f48\n",
            "  Stored in directory: /tmp/pip-ephem-wheel-cache-pcj6fxsf/wheels/4c/ea/e8/03164d56abc0fa08ae174fb00841a3e7e87327f2d3acc9273b\n",
            "Successfully built TTS\n",
            "Installing collected packages: numpy, networkx, mutagen, pandas, TTS\n",
            "  Attempting uninstall: numpy\n",
            "    Found existing installation: numpy 2.3.1\n",
            "    Uninstalling numpy-2.3.1:\n",
            "      Successfully uninstalled numpy-2.3.1\n",
            "  Attempting uninstall: networkx\n",
            "    Found existing installation: networkx 3.5\n",
            "    Uninstalling networkx-3.5:\n",
            "      Successfully uninstalled networkx-3.5\n",
            "  Attempting uninstall: pandas\n",
            "    Found existing installation: pandas 2.3.1\n",
            "    Uninstalling pandas-2.3.1:\n",
            "      Successfully uninstalled pandas-2.3.1\n",
            "\u001b[31mERROR: pip's dependency resolver does not currently take into account all the packages that are installed. This behaviour is the source of the following dependency conflicts.\n",
            "google-colab 1.0.0 requires pandas==2.2.2, but you have pandas 1.5.3 which is incompatible.\n",
            "scikit-image 0.25.2 requires networkx>=3.0, but you have networkx 2.8.8 which is incompatible.\n",
            "dask-expr 1.1.21 requires pandas>=2, but you have pandas 1.5.3 which is incompatible.\n",
            "nx-cugraph-cu12 25.2.0 requires networkx>=3.2, but you have networkx 2.8.8 which is incompatible.\n",
            "cudf-cu12 25.2.1 requires pandas<2.2.4dev0,>=2.0, but you have pandas 1.5.3 which is incompatible.\n",
            "opencv-python-headless 4.12.0.88 requires numpy<2.3.0,>=2; python_version >= \"3.9\", but you have numpy 1.26.4 which is incompatible.\n",
            "plotnine 0.14.6 requires pandas>=2.2.0, but you have pandas 1.5.3 which is incompatible.\n",
            "mizani 0.13.5 requires pandas>=2.2.0, but you have pandas 1.5.3 which is incompatible.\n",
            "xarray 2025.3.1 requires pandas>=2.1, but you have pandas 1.5.3 which is incompatible.\n",
            "dask-cudf-cu12 25.2.2 requires pandas<2.2.4dev0,>=2.0, but you have pandas 1.5.3 which is incompatible.\u001b[0m\u001b[31m\n",
            "\u001b[0mSuccessfully installed TTS-0.22.0 mutagen-1.47.0 networkx-2.8.8 numpy-1.26.4 pandas-1.5.3\n"
          ]
        },
        {
          "output_type": "display_data",
          "data": {
            "application/vnd.colab-display-data+json": {
              "pip_warning": {
                "packages": [
                  "numpy",
                  "pandas"
                ]
              },
              "id": "d02ac786ca2d4dff9ba714c5bab2e9d6"
            }
          },
          "metadata": {}
        }
      ]
    },
    {
      "cell_type": "code",
      "source": [
        "#verifiying\n",
        "!which tts-preprocess\n",
        "!which tts-train"
      ],
      "metadata": {
        "id": "XEpXdtn2B4VA"
      },
      "execution_count": 1,
      "outputs": []
    },
    {
      "cell_type": "code",
      "source": [
        "!tts-preprocess --help\n",
        "!tts-train --help"
      ],
      "metadata": {
        "id": "mg-EEH2JCAFJ",
        "outputId": "9cc24580-b40d-4bd9-f310-0073bb83234e",
        "colab": {
          "base_uri": "https://localhost:8080/"
        }
      },
      "execution_count": 2,
      "outputs": [
        {
          "output_type": "stream",
          "name": "stdout",
          "text": [
            "/bin/bash: line 1: tts-preprocess: command not found\n",
            "/bin/bash: line 1: tts-train: command not found\n"
          ]
        }
      ]
    },
    {
      "cell_type": "code",
      "source": [
        "#pre-processing dataset\n",
        "from TTS.bin import preprocess\n",
        "\n",
        "preprocess.main([\n",
        "    \"--dataset_path\", \"my_voice_dataset\",\n",
        "    \"--dataset_metadata\", \"my_voice_dataset/metadata.csv\",\n",
        "    \"--output_path\", \"tts_preprocessed\"\n",
        "])"
      ],
      "metadata": {
        "id": "n63o0BbNCDZ6",
        "outputId": "fd7eda9f-49de-40a8-be41-98d773830229",
        "colab": {
          "base_uri": "https://localhost:8080/",
          "height": 383
        }
      },
      "execution_count": 3,
      "outputs": [
        {
          "output_type": "error",
          "ename": "ImportError",
          "evalue": "cannot import name 'preprocess' from 'TTS.bin' (/usr/local/lib/python3.11/dist-packages/TTS/bin/__init__.py)",
          "traceback": [
            "\u001b[0;31m---------------------------------------------------------------------------\u001b[0m",
            "\u001b[0;31mImportError\u001b[0m                               Traceback (most recent call last)",
            "\u001b[0;32m/tmp/ipython-input-3-2997511500.py\u001b[0m in \u001b[0;36m<cell line: 0>\u001b[0;34m()\u001b[0m\n\u001b[1;32m      1\u001b[0m \u001b[0;31m#pre-processing dataset\u001b[0m\u001b[0;34m\u001b[0m\u001b[0;34m\u001b[0m\u001b[0m\n\u001b[0;32m----> 2\u001b[0;31m \u001b[0;32mfrom\u001b[0m \u001b[0mTTS\u001b[0m\u001b[0;34m.\u001b[0m\u001b[0mbin\u001b[0m \u001b[0;32mimport\u001b[0m \u001b[0mpreprocess\u001b[0m\u001b[0;34m\u001b[0m\u001b[0;34m\u001b[0m\u001b[0m\n\u001b[0m\u001b[1;32m      3\u001b[0m \u001b[0;34m\u001b[0m\u001b[0m\n\u001b[1;32m      4\u001b[0m preprocess.main([\n\u001b[1;32m      5\u001b[0m     \u001b[0;34m\"--dataset_path\"\u001b[0m\u001b[0;34m,\u001b[0m \u001b[0;34m\"my_voice_dataset\"\u001b[0m\u001b[0;34m,\u001b[0m\u001b[0;34m\u001b[0m\u001b[0;34m\u001b[0m\u001b[0m\n",
            "\u001b[0;31mImportError\u001b[0m: cannot import name 'preprocess' from 'TTS.bin' (/usr/local/lib/python3.11/dist-packages/TTS/bin/__init__.py)",
            "",
            "\u001b[0;31m---------------------------------------------------------------------------\u001b[0;32m\nNOTE: If your import is failing due to a missing package, you can\nmanually install dependencies using either !pip or !apt.\n\nTo view examples of installing some common dependencies, click the\n\"Open Examples\" button below.\n\u001b[0;31m---------------------------------------------------------------------------\u001b[0m\n"
          ],
          "errorDetails": {
            "actions": [
              {
                "action": "open_url",
                "actionText": "Open Examples",
                "url": "/notebooks/snippets/importing_libraries.ipynb"
              }
            ]
          }
        }
      ]
    },
    {
      "cell_type": "code",
      "source": [
        "# json file path\n",
        "!find . -name \"*.json\""
      ],
      "metadata": {
        "id": "LchqqXe-C1dJ",
        "outputId": "651f8228-5058-477c-bd4c-0b9486bd7974",
        "colab": {
          "base_uri": "https://localhost:8080/"
        }
      },
      "execution_count": 4,
      "outputs": [
        {
          "output_type": "stream",
          "name": "stdout",
          "text": [
            "./.config/.last_update_check.json\n",
            "./my_tts_config/config.json\n",
            "./sample_data/anscombe.json\n"
          ]
        }
      ]
    },
    {
      "cell_type": "code",
      "source": [
        "# start training\n",
        "!tts --train_config ./my_tts_config/config.json"
      ],
      "metadata": {
        "id": "MyMgHJimDF1m",
        "outputId": "9f73ec43-3e11-4980-99ad-09ce9a606e10",
        "colab": {
          "base_uri": "https://localhost:8080/"
        }
      },
      "execution_count": 5,
      "outputs": [
        {
          "output_type": "stream",
          "name": "stdout",
          "text": [
            "usage: tts [-h] [--list_models [LIST_MODELS]]\n",
            "           [--model_info_by_idx MODEL_INFO_BY_IDX]\n",
            "           [--model_info_by_name MODEL_INFO_BY_NAME] [--text TEXT]\n",
            "           [--model_name MODEL_NAME] [--vocoder_name VOCODER_NAME]\n",
            "           [--config_path CONFIG_PATH] [--model_path MODEL_PATH]\n",
            "           [--out_path OUT_PATH] [--use_cuda USE_CUDA] [--device DEVICE]\n",
            "           [--vocoder_path VOCODER_PATH]\n",
            "           [--vocoder_config_path VOCODER_CONFIG_PATH]\n",
            "           [--encoder_path ENCODER_PATH]\n",
            "           [--encoder_config_path ENCODER_CONFIG_PATH] [--pipe_out [PIPE_OUT]]\n",
            "           [--speakers_file_path SPEAKERS_FILE_PATH]\n",
            "           [--language_ids_file_path LANGUAGE_IDS_FILE_PATH]\n",
            "           [--speaker_idx SPEAKER_IDX] [--language_idx LANGUAGE_IDX]\n",
            "           [--speaker_wav SPEAKER_WAV [SPEAKER_WAV ...]]\n",
            "           [--gst_style GST_STYLE]\n",
            "           [--capacitron_style_wav CAPACITRON_STYLE_WAV]\n",
            "           [--capacitron_style_text CAPACITRON_STYLE_TEXT]\n",
            "           [--list_speaker_idxs [LIST_SPEAKER_IDXS]]\n",
            "           [--list_language_idxs [LIST_LANGUAGE_IDXS]]\n",
            "           [--save_spectogram SAVE_SPECTOGRAM] [--reference_wav REFERENCE_WAV]\n",
            "           [--reference_speaker_idx REFERENCE_SPEAKER_IDX]\n",
            "           [--progress_bar PROGRESS_BAR] [--source_wav SOURCE_WAV]\n",
            "           [--target_wav TARGET_WAV] [--voice_dir VOICE_DIR]\n",
            "tts: error: unrecognized arguments: --train_config ./my_tts_config/config.json\n"
          ]
        }
      ]
    },
    {
      "cell_type": "code",
      "source": [
        "# install full tts repo\n",
        "!pip uninstall -y TTS\n",
        "!pip install git+https://github.com/coqui-ai/TTS.git@main"
      ],
      "metadata": {
        "id": "g5KRicUPDirg",
        "outputId": "bbcf3d60-0204-41da-943f-9398d95a3435",
        "colab": {
          "base_uri": "https://localhost:8080/",
          "height": 1000
        }
      },
      "execution_count": 6,
      "outputs": [
        {
          "output_type": "stream",
          "name": "stdout",
          "text": [
            "Found existing installation: TTS 0.22.0\n",
            "Uninstalling TTS-0.22.0:\n",
            "  Successfully uninstalled TTS-0.22.0\n",
            "Collecting git+https://github.com/coqui-ai/TTS.git@main\n",
            "  Cloning https://github.com/coqui-ai/TTS.git (to revision main) to /tmp/pip-req-build-9__kcg67\n",
            "  Running command git clone --filter=blob:none --quiet https://github.com/coqui-ai/TTS.git /tmp/pip-req-build-9__kcg67\n",
            "  Running command git checkout -b main --track origin/main\n",
            "  Switched to a new branch 'main'\n",
            "  Branch 'main' set up to track remote branch 'main' from 'origin'.\n",
            "  Resolved https://github.com/coqui-ai/TTS.git to commit eef419b37393b11cc741662d041d8d793e011f2d\n",
            "  Installing build dependencies ... \u001b[?25l\u001b[?25hdone\n",
            "  Getting requirements to build wheel ... \u001b[?25l\u001b[?25hdone\n",
            "  Preparing metadata (pyproject.toml) ... \u001b[?25l\u001b[?25hdone\n",
            "Requirement already satisfied: numpy>=1.24.3 in /usr/local/lib/python3.11/dist-packages (from TTS==0.22.0) (1.26.4)\n",
            "Requirement already satisfied: cython>=0.29.30 in /usr/local/lib/python3.11/dist-packages (from TTS==0.22.0) (3.0.12)\n",
            "Requirement already satisfied: scipy>=1.11.2 in /usr/local/lib/python3.11/dist-packages (from TTS==0.22.0) (1.15.3)\n",
            "Requirement already satisfied: torch>=2.1 in /usr/local/lib/python3.11/dist-packages (from TTS==0.22.0) (2.6.0+cu124)\n",
            "Requirement already satisfied: torchaudio in /usr/local/lib/python3.11/dist-packages (from TTS==0.22.0) (2.6.0+cu124)\n",
            "Requirement already satisfied: soundfile>=0.12.0 in /usr/local/lib/python3.11/dist-packages (from TTS==0.22.0) (0.13.1)\n",
            "Requirement already satisfied: librosa>=0.10.0 in /usr/local/lib/python3.11/dist-packages (from TTS==0.22.0) (0.11.0)\n",
            "Requirement already satisfied: scikit-learn>=1.3.0 in /usr/local/lib/python3.11/dist-packages (from TTS==0.22.0) (1.6.1)\n",
            "Requirement already satisfied: numba>=0.57.0 in /usr/local/lib/python3.11/dist-packages (from TTS==0.22.0) (0.60.0)\n",
            "Requirement already satisfied: inflect>=5.6.0 in /usr/local/lib/python3.11/dist-packages (from TTS==0.22.0) (7.5.0)\n",
            "Requirement already satisfied: tqdm>=4.64.1 in /usr/local/lib/python3.11/dist-packages (from TTS==0.22.0) (4.67.1)\n",
            "Requirement already satisfied: anyascii>=0.3.0 in /usr/local/lib/python3.11/dist-packages (from TTS==0.22.0) (0.3.3)\n",
            "Requirement already satisfied: pyyaml>=6.0 in /usr/local/lib/python3.11/dist-packages (from TTS==0.22.0) (6.0.2)\n",
            "Requirement already satisfied: fsspec>=2023.6.0 in /usr/local/lib/python3.11/dist-packages (from TTS==0.22.0) (2025.3.2)\n",
            "Requirement already satisfied: aiohttp>=3.8.1 in /usr/local/lib/python3.11/dist-packages (from TTS==0.22.0) (3.11.15)\n",
            "Requirement already satisfied: packaging>=23.1 in /usr/local/lib/python3.11/dist-packages (from TTS==0.22.0) (24.2)\n",
            "Requirement already satisfied: flask>=2.0.1 in /usr/local/lib/python3.11/dist-packages (from TTS==0.22.0) (3.1.1)\n",
            "Requirement already satisfied: pysbd>=0.3.4 in /usr/local/lib/python3.11/dist-packages (from TTS==0.22.0) (0.3.4)\n",
            "Requirement already satisfied: umap-learn>=0.5.1 in /usr/local/lib/python3.11/dist-packages (from TTS==0.22.0) (0.5.9.post2)\n",
            "Requirement already satisfied: pandas<2.0,>=1.4 in /usr/local/lib/python3.11/dist-packages (from TTS==0.22.0) (1.5.3)\n",
            "Requirement already satisfied: matplotlib>=3.7.0 in /usr/local/lib/python3.11/dist-packages (from TTS==0.22.0) (3.10.0)\n",
            "Requirement already satisfied: trainer>=0.0.32 in /usr/local/lib/python3.11/dist-packages (from TTS==0.22.0) (0.0.36)\n",
            "Requirement already satisfied: coqpit>=0.0.16 in /usr/local/lib/python3.11/dist-packages (from TTS==0.22.0) (0.0.17)\n",
            "Requirement already satisfied: jieba in /usr/local/lib/python3.11/dist-packages (from TTS==0.22.0) (0.42.1)\n",
            "Requirement already satisfied: pypinyin in /usr/local/lib/python3.11/dist-packages (from TTS==0.22.0) (0.54.0)\n",
            "Requirement already satisfied: hangul_romanize in /usr/local/lib/python3.11/dist-packages (from TTS==0.22.0) (0.1.0)\n",
            "Requirement already satisfied: gruut==2.2.3 in /usr/local/lib/python3.11/dist-packages (from gruut[de,es,fr]==2.2.3->TTS==0.22.0) (2.2.3)\n",
            "Requirement already satisfied: jamo in /usr/local/lib/python3.11/dist-packages (from TTS==0.22.0) (0.4.1)\n",
            "Requirement already satisfied: nltk in /usr/local/lib/python3.11/dist-packages (from TTS==0.22.0) (3.9.1)\n",
            "Requirement already satisfied: g2pkk>=0.1.1 in /usr/local/lib/python3.11/dist-packages (from TTS==0.22.0) (0.1.2)\n",
            "Requirement already satisfied: bangla in /usr/local/lib/python3.11/dist-packages (from TTS==0.22.0) (0.0.5)\n",
            "Requirement already satisfied: bnnumerizer in /usr/local/lib/python3.11/dist-packages (from TTS==0.22.0) (0.0.2)\n",
            "Requirement already satisfied: bnunicodenormalizer in /usr/local/lib/python3.11/dist-packages (from TTS==0.22.0) (0.1.7)\n",
            "Requirement already satisfied: einops>=0.6.0 in /usr/local/lib/python3.11/dist-packages (from TTS==0.22.0) (0.8.1)\n",
            "Requirement already satisfied: transformers>=4.33.0 in /usr/local/lib/python3.11/dist-packages (from TTS==0.22.0) (4.53.1)\n",
            "Requirement already satisfied: encodec>=0.1.1 in /usr/local/lib/python3.11/dist-packages (from TTS==0.22.0) (0.1.1)\n",
            "Requirement already satisfied: unidecode>=1.3.2 in /usr/local/lib/python3.11/dist-packages (from TTS==0.22.0) (1.4.0)\n",
            "Requirement already satisfied: num2words in /usr/local/lib/python3.11/dist-packages (from TTS==0.22.0) (0.5.14)\n",
            "Requirement already satisfied: spacy>=3 in /usr/local/lib/python3.11/dist-packages (from spacy[ja]>=3->TTS==0.22.0) (3.8.7)\n",
            "Requirement already satisfied: Babel<3.0.0,>=2.8.0 in /usr/local/lib/python3.11/dist-packages (from gruut==2.2.3->gruut[de,es,fr]==2.2.3->TTS==0.22.0) (2.17.0)\n",
            "Requirement already satisfied: dateparser~=1.1.0 in /usr/local/lib/python3.11/dist-packages (from gruut==2.2.3->gruut[de,es,fr]==2.2.3->TTS==0.22.0) (1.1.8)\n",
            "Requirement already satisfied: gruut-ipa<1.0,>=0.12.0 in /usr/local/lib/python3.11/dist-packages (from gruut==2.2.3->gruut[de,es,fr]==2.2.3->TTS==0.22.0) (0.13.0)\n",
            "Requirement already satisfied: gruut-lang-en~=2.0.0 in /usr/local/lib/python3.11/dist-packages (from gruut==2.2.3->gruut[de,es,fr]==2.2.3->TTS==0.22.0) (2.0.1)\n",
            "Requirement already satisfied: jsonlines~=1.2.0 in /usr/local/lib/python3.11/dist-packages (from gruut==2.2.3->gruut[de,es,fr]==2.2.3->TTS==0.22.0) (1.2.0)\n",
            "Requirement already satisfied: networkx<3.0.0,>=2.5.0 in /usr/local/lib/python3.11/dist-packages (from gruut==2.2.3->gruut[de,es,fr]==2.2.3->TTS==0.22.0) (2.8.8)\n",
            "Requirement already satisfied: python-crfsuite~=0.9.7 in /usr/local/lib/python3.11/dist-packages (from gruut==2.2.3->gruut[de,es,fr]==2.2.3->TTS==0.22.0) (0.9.11)\n",
            "Requirement already satisfied: gruut-lang-de~=2.0.0 in /usr/local/lib/python3.11/dist-packages (from gruut[de,es,fr]==2.2.3->TTS==0.22.0) (2.0.1)\n",
            "Requirement already satisfied: gruut-lang-es~=2.0.0 in /usr/local/lib/python3.11/dist-packages (from gruut[de,es,fr]==2.2.3->TTS==0.22.0) (2.0.1)\n",
            "Requirement already satisfied: gruut-lang-fr~=2.0.0 in /usr/local/lib/python3.11/dist-packages (from gruut[de,es,fr]==2.2.3->TTS==0.22.0) (2.0.2)\n",
            "Requirement already satisfied: aiohappyeyeballs>=2.3.0 in /usr/local/lib/python3.11/dist-packages (from aiohttp>=3.8.1->TTS==0.22.0) (2.6.1)\n",
            "Requirement already satisfied: aiosignal>=1.1.2 in /usr/local/lib/python3.11/dist-packages (from aiohttp>=3.8.1->TTS==0.22.0) (1.4.0)\n",
            "Requirement already satisfied: attrs>=17.3.0 in /usr/local/lib/python3.11/dist-packages (from aiohttp>=3.8.1->TTS==0.22.0) (25.3.0)\n",
            "Requirement already satisfied: frozenlist>=1.1.1 in /usr/local/lib/python3.11/dist-packages (from aiohttp>=3.8.1->TTS==0.22.0) (1.7.0)\n",
            "Requirement already satisfied: multidict<7.0,>=4.5 in /usr/local/lib/python3.11/dist-packages (from aiohttp>=3.8.1->TTS==0.22.0) (6.6.3)\n",
            "Requirement already satisfied: propcache>=0.2.0 in /usr/local/lib/python3.11/dist-packages (from aiohttp>=3.8.1->TTS==0.22.0) (0.3.2)\n",
            "Requirement already satisfied: yarl<2.0,>=1.17.0 in /usr/local/lib/python3.11/dist-packages (from aiohttp>=3.8.1->TTS==0.22.0) (1.20.1)\n",
            "Requirement already satisfied: blinker>=1.9.0 in /usr/local/lib/python3.11/dist-packages (from flask>=2.0.1->TTS==0.22.0) (1.9.0)\n",
            "Requirement already satisfied: click>=8.1.3 in /usr/local/lib/python3.11/dist-packages (from flask>=2.0.1->TTS==0.22.0) (8.2.1)\n",
            "Requirement already satisfied: itsdangerous>=2.2.0 in /usr/local/lib/python3.11/dist-packages (from flask>=2.0.1->TTS==0.22.0) (2.2.0)\n",
            "Requirement already satisfied: jinja2>=3.1.2 in /usr/local/lib/python3.11/dist-packages (from flask>=2.0.1->TTS==0.22.0) (3.1.6)\n",
            "Requirement already satisfied: markupsafe>=2.1.1 in /usr/local/lib/python3.11/dist-packages (from flask>=2.0.1->TTS==0.22.0) (3.0.2)\n",
            "Requirement already satisfied: werkzeug>=3.1.0 in /usr/local/lib/python3.11/dist-packages (from flask>=2.0.1->TTS==0.22.0) (3.1.3)\n",
            "Requirement already satisfied: more_itertools>=8.5.0 in /usr/local/lib/python3.11/dist-packages (from inflect>=5.6.0->TTS==0.22.0) (10.7.0)\n",
            "Requirement already satisfied: typeguard>=4.0.1 in /usr/local/lib/python3.11/dist-packages (from inflect>=5.6.0->TTS==0.22.0) (4.4.4)\n",
            "Requirement already satisfied: audioread>=2.1.9 in /usr/local/lib/python3.11/dist-packages (from librosa>=0.10.0->TTS==0.22.0) (3.0.1)\n",
            "Requirement already satisfied: joblib>=1.0 in /usr/local/lib/python3.11/dist-packages (from librosa>=0.10.0->TTS==0.22.0) (1.5.1)\n",
            "Requirement already satisfied: decorator>=4.3.0 in /usr/local/lib/python3.11/dist-packages (from librosa>=0.10.0->TTS==0.22.0) (4.4.2)\n",
            "Requirement already satisfied: pooch>=1.1 in /usr/local/lib/python3.11/dist-packages (from librosa>=0.10.0->TTS==0.22.0) (1.8.2)\n",
            "Requirement already satisfied: soxr>=0.3.2 in /usr/local/lib/python3.11/dist-packages (from librosa>=0.10.0->TTS==0.22.0) (0.5.0.post1)\n",
            "Requirement already satisfied: typing_extensions>=4.1.1 in /usr/local/lib/python3.11/dist-packages (from librosa>=0.10.0->TTS==0.22.0) (4.14.1)\n",
            "Requirement already satisfied: lazy_loader>=0.1 in /usr/local/lib/python3.11/dist-packages (from librosa>=0.10.0->TTS==0.22.0) (0.4)\n",
            "Requirement already satisfied: msgpack>=1.0 in /usr/local/lib/python3.11/dist-packages (from librosa>=0.10.0->TTS==0.22.0) (1.1.1)\n",
            "Requirement already satisfied: contourpy>=1.0.1 in /usr/local/lib/python3.11/dist-packages (from matplotlib>=3.7.0->TTS==0.22.0) (1.3.2)\n",
            "Requirement already satisfied: cycler>=0.10 in /usr/local/lib/python3.11/dist-packages (from matplotlib>=3.7.0->TTS==0.22.0) (0.12.1)\n",
            "Requirement already satisfied: fonttools>=4.22.0 in /usr/local/lib/python3.11/dist-packages (from matplotlib>=3.7.0->TTS==0.22.0) (4.58.5)\n",
            "Requirement already satisfied: kiwisolver>=1.3.1 in /usr/local/lib/python3.11/dist-packages (from matplotlib>=3.7.0->TTS==0.22.0) (1.4.8)\n",
            "Requirement already satisfied: pillow>=8 in /usr/local/lib/python3.11/dist-packages (from matplotlib>=3.7.0->TTS==0.22.0) (11.2.1)\n",
            "Requirement already satisfied: pyparsing>=2.3.1 in /usr/local/lib/python3.11/dist-packages (from matplotlib>=3.7.0->TTS==0.22.0) (3.2.3)\n",
            "Requirement already satisfied: python-dateutil>=2.7 in /usr/local/lib/python3.11/dist-packages (from matplotlib>=3.7.0->TTS==0.22.0) (2.9.0.post0)\n",
            "Requirement already satisfied: docopt>=0.6.2 in /usr/local/lib/python3.11/dist-packages (from num2words->TTS==0.22.0) (0.6.2)\n",
            "Requirement already satisfied: llvmlite<0.44,>=0.43.0dev0 in /usr/local/lib/python3.11/dist-packages (from numba>=0.57.0->TTS==0.22.0) (0.43.0)\n",
            "Requirement already satisfied: pytz>=2020.1 in /usr/local/lib/python3.11/dist-packages (from pandas<2.0,>=1.4->TTS==0.22.0) (2025.2)\n",
            "Requirement already satisfied: threadpoolctl>=3.1.0 in /usr/local/lib/python3.11/dist-packages (from scikit-learn>=1.3.0->TTS==0.22.0) (3.6.0)\n",
            "Requirement already satisfied: cffi>=1.0 in /usr/local/lib/python3.11/dist-packages (from soundfile>=0.12.0->TTS==0.22.0) (1.17.1)\n",
            "Requirement already satisfied: spacy-legacy<3.1.0,>=3.0.11 in /usr/local/lib/python3.11/dist-packages (from spacy>=3->spacy[ja]>=3->TTS==0.22.0) (3.0.12)\n",
            "Requirement already satisfied: spacy-loggers<2.0.0,>=1.0.0 in /usr/local/lib/python3.11/dist-packages (from spacy>=3->spacy[ja]>=3->TTS==0.22.0) (1.0.5)\n",
            "Requirement already satisfied: murmurhash<1.1.0,>=0.28.0 in /usr/local/lib/python3.11/dist-packages (from spacy>=3->spacy[ja]>=3->TTS==0.22.0) (1.0.13)\n",
            "Requirement already satisfied: cymem<2.1.0,>=2.0.2 in /usr/local/lib/python3.11/dist-packages (from spacy>=3->spacy[ja]>=3->TTS==0.22.0) (2.0.11)\n",
            "Requirement already satisfied: preshed<3.1.0,>=3.0.2 in /usr/local/lib/python3.11/dist-packages (from spacy>=3->spacy[ja]>=3->TTS==0.22.0) (3.0.10)\n",
            "Requirement already satisfied: thinc<8.4.0,>=8.3.4 in /usr/local/lib/python3.11/dist-packages (from spacy>=3->spacy[ja]>=3->TTS==0.22.0) (8.3.4)\n",
            "Requirement already satisfied: wasabi<1.2.0,>=0.9.1 in /usr/local/lib/python3.11/dist-packages (from spacy>=3->spacy[ja]>=3->TTS==0.22.0) (1.1.3)\n",
            "Requirement already satisfied: srsly<3.0.0,>=2.4.3 in /usr/local/lib/python3.11/dist-packages (from spacy>=3->spacy[ja]>=3->TTS==0.22.0) (2.5.1)\n",
            "Requirement already satisfied: catalogue<2.1.0,>=2.0.6 in /usr/local/lib/python3.11/dist-packages (from spacy>=3->spacy[ja]>=3->TTS==0.22.0) (2.0.10)\n",
            "Requirement already satisfied: weasel<0.5.0,>=0.1.0 in /usr/local/lib/python3.11/dist-packages (from spacy>=3->spacy[ja]>=3->TTS==0.22.0) (0.4.1)\n",
            "Requirement already satisfied: typer<1.0.0,>=0.3.0 in /usr/local/lib/python3.11/dist-packages (from spacy>=3->spacy[ja]>=3->TTS==0.22.0) (0.16.0)\n",
            "Requirement already satisfied: requests<3.0.0,>=2.13.0 in /usr/local/lib/python3.11/dist-packages (from spacy>=3->spacy[ja]>=3->TTS==0.22.0) (2.32.3)\n",
            "Requirement already satisfied: pydantic!=1.8,!=1.8.1,<3.0.0,>=1.7.4 in /usr/local/lib/python3.11/dist-packages (from spacy>=3->spacy[ja]>=3->TTS==0.22.0) (2.11.7)\n",
            "Requirement already satisfied: setuptools in /usr/local/lib/python3.11/dist-packages (from spacy>=3->spacy[ja]>=3->TTS==0.22.0) (75.2.0)\n",
            "Requirement already satisfied: langcodes<4.0.0,>=3.2.0 in /usr/local/lib/python3.11/dist-packages (from spacy>=3->spacy[ja]>=3->TTS==0.22.0) (3.5.0)\n",
            "Requirement already satisfied: sudachipy!=0.6.1,>=0.5.2 in /usr/local/lib/python3.11/dist-packages (from spacy[ja]>=3->TTS==0.22.0) (0.6.10)\n",
            "Requirement already satisfied: sudachidict_core>=20211220 in /usr/local/lib/python3.11/dist-packages (from spacy[ja]>=3->TTS==0.22.0) (20250515)\n",
            "Requirement already satisfied: filelock in /usr/local/lib/python3.11/dist-packages (from torch>=2.1->TTS==0.22.0) (3.18.0)\n",
            "Requirement already satisfied: nvidia-cuda-nvrtc-cu12==12.4.127 in /usr/local/lib/python3.11/dist-packages (from torch>=2.1->TTS==0.22.0) (12.4.127)\n",
            "Requirement already satisfied: nvidia-cuda-runtime-cu12==12.4.127 in /usr/local/lib/python3.11/dist-packages (from torch>=2.1->TTS==0.22.0) (12.4.127)\n",
            "Requirement already satisfied: nvidia-cuda-cupti-cu12==12.4.127 in /usr/local/lib/python3.11/dist-packages (from torch>=2.1->TTS==0.22.0) (12.4.127)\n",
            "Requirement already satisfied: nvidia-cudnn-cu12==9.1.0.70 in /usr/local/lib/python3.11/dist-packages (from torch>=2.1->TTS==0.22.0) (9.1.0.70)\n",
            "Requirement already satisfied: nvidia-cublas-cu12==12.4.5.8 in /usr/local/lib/python3.11/dist-packages (from torch>=2.1->TTS==0.22.0) (12.4.5.8)\n",
            "Requirement already satisfied: nvidia-cufft-cu12==11.2.1.3 in /usr/local/lib/python3.11/dist-packages (from torch>=2.1->TTS==0.22.0) (11.2.1.3)\n",
            "Requirement already satisfied: nvidia-curand-cu12==10.3.5.147 in /usr/local/lib/python3.11/dist-packages (from torch>=2.1->TTS==0.22.0) (10.3.5.147)\n",
            "Requirement already satisfied: nvidia-cusolver-cu12==11.6.1.9 in /usr/local/lib/python3.11/dist-packages (from torch>=2.1->TTS==0.22.0) (11.6.1.9)\n",
            "Requirement already satisfied: nvidia-cusparse-cu12==12.3.1.170 in /usr/local/lib/python3.11/dist-packages (from torch>=2.1->TTS==0.22.0) (12.3.1.170)\n",
            "Requirement already satisfied: nvidia-cusparselt-cu12==0.6.2 in /usr/local/lib/python3.11/dist-packages (from torch>=2.1->TTS==0.22.0) (0.6.2)\n",
            "Requirement already satisfied: nvidia-nccl-cu12==2.21.5 in /usr/local/lib/python3.11/dist-packages (from torch>=2.1->TTS==0.22.0) (2.21.5)\n",
            "Requirement already satisfied: nvidia-nvtx-cu12==12.4.127 in /usr/local/lib/python3.11/dist-packages (from torch>=2.1->TTS==0.22.0) (12.4.127)\n",
            "Requirement already satisfied: nvidia-nvjitlink-cu12==12.4.127 in /usr/local/lib/python3.11/dist-packages (from torch>=2.1->TTS==0.22.0) (12.4.127)\n",
            "Requirement already satisfied: triton==3.2.0 in /usr/local/lib/python3.11/dist-packages (from torch>=2.1->TTS==0.22.0) (3.2.0)\n",
            "Requirement already satisfied: sympy==1.13.1 in /usr/local/lib/python3.11/dist-packages (from torch>=2.1->TTS==0.22.0) (1.13.1)\n",
            "Requirement already satisfied: mpmath<1.4,>=1.1.0 in /usr/local/lib/python3.11/dist-packages (from sympy==1.13.1->torch>=2.1->TTS==0.22.0) (1.3.0)\n",
            "Requirement already satisfied: psutil in /usr/local/lib/python3.11/dist-packages (from trainer>=0.0.32->TTS==0.22.0) (5.9.5)\n",
            "Requirement already satisfied: tensorboard in /usr/local/lib/python3.11/dist-packages (from trainer>=0.0.32->TTS==0.22.0) (2.18.0)\n",
            "Requirement already satisfied: huggingface-hub<1.0,>=0.30.0 in /usr/local/lib/python3.11/dist-packages (from transformers>=4.33.0->TTS==0.22.0) (0.33.2)\n",
            "Requirement already satisfied: regex!=2019.12.17 in /usr/local/lib/python3.11/dist-packages (from transformers>=4.33.0->TTS==0.22.0) (2024.11.6)\n",
            "Requirement already satisfied: tokenizers<0.22,>=0.21 in /usr/local/lib/python3.11/dist-packages (from transformers>=4.33.0->TTS==0.22.0) (0.21.2)\n",
            "Requirement already satisfied: safetensors>=0.4.3 in /usr/local/lib/python3.11/dist-packages (from transformers>=4.33.0->TTS==0.22.0) (0.5.3)\n",
            "Requirement already satisfied: pynndescent>=0.5 in /usr/local/lib/python3.11/dist-packages (from umap-learn>=0.5.1->TTS==0.22.0) (0.5.13)\n",
            "Requirement already satisfied: pycparser in /usr/local/lib/python3.11/dist-packages (from cffi>=1.0->soundfile>=0.12.0->TTS==0.22.0) (2.22)\n",
            "Requirement already satisfied: tzlocal in /usr/local/lib/python3.11/dist-packages (from dateparser~=1.1.0->gruut==2.2.3->gruut[de,es,fr]==2.2.3->TTS==0.22.0) (5.3.1)\n",
            "Requirement already satisfied: hf-xet<2.0.0,>=1.1.2 in /usr/local/lib/python3.11/dist-packages (from huggingface-hub<1.0,>=0.30.0->transformers>=4.33.0->TTS==0.22.0) (1.1.5)\n",
            "Requirement already satisfied: six in /usr/local/lib/python3.11/dist-packages (from jsonlines~=1.2.0->gruut==2.2.3->gruut[de,es,fr]==2.2.3->TTS==0.22.0) (1.17.0)\n",
            "Requirement already satisfied: language-data>=1.2 in /usr/local/lib/python3.11/dist-packages (from langcodes<4.0.0,>=3.2.0->spacy>=3->spacy[ja]>=3->TTS==0.22.0) (1.3.0)\n",
            "Requirement already satisfied: platformdirs>=2.5.0 in /usr/local/lib/python3.11/dist-packages (from pooch>=1.1->librosa>=0.10.0->TTS==0.22.0) (4.3.8)\n",
            "Requirement already satisfied: annotated-types>=0.6.0 in /usr/local/lib/python3.11/dist-packages (from pydantic!=1.8,!=1.8.1,<3.0.0,>=1.7.4->spacy>=3->spacy[ja]>=3->TTS==0.22.0) (0.7.0)\n",
            "Requirement already satisfied: pydantic-core==2.33.2 in /usr/local/lib/python3.11/dist-packages (from pydantic!=1.8,!=1.8.1,<3.0.0,>=1.7.4->spacy>=3->spacy[ja]>=3->TTS==0.22.0) (2.33.2)\n",
            "Requirement already satisfied: typing-inspection>=0.4.0 in /usr/local/lib/python3.11/dist-packages (from pydantic!=1.8,!=1.8.1,<3.0.0,>=1.7.4->spacy>=3->spacy[ja]>=3->TTS==0.22.0) (0.4.1)\n",
            "Requirement already satisfied: charset-normalizer<4,>=2 in /usr/local/lib/python3.11/dist-packages (from requests<3.0.0,>=2.13.0->spacy>=3->spacy[ja]>=3->TTS==0.22.0) (3.4.2)\n",
            "Requirement already satisfied: idna<4,>=2.5 in /usr/local/lib/python3.11/dist-packages (from requests<3.0.0,>=2.13.0->spacy>=3->spacy[ja]>=3->TTS==0.22.0) (3.10)\n",
            "Requirement already satisfied: urllib3<3,>=1.21.1 in /usr/local/lib/python3.11/dist-packages (from requests<3.0.0,>=2.13.0->spacy>=3->spacy[ja]>=3->TTS==0.22.0) (2.4.0)\n",
            "Requirement already satisfied: certifi>=2017.4.17 in /usr/local/lib/python3.11/dist-packages (from requests<3.0.0,>=2.13.0->spacy>=3->spacy[ja]>=3->TTS==0.22.0) (2025.7.9)\n",
            "Requirement already satisfied: blis<1.3.0,>=1.2.0 in /usr/local/lib/python3.11/dist-packages (from thinc<8.4.0,>=8.3.4->spacy>=3->spacy[ja]>=3->TTS==0.22.0) (1.2.1)\n",
            "Requirement already satisfied: confection<1.0.0,>=0.0.1 in /usr/local/lib/python3.11/dist-packages (from thinc<8.4.0,>=8.3.4->spacy>=3->spacy[ja]>=3->TTS==0.22.0) (0.1.5)\n",
            "Requirement already satisfied: shellingham>=1.3.0 in /usr/local/lib/python3.11/dist-packages (from typer<1.0.0,>=0.3.0->spacy>=3->spacy[ja]>=3->TTS==0.22.0) (1.5.4)\n",
            "Requirement already satisfied: rich>=10.11.0 in /usr/local/lib/python3.11/dist-packages (from typer<1.0.0,>=0.3.0->spacy>=3->spacy[ja]>=3->TTS==0.22.0) (13.9.4)\n",
            "Requirement already satisfied: cloudpathlib<1.0.0,>=0.7.0 in /usr/local/lib/python3.11/dist-packages (from weasel<0.5.0,>=0.1.0->spacy>=3->spacy[ja]>=3->TTS==0.22.0) (0.21.1)\n",
            "Requirement already satisfied: smart-open<8.0.0,>=5.2.1 in /usr/local/lib/python3.11/dist-packages (from weasel<0.5.0,>=0.1.0->spacy>=3->spacy[ja]>=3->TTS==0.22.0) (7.3.0.post1)\n",
            "Requirement already satisfied: absl-py>=0.4 in /usr/local/lib/python3.11/dist-packages (from tensorboard->trainer>=0.0.32->TTS==0.22.0) (1.4.0)\n",
            "Requirement already satisfied: grpcio>=1.48.2 in /usr/local/lib/python3.11/dist-packages (from tensorboard->trainer>=0.0.32->TTS==0.22.0) (1.73.1)\n",
            "Requirement already satisfied: markdown>=2.6.8 in /usr/local/lib/python3.11/dist-packages (from tensorboard->trainer>=0.0.32->TTS==0.22.0) (3.8.2)\n",
            "Requirement already satisfied: protobuf!=4.24.0,>=3.19.6 in /usr/local/lib/python3.11/dist-packages (from tensorboard->trainer>=0.0.32->TTS==0.22.0) (5.29.5)\n",
            "Requirement already satisfied: tensorboard-data-server<0.8.0,>=0.7.0 in /usr/local/lib/python3.11/dist-packages (from tensorboard->trainer>=0.0.32->TTS==0.22.0) (0.7.2)\n",
            "Requirement already satisfied: marisa-trie>=1.1.0 in /usr/local/lib/python3.11/dist-packages (from language-data>=1.2->langcodes<4.0.0,>=3.2.0->spacy>=3->spacy[ja]>=3->TTS==0.22.0) (1.2.1)\n",
            "Requirement already satisfied: markdown-it-py>=2.2.0 in /usr/local/lib/python3.11/dist-packages (from rich>=10.11.0->typer<1.0.0,>=0.3.0->spacy>=3->spacy[ja]>=3->TTS==0.22.0) (3.0.0)\n",
            "Requirement already satisfied: pygments<3.0.0,>=2.13.0 in /usr/local/lib/python3.11/dist-packages (from rich>=10.11.0->typer<1.0.0,>=0.3.0->spacy>=3->spacy[ja]>=3->TTS==0.22.0) (2.19.2)\n",
            "Requirement already satisfied: wrapt in /usr/local/lib/python3.11/dist-packages (from smart-open<8.0.0,>=5.2.1->weasel<0.5.0,>=0.1.0->spacy>=3->spacy[ja]>=3->TTS==0.22.0) (1.12.1)\n",
            "Requirement already satisfied: mdurl~=0.1 in /usr/local/lib/python3.11/dist-packages (from markdown-it-py>=2.2.0->rich>=10.11.0->typer<1.0.0,>=0.3.0->spacy>=3->spacy[ja]>=3->TTS==0.22.0) (0.1.2)\n",
            "Building wheels for collected packages: TTS\n",
            "  Building wheel for TTS (pyproject.toml) ... \u001b[?25l\u001b[?25hdone\n",
            "  Created wheel for TTS: filename=tts-0.22.0-cp311-cp311-linux_x86_64.whl size=903928 sha256=d495c612743c47384cff9b5ea0bab4a2b22b03d6fe9d7da63dae1dd2003efc97\n",
            "  Stored in directory: /tmp/pip-ephem-wheel-cache-h2h2ih_t/wheels/fe/96/ab/545a72d72d7f20a1e84ad58e8cc6d7c652306cf713034edd99\n",
            "Successfully built TTS\n",
            "Installing collected packages: TTS\n",
            "Successfully installed TTS-0.22.0\n"
          ]
        },
        {
          "output_type": "display_data",
          "data": {
            "application/vnd.colab-display-data+json": {
              "pip_warning": {
                "packages": [
                  "TTS"
                ]
              },
              "id": "2792d0c24d304fdfb8f29a3e50fef59d"
            }
          },
          "metadata": {}
        }
      ]
    },
    {
      "cell_type": "code",
      "source": [
        "# training commands\n",
        "!python -m TTS.bin.train --config_path ./my_tts_config/config.json"
      ],
      "metadata": {
        "id": "cWjzOkYID24l",
        "outputId": "92bd8bb0-ff23-4a1a-925c-c9900b7a541b",
        "colab": {
          "base_uri": "https://localhost:8080/"
        }
      },
      "execution_count": 1,
      "outputs": [
        {
          "output_type": "stream",
          "name": "stdout",
          "text": [
            "/usr/bin/python3: No module named TTS.bin.train\n"
          ]
        }
      ]
    },
    {
      "cell_type": "code",
      "source": [
        "!python -m TTS --help"
      ],
      "metadata": {
        "id": "CROTMyozEHs4",
        "outputId": "555ff048-4eb3-43d7-99ce-a977a7d3ff1f",
        "colab": {
          "base_uri": "https://localhost:8080/"
        }
      },
      "execution_count": 2,
      "outputs": [
        {
          "output_type": "stream",
          "name": "stdout",
          "text": [
            "/usr/bin/python3: No module named TTS.__main__; 'TTS' is a package and cannot be directly executed\n"
          ]
        }
      ]
    },
    {
      "cell_type": "code",
      "source": [
        "# 1. Clone the official Coqui TTS repo\n",
        "!git clone https://github.com/coqui-ai/TTS.git\n",
        "%cd TTS\n",
        "\n",
        "# 2. Install dependencies\n",
        "!pip install -r requirements.txt\n",
        "\n",
        "# 3. Now run training from source using your config file path\n",
        "# Make sure your config is accessible, for example, upload or mount drive\n",
        "!python TTS/bin/train.py --config_path ../my_tts_config/config.json"
      ],
      "metadata": {
        "id": "lOrDs9SNEZu7",
        "outputId": "414bf80b-c78e-4eec-fafb-ac0edb73380e",
        "colab": {
          "base_uri": "https://localhost:8080/"
        }
      },
      "execution_count": 3,
      "outputs": [
        {
          "output_type": "stream",
          "name": "stdout",
          "text": [
            "Cloning into 'TTS'...\n",
            "remote: Enumerating objects: 32844, done.\u001b[K\n",
            "remote: Total 32844 (delta 0), reused 0 (delta 0), pack-reused 32844 (from 1)\u001b[K\n",
            "Receiving objects: 100% (32844/32844), 166.18 MiB | 29.35 MiB/s, done.\n",
            "Resolving deltas: 100% (23832/23832), done.\n",
            "/content/TTS\n",
            "Ignoring numpy: markers 'python_version <= \"3.10\"' don't match your environment\n",
            "Ignoring numba: markers 'python_version < \"3.9\"' don't match your environment\n",
            "Requirement already satisfied: numpy>=1.24.3 in /usr/local/lib/python3.11/dist-packages (from -r requirements.txt (line 3)) (1.26.4)\n",
            "Requirement already satisfied: cython>=0.29.30 in /usr/local/lib/python3.11/dist-packages (from -r requirements.txt (line 4)) (3.0.12)\n",
            "Requirement already satisfied: scipy>=1.11.2 in /usr/local/lib/python3.11/dist-packages (from -r requirements.txt (line 5)) (1.15.3)\n",
            "Requirement already satisfied: torch>=2.1 in /usr/local/lib/python3.11/dist-packages (from -r requirements.txt (line 6)) (2.6.0+cu124)\n",
            "Requirement already satisfied: torchaudio in /usr/local/lib/python3.11/dist-packages (from -r requirements.txt (line 7)) (2.6.0+cu124)\n",
            "Requirement already satisfied: soundfile>=0.12.0 in /usr/local/lib/python3.11/dist-packages (from -r requirements.txt (line 8)) (0.13.1)\n",
            "Requirement already satisfied: librosa>=0.10.0 in /usr/local/lib/python3.11/dist-packages (from -r requirements.txt (line 9)) (0.11.0)\n",
            "Requirement already satisfied: scikit-learn>=1.3.0 in /usr/local/lib/python3.11/dist-packages (from -r requirements.txt (line 10)) (1.6.1)\n",
            "Requirement already satisfied: numba>=0.57.0 in /usr/local/lib/python3.11/dist-packages (from -r requirements.txt (line 12)) (0.60.0)\n",
            "Requirement already satisfied: inflect>=5.6.0 in /usr/local/lib/python3.11/dist-packages (from -r requirements.txt (line 13)) (7.5.0)\n",
            "Requirement already satisfied: tqdm>=4.64.1 in /usr/local/lib/python3.11/dist-packages (from -r requirements.txt (line 14)) (4.67.1)\n",
            "Requirement already satisfied: anyascii>=0.3.0 in /usr/local/lib/python3.11/dist-packages (from -r requirements.txt (line 15)) (0.3.3)\n",
            "Requirement already satisfied: pyyaml>=6.0 in /usr/local/lib/python3.11/dist-packages (from -r requirements.txt (line 16)) (6.0.2)\n",
            "Requirement already satisfied: fsspec>=2023.6.0 in /usr/local/lib/python3.11/dist-packages (from -r requirements.txt (line 17)) (2025.3.2)\n",
            "Requirement already satisfied: aiohttp>=3.8.1 in /usr/local/lib/python3.11/dist-packages (from -r requirements.txt (line 18)) (3.11.15)\n",
            "Requirement already satisfied: packaging>=23.1 in /usr/local/lib/python3.11/dist-packages (from -r requirements.txt (line 19)) (24.2)\n",
            "Requirement already satisfied: mutagen==1.47.0 in /usr/local/lib/python3.11/dist-packages (from -r requirements.txt (line 20)) (1.47.0)\n",
            "Requirement already satisfied: flask>=2.0.1 in /usr/local/lib/python3.11/dist-packages (from -r requirements.txt (line 22)) (3.1.1)\n",
            "Requirement already satisfied: pysbd>=0.3.4 in /usr/local/lib/python3.11/dist-packages (from -r requirements.txt (line 24)) (0.3.4)\n",
            "Requirement already satisfied: umap-learn>=0.5.1 in /usr/local/lib/python3.11/dist-packages (from -r requirements.txt (line 26)) (0.5.9.post2)\n",
            "Requirement already satisfied: pandas<2.0,>=1.4 in /usr/local/lib/python3.11/dist-packages (from -r requirements.txt (line 27)) (1.5.3)\n",
            "Requirement already satisfied: matplotlib>=3.7.0 in /usr/local/lib/python3.11/dist-packages (from -r requirements.txt (line 29)) (3.10.0)\n",
            "Requirement already satisfied: trainer>=0.0.36 in /usr/local/lib/python3.11/dist-packages (from -r requirements.txt (line 31)) (0.0.36)\n",
            "Requirement already satisfied: coqpit>=0.0.16 in /usr/local/lib/python3.11/dist-packages (from -r requirements.txt (line 33)) (0.0.17)\n",
            "Requirement already satisfied: jieba in /usr/local/lib/python3.11/dist-packages (from -r requirements.txt (line 35)) (0.42.1)\n",
            "Requirement already satisfied: pypinyin in /usr/local/lib/python3.11/dist-packages (from -r requirements.txt (line 36)) (0.54.0)\n",
            "Requirement already satisfied: hangul_romanize in /usr/local/lib/python3.11/dist-packages (from -r requirements.txt (line 38)) (0.1.0)\n",
            "Requirement already satisfied: gruut==2.2.3 in /usr/local/lib/python3.11/dist-packages (from gruut[de,es,fr]==2.2.3->-r requirements.txt (line 40)) (2.2.3)\n",
            "Requirement already satisfied: jamo in /usr/local/lib/python3.11/dist-packages (from -r requirements.txt (line 42)) (0.4.1)\n",
            "Requirement already satisfied: nltk in /usr/local/lib/python3.11/dist-packages (from -r requirements.txt (line 43)) (3.9.1)\n",
            "Requirement already satisfied: g2pkk>=0.1.1 in /usr/local/lib/python3.11/dist-packages (from -r requirements.txt (line 44)) (0.1.2)\n",
            "Requirement already satisfied: bangla in /usr/local/lib/python3.11/dist-packages (from -r requirements.txt (line 46)) (0.0.5)\n",
            "Requirement already satisfied: bnnumerizer in /usr/local/lib/python3.11/dist-packages (from -r requirements.txt (line 47)) (0.0.2)\n",
            "Requirement already satisfied: bnunicodenormalizer in /usr/local/lib/python3.11/dist-packages (from -r requirements.txt (line 48)) (0.1.7)\n",
            "Requirement already satisfied: einops>=0.6.0 in /usr/local/lib/python3.11/dist-packages (from -r requirements.txt (line 50)) (0.8.1)\n",
            "Requirement already satisfied: transformers>=4.33.0 in /usr/local/lib/python3.11/dist-packages (from -r requirements.txt (line 51)) (4.53.1)\n",
            "Requirement already satisfied: encodec>=0.1.1 in /usr/local/lib/python3.11/dist-packages (from -r requirements.txt (line 53)) (0.1.1)\n",
            "Requirement already satisfied: unidecode>=1.3.2 in /usr/local/lib/python3.11/dist-packages (from -r requirements.txt (line 55)) (1.4.0)\n",
            "Requirement already satisfied: num2words in /usr/local/lib/python3.11/dist-packages (from -r requirements.txt (line 56)) (0.5.14)\n",
            "Requirement already satisfied: spacy>=3 in /usr/local/lib/python3.11/dist-packages (from spacy[ja]>=3->-r requirements.txt (line 57)) (3.8.7)\n",
            "Requirement already satisfied: Babel<3.0.0,>=2.8.0 in /usr/local/lib/python3.11/dist-packages (from gruut==2.2.3->gruut[de,es,fr]==2.2.3->-r requirements.txt (line 40)) (2.17.0)\n",
            "Requirement already satisfied: dateparser~=1.1.0 in /usr/local/lib/python3.11/dist-packages (from gruut==2.2.3->gruut[de,es,fr]==2.2.3->-r requirements.txt (line 40)) (1.1.8)\n",
            "Requirement already satisfied: gruut-ipa<1.0,>=0.12.0 in /usr/local/lib/python3.11/dist-packages (from gruut==2.2.3->gruut[de,es,fr]==2.2.3->-r requirements.txt (line 40)) (0.13.0)\n",
            "Requirement already satisfied: gruut-lang-en~=2.0.0 in /usr/local/lib/python3.11/dist-packages (from gruut==2.2.3->gruut[de,es,fr]==2.2.3->-r requirements.txt (line 40)) (2.0.1)\n",
            "Requirement already satisfied: jsonlines~=1.2.0 in /usr/local/lib/python3.11/dist-packages (from gruut==2.2.3->gruut[de,es,fr]==2.2.3->-r requirements.txt (line 40)) (1.2.0)\n",
            "Requirement already satisfied: networkx<3.0.0,>=2.5.0 in /usr/local/lib/python3.11/dist-packages (from gruut==2.2.3->gruut[de,es,fr]==2.2.3->-r requirements.txt (line 40)) (2.8.8)\n",
            "Requirement already satisfied: python-crfsuite~=0.9.7 in /usr/local/lib/python3.11/dist-packages (from gruut==2.2.3->gruut[de,es,fr]==2.2.3->-r requirements.txt (line 40)) (0.9.11)\n",
            "Requirement already satisfied: gruut-lang-de~=2.0.0 in /usr/local/lib/python3.11/dist-packages (from gruut[de,es,fr]==2.2.3->-r requirements.txt (line 40)) (2.0.1)\n",
            "Requirement already satisfied: gruut-lang-es~=2.0.0 in /usr/local/lib/python3.11/dist-packages (from gruut[de,es,fr]==2.2.3->-r requirements.txt (line 40)) (2.0.1)\n",
            "Requirement already satisfied: gruut-lang-fr~=2.0.0 in /usr/local/lib/python3.11/dist-packages (from gruut[de,es,fr]==2.2.3->-r requirements.txt (line 40)) (2.0.2)\n",
            "Requirement already satisfied: filelock in /usr/local/lib/python3.11/dist-packages (from torch>=2.1->-r requirements.txt (line 6)) (3.18.0)\n",
            "Requirement already satisfied: typing-extensions>=4.10.0 in /usr/local/lib/python3.11/dist-packages (from torch>=2.1->-r requirements.txt (line 6)) (4.14.1)\n",
            "Requirement already satisfied: jinja2 in /usr/local/lib/python3.11/dist-packages (from torch>=2.1->-r requirements.txt (line 6)) (3.1.6)\n",
            "Requirement already satisfied: nvidia-cuda-nvrtc-cu12==12.4.127 in /usr/local/lib/python3.11/dist-packages (from torch>=2.1->-r requirements.txt (line 6)) (12.4.127)\n",
            "Requirement already satisfied: nvidia-cuda-runtime-cu12==12.4.127 in /usr/local/lib/python3.11/dist-packages (from torch>=2.1->-r requirements.txt (line 6)) (12.4.127)\n",
            "Requirement already satisfied: nvidia-cuda-cupti-cu12==12.4.127 in /usr/local/lib/python3.11/dist-packages (from torch>=2.1->-r requirements.txt (line 6)) (12.4.127)\n",
            "Requirement already satisfied: nvidia-cudnn-cu12==9.1.0.70 in /usr/local/lib/python3.11/dist-packages (from torch>=2.1->-r requirements.txt (line 6)) (9.1.0.70)\n",
            "Requirement already satisfied: nvidia-cublas-cu12==12.4.5.8 in /usr/local/lib/python3.11/dist-packages (from torch>=2.1->-r requirements.txt (line 6)) (12.4.5.8)\n",
            "Requirement already satisfied: nvidia-cufft-cu12==11.2.1.3 in /usr/local/lib/python3.11/dist-packages (from torch>=2.1->-r requirements.txt (line 6)) (11.2.1.3)\n",
            "Requirement already satisfied: nvidia-curand-cu12==10.3.5.147 in /usr/local/lib/python3.11/dist-packages (from torch>=2.1->-r requirements.txt (line 6)) (10.3.5.147)\n",
            "Requirement already satisfied: nvidia-cusolver-cu12==11.6.1.9 in /usr/local/lib/python3.11/dist-packages (from torch>=2.1->-r requirements.txt (line 6)) (11.6.1.9)\n",
            "Requirement already satisfied: nvidia-cusparse-cu12==12.3.1.170 in /usr/local/lib/python3.11/dist-packages (from torch>=2.1->-r requirements.txt (line 6)) (12.3.1.170)\n",
            "Requirement already satisfied: nvidia-cusparselt-cu12==0.6.2 in /usr/local/lib/python3.11/dist-packages (from torch>=2.1->-r requirements.txt (line 6)) (0.6.2)\n",
            "Requirement already satisfied: nvidia-nccl-cu12==2.21.5 in /usr/local/lib/python3.11/dist-packages (from torch>=2.1->-r requirements.txt (line 6)) (2.21.5)\n",
            "Requirement already satisfied: nvidia-nvtx-cu12==12.4.127 in /usr/local/lib/python3.11/dist-packages (from torch>=2.1->-r requirements.txt (line 6)) (12.4.127)\n",
            "Requirement already satisfied: nvidia-nvjitlink-cu12==12.4.127 in /usr/local/lib/python3.11/dist-packages (from torch>=2.1->-r requirements.txt (line 6)) (12.4.127)\n",
            "Requirement already satisfied: triton==3.2.0 in /usr/local/lib/python3.11/dist-packages (from torch>=2.1->-r requirements.txt (line 6)) (3.2.0)\n",
            "Requirement already satisfied: sympy==1.13.1 in /usr/local/lib/python3.11/dist-packages (from torch>=2.1->-r requirements.txt (line 6)) (1.13.1)\n",
            "Requirement already satisfied: mpmath<1.4,>=1.1.0 in /usr/local/lib/python3.11/dist-packages (from sympy==1.13.1->torch>=2.1->-r requirements.txt (line 6)) (1.3.0)\n",
            "Requirement already satisfied: cffi>=1.0 in /usr/local/lib/python3.11/dist-packages (from soundfile>=0.12.0->-r requirements.txt (line 8)) (1.17.1)\n",
            "Requirement already satisfied: audioread>=2.1.9 in /usr/local/lib/python3.11/dist-packages (from librosa>=0.10.0->-r requirements.txt (line 9)) (3.0.1)\n",
            "Requirement already satisfied: joblib>=1.0 in /usr/local/lib/python3.11/dist-packages (from librosa>=0.10.0->-r requirements.txt (line 9)) (1.5.1)\n",
            "Requirement already satisfied: decorator>=4.3.0 in /usr/local/lib/python3.11/dist-packages (from librosa>=0.10.0->-r requirements.txt (line 9)) (4.4.2)\n",
            "Requirement already satisfied: pooch>=1.1 in /usr/local/lib/python3.11/dist-packages (from librosa>=0.10.0->-r requirements.txt (line 9)) (1.8.2)\n",
            "Requirement already satisfied: soxr>=0.3.2 in /usr/local/lib/python3.11/dist-packages (from librosa>=0.10.0->-r requirements.txt (line 9)) (0.5.0.post1)\n",
            "Requirement already satisfied: lazy_loader>=0.1 in /usr/local/lib/python3.11/dist-packages (from librosa>=0.10.0->-r requirements.txt (line 9)) (0.4)\n",
            "Requirement already satisfied: msgpack>=1.0 in /usr/local/lib/python3.11/dist-packages (from librosa>=0.10.0->-r requirements.txt (line 9)) (1.1.1)\n",
            "Requirement already satisfied: threadpoolctl>=3.1.0 in /usr/local/lib/python3.11/dist-packages (from scikit-learn>=1.3.0->-r requirements.txt (line 10)) (3.6.0)\n",
            "Requirement already satisfied: llvmlite<0.44,>=0.43.0dev0 in /usr/local/lib/python3.11/dist-packages (from numba>=0.57.0->-r requirements.txt (line 12)) (0.43.0)\n",
            "Requirement already satisfied: more_itertools>=8.5.0 in /usr/local/lib/python3.11/dist-packages (from inflect>=5.6.0->-r requirements.txt (line 13)) (10.7.0)\n",
            "Requirement already satisfied: typeguard>=4.0.1 in /usr/local/lib/python3.11/dist-packages (from inflect>=5.6.0->-r requirements.txt (line 13)) (4.4.4)\n",
            "Requirement already satisfied: aiohappyeyeballs>=2.3.0 in /usr/local/lib/python3.11/dist-packages (from aiohttp>=3.8.1->-r requirements.txt (line 18)) (2.6.1)\n",
            "Requirement already satisfied: aiosignal>=1.1.2 in /usr/local/lib/python3.11/dist-packages (from aiohttp>=3.8.1->-r requirements.txt (line 18)) (1.4.0)\n",
            "Requirement already satisfied: attrs>=17.3.0 in /usr/local/lib/python3.11/dist-packages (from aiohttp>=3.8.1->-r requirements.txt (line 18)) (25.3.0)\n",
            "Requirement already satisfied: frozenlist>=1.1.1 in /usr/local/lib/python3.11/dist-packages (from aiohttp>=3.8.1->-r requirements.txt (line 18)) (1.7.0)\n",
            "Requirement already satisfied: multidict<7.0,>=4.5 in /usr/local/lib/python3.11/dist-packages (from aiohttp>=3.8.1->-r requirements.txt (line 18)) (6.6.3)\n",
            "Requirement already satisfied: propcache>=0.2.0 in /usr/local/lib/python3.11/dist-packages (from aiohttp>=3.8.1->-r requirements.txt (line 18)) (0.3.2)\n",
            "Requirement already satisfied: yarl<2.0,>=1.17.0 in /usr/local/lib/python3.11/dist-packages (from aiohttp>=3.8.1->-r requirements.txt (line 18)) (1.20.1)\n",
            "Requirement already satisfied: blinker>=1.9.0 in /usr/local/lib/python3.11/dist-packages (from flask>=2.0.1->-r requirements.txt (line 22)) (1.9.0)\n",
            "Requirement already satisfied: click>=8.1.3 in /usr/local/lib/python3.11/dist-packages (from flask>=2.0.1->-r requirements.txt (line 22)) (8.2.1)\n",
            "Requirement already satisfied: itsdangerous>=2.2.0 in /usr/local/lib/python3.11/dist-packages (from flask>=2.0.1->-r requirements.txt (line 22)) (2.2.0)\n",
            "Requirement already satisfied: markupsafe>=2.1.1 in /usr/local/lib/python3.11/dist-packages (from flask>=2.0.1->-r requirements.txt (line 22)) (3.0.2)\n",
            "Requirement already satisfied: werkzeug>=3.1.0 in /usr/local/lib/python3.11/dist-packages (from flask>=2.0.1->-r requirements.txt (line 22)) (3.1.3)\n",
            "Requirement already satisfied: pynndescent>=0.5 in /usr/local/lib/python3.11/dist-packages (from umap-learn>=0.5.1->-r requirements.txt (line 26)) (0.5.13)\n",
            "Requirement already satisfied: python-dateutil>=2.8.1 in /usr/local/lib/python3.11/dist-packages (from pandas<2.0,>=1.4->-r requirements.txt (line 27)) (2.9.0.post0)\n",
            "Requirement already satisfied: pytz>=2020.1 in /usr/local/lib/python3.11/dist-packages (from pandas<2.0,>=1.4->-r requirements.txt (line 27)) (2025.2)\n",
            "Requirement already satisfied: contourpy>=1.0.1 in /usr/local/lib/python3.11/dist-packages (from matplotlib>=3.7.0->-r requirements.txt (line 29)) (1.3.2)\n",
            "Requirement already satisfied: cycler>=0.10 in /usr/local/lib/python3.11/dist-packages (from matplotlib>=3.7.0->-r requirements.txt (line 29)) (0.12.1)\n",
            "Requirement already satisfied: fonttools>=4.22.0 in /usr/local/lib/python3.11/dist-packages (from matplotlib>=3.7.0->-r requirements.txt (line 29)) (4.58.5)\n",
            "Requirement already satisfied: kiwisolver>=1.3.1 in /usr/local/lib/python3.11/dist-packages (from matplotlib>=3.7.0->-r requirements.txt (line 29)) (1.4.8)\n",
            "Requirement already satisfied: pillow>=8 in /usr/local/lib/python3.11/dist-packages (from matplotlib>=3.7.0->-r requirements.txt (line 29)) (11.2.1)\n",
            "Requirement already satisfied: pyparsing>=2.3.1 in /usr/local/lib/python3.11/dist-packages (from matplotlib>=3.7.0->-r requirements.txt (line 29)) (3.2.3)\n",
            "Requirement already satisfied: psutil in /usr/local/lib/python3.11/dist-packages (from trainer>=0.0.36->-r requirements.txt (line 31)) (5.9.5)\n",
            "Requirement already satisfied: tensorboard in /usr/local/lib/python3.11/dist-packages (from trainer>=0.0.36->-r requirements.txt (line 31)) (2.18.0)\n",
            "Requirement already satisfied: regex>=2021.8.3 in /usr/local/lib/python3.11/dist-packages (from nltk->-r requirements.txt (line 43)) (2024.11.6)\n",
            "Requirement already satisfied: huggingface-hub<1.0,>=0.30.0 in /usr/local/lib/python3.11/dist-packages (from transformers>=4.33.0->-r requirements.txt (line 51)) (0.33.2)\n",
            "Requirement already satisfied: requests in /usr/local/lib/python3.11/dist-packages (from transformers>=4.33.0->-r requirements.txt (line 51)) (2.32.3)\n",
            "Requirement already satisfied: tokenizers<0.22,>=0.21 in /usr/local/lib/python3.11/dist-packages (from transformers>=4.33.0->-r requirements.txt (line 51)) (0.21.2)\n",
            "Requirement already satisfied: safetensors>=0.4.3 in /usr/local/lib/python3.11/dist-packages (from transformers>=4.33.0->-r requirements.txt (line 51)) (0.5.3)\n",
            "Requirement already satisfied: docopt>=0.6.2 in /usr/local/lib/python3.11/dist-packages (from num2words->-r requirements.txt (line 56)) (0.6.2)\n",
            "Requirement already satisfied: spacy-legacy<3.1.0,>=3.0.11 in /usr/local/lib/python3.11/dist-packages (from spacy>=3->spacy[ja]>=3->-r requirements.txt (line 57)) (3.0.12)\n",
            "Requirement already satisfied: spacy-loggers<2.0.0,>=1.0.0 in /usr/local/lib/python3.11/dist-packages (from spacy>=3->spacy[ja]>=3->-r requirements.txt (line 57)) (1.0.5)\n",
            "Requirement already satisfied: murmurhash<1.1.0,>=0.28.0 in /usr/local/lib/python3.11/dist-packages (from spacy>=3->spacy[ja]>=3->-r requirements.txt (line 57)) (1.0.13)\n",
            "Requirement already satisfied: cymem<2.1.0,>=2.0.2 in /usr/local/lib/python3.11/dist-packages (from spacy>=3->spacy[ja]>=3->-r requirements.txt (line 57)) (2.0.11)\n",
            "Requirement already satisfied: preshed<3.1.0,>=3.0.2 in /usr/local/lib/python3.11/dist-packages (from spacy>=3->spacy[ja]>=3->-r requirements.txt (line 57)) (3.0.10)\n",
            "Requirement already satisfied: thinc<8.4.0,>=8.3.4 in /usr/local/lib/python3.11/dist-packages (from spacy>=3->spacy[ja]>=3->-r requirements.txt (line 57)) (8.3.4)\n",
            "Requirement already satisfied: wasabi<1.2.0,>=0.9.1 in /usr/local/lib/python3.11/dist-packages (from spacy>=3->spacy[ja]>=3->-r requirements.txt (line 57)) (1.1.3)\n",
            "Requirement already satisfied: srsly<3.0.0,>=2.4.3 in /usr/local/lib/python3.11/dist-packages (from spacy>=3->spacy[ja]>=3->-r requirements.txt (line 57)) (2.5.1)\n",
            "Requirement already satisfied: catalogue<2.1.0,>=2.0.6 in /usr/local/lib/python3.11/dist-packages (from spacy>=3->spacy[ja]>=3->-r requirements.txt (line 57)) (2.0.10)\n",
            "Requirement already satisfied: weasel<0.5.0,>=0.1.0 in /usr/local/lib/python3.11/dist-packages (from spacy>=3->spacy[ja]>=3->-r requirements.txt (line 57)) (0.4.1)\n",
            "Requirement already satisfied: typer<1.0.0,>=0.3.0 in /usr/local/lib/python3.11/dist-packages (from spacy>=3->spacy[ja]>=3->-r requirements.txt (line 57)) (0.16.0)\n",
            "Requirement already satisfied: pydantic!=1.8,!=1.8.1,<3.0.0,>=1.7.4 in /usr/local/lib/python3.11/dist-packages (from spacy>=3->spacy[ja]>=3->-r requirements.txt (line 57)) (2.11.7)\n",
            "Requirement already satisfied: setuptools in /usr/local/lib/python3.11/dist-packages (from spacy>=3->spacy[ja]>=3->-r requirements.txt (line 57)) (75.2.0)\n",
            "Requirement already satisfied: langcodes<4.0.0,>=3.2.0 in /usr/local/lib/python3.11/dist-packages (from spacy>=3->spacy[ja]>=3->-r requirements.txt (line 57)) (3.5.0)\n",
            "Requirement already satisfied: sudachipy!=0.6.1,>=0.5.2 in /usr/local/lib/python3.11/dist-packages (from spacy[ja]>=3->-r requirements.txt (line 57)) (0.6.10)\n",
            "Requirement already satisfied: sudachidict_core>=20211220 in /usr/local/lib/python3.11/dist-packages (from spacy[ja]>=3->-r requirements.txt (line 57)) (20250515)\n",
            "Requirement already satisfied: pycparser in /usr/local/lib/python3.11/dist-packages (from cffi>=1.0->soundfile>=0.12.0->-r requirements.txt (line 8)) (2.22)\n",
            "Requirement already satisfied: tzlocal in /usr/local/lib/python3.11/dist-packages (from dateparser~=1.1.0->gruut==2.2.3->gruut[de,es,fr]==2.2.3->-r requirements.txt (line 40)) (5.3.1)\n",
            "Requirement already satisfied: hf-xet<2.0.0,>=1.1.2 in /usr/local/lib/python3.11/dist-packages (from huggingface-hub<1.0,>=0.30.0->transformers>=4.33.0->-r requirements.txt (line 51)) (1.1.5)\n",
            "Requirement already satisfied: six in /usr/local/lib/python3.11/dist-packages (from jsonlines~=1.2.0->gruut==2.2.3->gruut[de,es,fr]==2.2.3->-r requirements.txt (line 40)) (1.17.0)\n",
            "Requirement already satisfied: language-data>=1.2 in /usr/local/lib/python3.11/dist-packages (from langcodes<4.0.0,>=3.2.0->spacy>=3->spacy[ja]>=3->-r requirements.txt (line 57)) (1.3.0)\n",
            "Requirement already satisfied: platformdirs>=2.5.0 in /usr/local/lib/python3.11/dist-packages (from pooch>=1.1->librosa>=0.10.0->-r requirements.txt (line 9)) (4.3.8)\n",
            "Requirement already satisfied: annotated-types>=0.6.0 in /usr/local/lib/python3.11/dist-packages (from pydantic!=1.8,!=1.8.1,<3.0.0,>=1.7.4->spacy>=3->spacy[ja]>=3->-r requirements.txt (line 57)) (0.7.0)\n",
            "Requirement already satisfied: pydantic-core==2.33.2 in /usr/local/lib/python3.11/dist-packages (from pydantic!=1.8,!=1.8.1,<3.0.0,>=1.7.4->spacy>=3->spacy[ja]>=3->-r requirements.txt (line 57)) (2.33.2)\n",
            "Requirement already satisfied: typing-inspection>=0.4.0 in /usr/local/lib/python3.11/dist-packages (from pydantic!=1.8,!=1.8.1,<3.0.0,>=1.7.4->spacy>=3->spacy[ja]>=3->-r requirements.txt (line 57)) (0.4.1)\n",
            "Requirement already satisfied: charset-normalizer<4,>=2 in /usr/local/lib/python3.11/dist-packages (from requests->transformers>=4.33.0->-r requirements.txt (line 51)) (3.4.2)\n",
            "Requirement already satisfied: idna<4,>=2.5 in /usr/local/lib/python3.11/dist-packages (from requests->transformers>=4.33.0->-r requirements.txt (line 51)) (3.10)\n",
            "Requirement already satisfied: urllib3<3,>=1.21.1 in /usr/local/lib/python3.11/dist-packages (from requests->transformers>=4.33.0->-r requirements.txt (line 51)) (2.4.0)\n",
            "Requirement already satisfied: certifi>=2017.4.17 in /usr/local/lib/python3.11/dist-packages (from requests->transformers>=4.33.0->-r requirements.txt (line 51)) (2025.7.9)\n",
            "Requirement already satisfied: blis<1.3.0,>=1.2.0 in /usr/local/lib/python3.11/dist-packages (from thinc<8.4.0,>=8.3.4->spacy>=3->spacy[ja]>=3->-r requirements.txt (line 57)) (1.2.1)\n",
            "Requirement already satisfied: confection<1.0.0,>=0.0.1 in /usr/local/lib/python3.11/dist-packages (from thinc<8.4.0,>=8.3.4->spacy>=3->spacy[ja]>=3->-r requirements.txt (line 57)) (0.1.5)\n",
            "Requirement already satisfied: shellingham>=1.3.0 in /usr/local/lib/python3.11/dist-packages (from typer<1.0.0,>=0.3.0->spacy>=3->spacy[ja]>=3->-r requirements.txt (line 57)) (1.5.4)\n",
            "Requirement already satisfied: rich>=10.11.0 in /usr/local/lib/python3.11/dist-packages (from typer<1.0.0,>=0.3.0->spacy>=3->spacy[ja]>=3->-r requirements.txt (line 57)) (13.9.4)\n",
            "Requirement already satisfied: cloudpathlib<1.0.0,>=0.7.0 in /usr/local/lib/python3.11/dist-packages (from weasel<0.5.0,>=0.1.0->spacy>=3->spacy[ja]>=3->-r requirements.txt (line 57)) (0.21.1)\n",
            "Requirement already satisfied: smart-open<8.0.0,>=5.2.1 in /usr/local/lib/python3.11/dist-packages (from weasel<0.5.0,>=0.1.0->spacy>=3->spacy[ja]>=3->-r requirements.txt (line 57)) (7.3.0.post1)\n",
            "Requirement already satisfied: absl-py>=0.4 in /usr/local/lib/python3.11/dist-packages (from tensorboard->trainer>=0.0.36->-r requirements.txt (line 31)) (1.4.0)\n",
            "Requirement already satisfied: grpcio>=1.48.2 in /usr/local/lib/python3.11/dist-packages (from tensorboard->trainer>=0.0.36->-r requirements.txt (line 31)) (1.73.1)\n",
            "Requirement already satisfied: markdown>=2.6.8 in /usr/local/lib/python3.11/dist-packages (from tensorboard->trainer>=0.0.36->-r requirements.txt (line 31)) (3.8.2)\n",
            "Requirement already satisfied: protobuf!=4.24.0,>=3.19.6 in /usr/local/lib/python3.11/dist-packages (from tensorboard->trainer>=0.0.36->-r requirements.txt (line 31)) (5.29.5)\n",
            "Requirement already satisfied: tensorboard-data-server<0.8.0,>=0.7.0 in /usr/local/lib/python3.11/dist-packages (from tensorboard->trainer>=0.0.36->-r requirements.txt (line 31)) (0.7.2)\n",
            "Requirement already satisfied: marisa-trie>=1.1.0 in /usr/local/lib/python3.11/dist-packages (from language-data>=1.2->langcodes<4.0.0,>=3.2.0->spacy>=3->spacy[ja]>=3->-r requirements.txt (line 57)) (1.2.1)\n",
            "Requirement already satisfied: markdown-it-py>=2.2.0 in /usr/local/lib/python3.11/dist-packages (from rich>=10.11.0->typer<1.0.0,>=0.3.0->spacy>=3->spacy[ja]>=3->-r requirements.txt (line 57)) (3.0.0)\n",
            "Requirement already satisfied: pygments<3.0.0,>=2.13.0 in /usr/local/lib/python3.11/dist-packages (from rich>=10.11.0->typer<1.0.0,>=0.3.0->spacy>=3->spacy[ja]>=3->-r requirements.txt (line 57)) (2.19.2)\n",
            "Requirement already satisfied: wrapt in /usr/local/lib/python3.11/dist-packages (from smart-open<8.0.0,>=5.2.1->weasel<0.5.0,>=0.1.0->spacy>=3->spacy[ja]>=3->-r requirements.txt (line 57)) (1.12.1)\n",
            "Requirement already satisfied: mdurl~=0.1 in /usr/local/lib/python3.11/dist-packages (from markdown-it-py>=2.2.0->rich>=10.11.0->typer<1.0.0,>=0.3.0->spacy>=3->spacy[ja]>=3->-r requirements.txt (line 57)) (0.1.2)\n",
            "python3: can't open file '/content/TTS/TTS/bin/train.py': [Errno 2] No such file or directory\n"
          ]
        }
      ]
    },
    {
      "cell_type": "code",
      "source": [
        "!python bin/train.py --config_path /path/to/your/config.json"
      ],
      "metadata": {
        "id": "uh3G4XVyE36c",
        "outputId": "d6668f3e-1787-4eee-e983-ac0ef93b89bd",
        "colab": {
          "base_uri": "https://localhost:8080/"
        }
      },
      "execution_count": 5,
      "outputs": [
        {
          "output_type": "stream",
          "name": "stdout",
          "text": [
            "python3: can't open file '/content/TTS/bin/train.py': [Errno 2] No such file or directory\n"
          ]
        }
      ]
    },
    {
      "cell_type": "code",
      "source": [
        "!ls /content/TTS/bin"
      ],
      "metadata": {
        "id": "iH8MZR2fFQdu",
        "outputId": "f82d0a3f-c873-49dd-d855-935e676cae72",
        "colab": {
          "base_uri": "https://localhost:8080/"
        }
      },
      "execution_count": 6,
      "outputs": [
        {
          "output_type": "stream",
          "name": "stdout",
          "text": [
            "ls: cannot access '/content/TTS/bin': No such file or directory\n"
          ]
        }
      ]
    },
    {
      "cell_type": "code",
      "source": [
        "!ls /content/TTS"
      ],
      "metadata": {
        "id": "MXSCVpiaFS6E",
        "outputId": "0ba28eb5-d2ed-427b-8afa-666ba1b07d55",
        "colab": {
          "base_uri": "https://localhost:8080/"
        }
      },
      "execution_count": 7,
      "outputs": [
        {
          "output_type": "stream",
          "name": "stdout",
          "text": [
            "CITATION.cff\t    hubconf.py\t    README.md\t\t\tscripts\n",
            "CODE_OF_CONDUCT.md  images\t    recipes\t\t\tsetup.cfg\n",
            "CODE_OWNERS.rst     LICENSE.txt     requirements.dev.txt\tsetup.py\n",
            "CONTRIBUTING.md     Makefile\t    requirements.ja.txt\t\ttests\n",
            "Dockerfile\t    MANIFEST.in     requirements.notebooks.txt\tTTS\n",
            "dockerfiles\t    notebooks\t    requirements.txt\n",
            "docs\t\t    pyproject.toml  run_bash_tests.sh\n"
          ]
        }
      ]
    },
    {
      "cell_type": "code",
      "source": [
        "!ls /content/TTS/TTS"
      ],
      "metadata": {
        "id": "FoBSGcaBFW0h",
        "outputId": "6a58adc1-c15a-47dc-d607-fe7919732cd3",
        "colab": {
          "base_uri": "https://localhost:8080/"
        }
      },
      "execution_count": 8,
      "outputs": [
        {
          "output_type": "stream",
          "name": "stdout",
          "text": [
            "api.py\tconfig\tencoder      model.py  tts    vc       vocoder\n",
            "bin\tdemos\t__init__.py  server    utils  VERSION\n"
          ]
        }
      ]
    },
    {
      "cell_type": "code",
      "source": [
        "!ls /content/TTS/TTS/bin"
      ],
      "metadata": {
        "id": "EImwPmxCFjGP",
        "outputId": "9d2a5869-1a12-4bbe-d8cc-aea210e85a54",
        "colab": {
          "base_uri": "https://localhost:8080/"
        }
      },
      "execution_count": 9,
      "outputs": [
        {
          "output_type": "stream",
          "name": "stdout",
          "text": [
            "collect_env_info.py\t     find_unique_chars.py\t  train_encoder.py\n",
            "compute_attention_masks.py   find_unique_phonemes.py\t  train_tts.py\n",
            "compute_embeddings.py\t     __init__.py\t\t  train_vocoder.py\n",
            "compute_statistics.py\t     remove_silence_using_vad.py  tune_wavegrad.py\n",
            "eval_encoder.py\t\t     resample.py\n",
            "extract_tts_spectrograms.py  synthesize.py\n"
          ]
        }
      ]
    },
    {
      "cell_type": "code",
      "source": [
        "# training command\n",
        "!python3 /content/TTS/TTS/bin/train_tts.py --config_path /content/TTS/my_tts_config/config.json"
      ],
      "metadata": {
        "id": "sA9MEqyHFrCd",
        "outputId": "e3a4542c-f464-4830-dec0-59fc789b230d",
        "colab": {
          "base_uri": "https://localhost:8080/"
        }
      },
      "execution_count": 12,
      "outputs": [
        {
          "output_type": "stream",
          "name": "stdout",
          "text": [
            "Traceback (most recent call last):\n",
            "  File \"/content/TTS/TTS/bin/train_tts.py\", line 71, in <module>\n",
            "    main()\n",
            "  File \"/content/TTS/TTS/bin/train_tts.py\", line 30, in main\n",
            "    config = load_config(args.config_path)\n",
            "             ^^^^^^^^^^^^^^^^^^^^^^^^^^^^^\n",
            "  File \"/usr/local/lib/python3.11/dist-packages/TTS/config/__init__.py\", line 88, in load_config\n",
            "    with fsspec.open(config_path, \"r\", encoding=\"utf-8\") as f:\n",
            "  File \"/usr/local/lib/python3.11/dist-packages/fsspec/core.py\", line 105, in __enter__\n",
            "    f = self.fs.open(self.path, mode=mode)\n",
            "        ^^^^^^^^^^^^^^^^^^^^^^^^^^^^^^^^^^\n",
            "  File \"/usr/local/lib/python3.11/dist-packages/fsspec/spec.py\", line 1310, in open\n",
            "    f = self._open(\n",
            "        ^^^^^^^^^^^\n",
            "  File \"/usr/local/lib/python3.11/dist-packages/fsspec/implementations/local.py\", line 201, in _open\n",
            "    return LocalFileOpener(path, mode, fs=self, **kwargs)\n",
            "           ^^^^^^^^^^^^^^^^^^^^^^^^^^^^^^^^^^^^^^^^^^^^^^\n",
            "  File \"/usr/local/lib/python3.11/dist-packages/fsspec/implementations/local.py\", line 365, in __init__\n",
            "    self._open()\n",
            "  File \"/usr/local/lib/python3.11/dist-packages/fsspec/implementations/local.py\", line 370, in _open\n",
            "    self.f = open(self.path, mode=self.mode)\n",
            "             ^^^^^^^^^^^^^^^^^^^^^^^^^^^^^^^\n",
            "FileNotFoundError: [Errno 2] No such file or directory: '/content/TTS/my_tts_config/config.json'\n"
          ]
        }
      ]
    },
    {
      "cell_type": "code",
      "source": [
        "!find /content/TTS -name \"config.json\""
      ],
      "metadata": {
        "id": "uZfCqi8iG_Vu",
        "outputId": "0b0eac70-0157-4df5-ca81-5540eb34ebb7",
        "colab": {
          "base_uri": "https://localhost:8080/"
        }
      },
      "execution_count": 13,
      "outputs": [
        {
          "output_type": "stream",
          "name": "stdout",
          "text": [
            "/content/TTS/TTS/vc/modules/freevc/wavlm/config.json\n"
          ]
        }
      ]
    },
    {
      "cell_type": "code",
      "source": [
        "!python3 /content/TTS/TTS/bin/train_tts.py --config_path /content/TTS/TTS/vc/modules/freevc/wavlm/config.json"
      ],
      "metadata": {
        "id": "GIFvjcs3Hv0_",
        "outputId": "fc8bf22c-bd8a-4085-d4a8-e30497e8d803",
        "colab": {
          "base_uri": "https://localhost:8080/"
        }
      },
      "execution_count": 14,
      "outputs": [
        {
          "output_type": "stream",
          "name": "stdout",
          "text": [
            "Traceback (most recent call last):\n",
            "  File \"/content/TTS/TTS/bin/train_tts.py\", line 71, in <module>\n",
            "    main()\n",
            "  File \"/content/TTS/TTS/bin/train_tts.py\", line 30, in main\n",
            "    config = load_config(args.config_path)\n",
            "             ^^^^^^^^^^^^^^^^^^^^^^^^^^^^^\n",
            "  File \"/usr/local/lib/python3.11/dist-packages/TTS/config/__init__.py\", line 96, in load_config\n",
            "    model_name = _process_model_name(config_dict)\n",
            "                 ^^^^^^^^^^^^^^^^^^^^^^^^^^^^^^^^\n",
            "  File \"/usr/local/lib/python3.11/dist-packages/TTS/config/__init__.py\", line 63, in _process_model_name\n",
            "    model_name = config_dict[\"model\"] if \"model\" in config_dict else config_dict[\"generator_model\"]\n",
            "                                                                     ~~~~~~~~~~~^^^^^^^^^^^^^^^^^^^\n",
            "KeyError: 'generator_model'\n"
          ]
        }
      ]
    },
    {
      "cell_type": "code",
      "source": [
        "!cat /content/TTS/TTS/vc/modules/freevc/wavlm/config.json"
      ],
      "metadata": {
        "id": "JcJlGOv0IxTe",
        "outputId": "8e233cf6-0dd9-4bed-fc14-4fe01c3bbe73",
        "colab": {
          "base_uri": "https://localhost:8080/"
        }
      },
      "execution_count": 15,
      "outputs": [
        {
          "output_type": "stream",
          "name": "stdout",
          "text": [
            "{\n",
            "    \"_name_or_path\": \"./wavlm-large/\",\n",
            "    \"activation_dropout\": 0.0,\n",
            "    \"adapter_kernel_size\": 3,\n",
            "    \"adapter_stride\": 2,\n",
            "    \"add_adapter\": false,\n",
            "    \"apply_spec_augment\": true,\n",
            "    \"architectures\": [\n",
            "      \"WavLMModel\"\n",
            "    ],\n",
            "    \"attention_dropout\": 0.1,\n",
            "    \"bos_token_id\": 1,\n",
            "    \"classifier_proj_size\": 256,\n",
            "    \"codevector_dim\": 768,\n",
            "    \"contrastive_logits_temperature\": 0.1,\n",
            "    \"conv_bias\": false,\n",
            "    \"conv_dim\": [\n",
            "      512,\n",
            "      512,\n",
            "      512,\n",
            "      512,\n",
            "      512,\n",
            "      512,\n",
            "      512\n",
            "    ],\n",
            "    \"conv_kernel\": [\n",
            "      10,\n",
            "      3,\n",
            "      3,\n",
            "      3,\n",
            "      3,\n",
            "      2,\n",
            "      2\n",
            "    ],\n",
            "    \"conv_stride\": [\n",
            "      5,\n",
            "      2,\n",
            "      2,\n",
            "      2,\n",
            "      2,\n",
            "      2,\n",
            "      2\n",
            "    ],\n",
            "    \"ctc_loss_reduction\": \"sum\",\n",
            "    \"ctc_zero_infinity\": false,\n",
            "    \"diversity_loss_weight\": 0.1,\n",
            "    \"do_stable_layer_norm\": true,\n",
            "    \"eos_token_id\": 2,\n",
            "    \"feat_extract_activation\": \"gelu\",\n",
            "    \"feat_extract_dropout\": 0.0,\n",
            "    \"feat_extract_norm\": \"layer\",\n",
            "    \"feat_proj_dropout\": 0.1,\n",
            "    \"feat_quantizer_dropout\": 0.0,\n",
            "    \"final_dropout\": 0.0,\n",
            "    \"gradient_checkpointing\": false,\n",
            "    \"hidden_act\": \"gelu\",\n",
            "    \"hidden_dropout\": 0.1,\n",
            "    \"hidden_size\": 1024,\n",
            "    \"initializer_range\": 0.02,\n",
            "    \"intermediate_size\": 4096,\n",
            "    \"layer_norm_eps\": 1e-05,\n",
            "    \"layerdrop\": 0.1,\n",
            "    \"mask_channel_length\": 10,\n",
            "    \"mask_channel_min_space\": 1,\n",
            "    \"mask_channel_other\": 0.0,\n",
            "    \"mask_channel_prob\": 0.0,\n",
            "    \"mask_channel_selection\": \"static\",\n",
            "    \"mask_feature_length\": 10,\n",
            "    \"mask_feature_min_masks\": 0,\n",
            "    \"mask_feature_prob\": 0.0,\n",
            "    \"mask_time_length\": 10,\n",
            "    \"mask_time_min_masks\": 2,\n",
            "    \"mask_time_min_space\": 1,\n",
            "    \"mask_time_other\": 0.0,\n",
            "    \"mask_time_prob\": 0.075,\n",
            "    \"mask_time_selection\": \"static\",\n",
            "    \"max_bucket_distance\": 800,\n",
            "    \"model_type\": \"wavlm\",\n",
            "    \"num_adapter_layers\": 3,\n",
            "    \"num_attention_heads\": 16,\n",
            "    \"num_buckets\": 320,\n",
            "    \"num_codevector_groups\": 2,\n",
            "    \"num_codevectors_per_group\": 320,\n",
            "    \"num_conv_pos_embedding_groups\": 16,\n",
            "    \"num_conv_pos_embeddings\": 128,\n",
            "    \"num_ctc_classes\": 80,\n",
            "    \"num_feat_extract_layers\": 7,\n",
            "    \"num_hidden_layers\": 24,\n",
            "    \"num_negatives\": 100,\n",
            "    \"output_hidden_size\": 1024,\n",
            "    \"pad_token_id\": 0,\n",
            "    \"proj_codevector_dim\": 768,\n",
            "    \"replace_prob\": 0.5,\n",
            "    \"tokenizer_class\": \"Wav2Vec2CTCTokenizer\",\n",
            "    \"torch_dtype\": \"float32\",\n",
            "    \"transformers_version\": \"4.15.0.dev0\",\n",
            "    \"use_weighted_layer_sum\": false,\n",
            "    \"vocab_size\": 32\n",
            "  }"
          ]
        }
      ]
    },
    {
      "cell_type": "code",
      "source": [
        "!find /content/TTS -name \"*.json\""
      ],
      "metadata": {
        "id": "LbvgbMzHIyKc",
        "outputId": "4fa2d425-aa0b-48b2-ff7d-6506f96d2d08",
        "colab": {
          "base_uri": "https://localhost:8080/"
        }
      },
      "execution_count": 17,
      "outputs": [
        {
          "output_type": "stream",
          "name": "stdout",
          "text": [
            "/content/TTS/recipes/kokoro/tacotron2-DDC/tacotron2-DDC.json\n",
            "/content/TTS/tests/data/dummy_speakers2.json\n",
            "/content/TTS/tests/data/ljspeech/speakers.json\n",
            "/content/TTS/tests/data/dummy_speakers.json\n",
            "/content/TTS/tests/inputs/test_tacotron2_config.json\n",
            "/content/TTS/tests/inputs/test_tacotron_config.json\n",
            "/content/TTS/tests/inputs/test_vocoder_multiband_melgan_config.json\n",
            "/content/TTS/tests/inputs/test_speedy_speech.json\n",
            "/content/TTS/tests/inputs/test_vocoder_wavernn_config.json\n",
            "/content/TTS/tests/inputs/test_speaker_encoder_config.json\n",
            "/content/TTS/tests/inputs/language_ids.json\n",
            "/content/TTS/tests/inputs/xtts_vocab.json\n",
            "/content/TTS/tests/inputs/test_vocoder_audio_config.json\n",
            "/content/TTS/tests/inputs/test_tacotron_bd_config.json\n",
            "/content/TTS/tests/inputs/test_vocoder_wavegrad.json\n",
            "/content/TTS/tests/inputs/test_config.json\n",
            "/content/TTS/tests/inputs/test_align_tts.json\n",
            "/content/TTS/tests/inputs/server_config.json\n",
            "/content/TTS/tests/inputs/test_glow_tts.json\n",
            "/content/TTS/tests/inputs/dummy_model_config.json\n",
            "/content/TTS/TTS/.models.json\n",
            "/content/TTS/TTS/server/conf.json\n",
            "/content/TTS/TTS/tts/utils/assets/tortoise/tokenizer.json\n",
            "/content/TTS/TTS/vc/modules/freevc/wavlm/config.json\n"
          ]
        }
      ]
    },
    {
      "cell_type": "code",
      "source": [
        "# final training command\n",
        "!python3 /content/TTS/TTS/bin/train_tts.py --config_path /content/TTS/tests/inputs/test_tacotron2_config.json\n"
      ],
      "metadata": {
        "id": "p13z5et9JChY",
        "outputId": "563af71a-7737-4714-a52a-650309926d22",
        "colab": {
          "base_uri": "https://localhost:8080/"
        }
      },
      "execution_count": 19,
      "outputs": [
        {
          "output_type": "stream",
          "name": "stdout",
          "text": [
            " | > Found 8 files in /content/TTS/tests/data/ljspeech\n",
            " > Using model: Tacotron2\n",
            " > Setting up Audio Processor...\n",
            " | > sample_rate:22050\n",
            " | > resample:False\n",
            " | > num_mels:80\n",
            " | > log_func:np.log10\n",
            " | > min_level_db:-100\n",
            " | > frame_shift_ms:None\n",
            " | > frame_length_ms:None\n",
            " | > ref_level_db:20\n",
            " | > fft_size:1024\n",
            " | > power:1.5\n",
            " | > preemphasis:0.0\n",
            " | > griffin_lim_iters:60\n",
            " | > signal_norm:True\n",
            " | > symmetric_norm:True\n",
            " | > mel_fmin:0\n",
            " | > mel_fmax:8000.0\n",
            " | > pitch_fmin:1.0\n",
            " | > pitch_fmax:640.0\n",
            " | > spec_gain:20.0\n",
            " | > stft_pad_mode:reflect\n",
            " | > max_norm:4.0\n",
            " | > clip_norm:True\n",
            " | > do_trim_silence:True\n",
            " | > trim_db:60\n",
            " | > do_sound_norm:False\n",
            " | > do_amp_to_db_linear:True\n",
            " | > do_amp_to_db_mel:True\n",
            " | > do_rms_norm:False\n",
            " | > db_level:None\n",
            " | > stats_path:None\n",
            " | > base:10\n",
            " | > hop_length:256\n",
            " | > win_length:1024\n",
            " > Training Environment:\n",
            " | > Backend: Torch\n",
            " | > Mixed precision: False\n",
            " | > Precision: float32\n",
            " | > Num. of CPUs: 2\n",
            " | > Num. of Torch Threads: 1\n",
            " | > Torch seed: 54321\n",
            " | > Torch CUDNN: True\n",
            " | > Torch CUDNN deterministic: False\n",
            " | > Torch CUDNN benchmark: False\n",
            " | > Torch TF32 MatMul: False\n",
            "2025-07-13 14:18:32.673722: E external/local_xla/xla/stream_executor/cuda/cuda_fft.cc:477] Unable to register cuFFT factory: Attempting to register factory for plugin cuFFT when one has already been registered\n",
            "WARNING: All log messages before absl::InitializeLog() is called are written to STDERR\n",
            "E0000 00:00:1752416313.060884   33794 cuda_dnn.cc:8310] Unable to register cuDNN factory: Attempting to register factory for plugin cuDNN when one has already been registered\n",
            "E0000 00:00:1752416313.165393   33794 cuda_blas.cc:1418] Unable to register cuBLAS factory: Attempting to register factory for plugin cuBLAS when one has already been registered\n",
            "2025-07-13 14:18:33.994296: I tensorflow/core/platform/cpu_feature_guard.cc:210] This TensorFlow binary is optimized to use available CPU instructions in performance-critical operations.\n",
            "To enable the following instructions: AVX2 FMA, in other operations, rebuild TensorFlow with the appropriate compiler flags.\n",
            " > Start Tensorboard: tensorboard --logdir=tests/train_outputs/test_sample_dataset_run-July-13-2025_02+18PM-dbf1a08a\n",
            "\n",
            " > Model has 57923476 parameters\n",
            "\n",
            " > Number of output frames: 7\n",
            "\n",
            "\u001b[4m\u001b[1m > EPOCH: 0/1\u001b[0m\n",
            " --> tests/train_outputs/test_sample_dataset_run-July-13-2025_02+18PM-dbf1a08a\n",
            "\n",
            "\n",
            "> DataLoader initialization\n",
            "| > Tokenizer:\n",
            "\t| > add_blank: False\n",
            "\t| > use_eos_bos: False\n",
            "\t| > use_phonemes: False\n",
            "| > Number of instances : 8\n",
            " | > Preprocessing samples\n",
            " | > Max text length: 156\n",
            " | > Min text length: 26\n",
            " | > Avg text length: 98.875\n",
            " | \n",
            " | > Max audio length: 213171.0\n",
            " | > Min audio length: 39347.0\n",
            " | > Avg audio length: 138739.0\n",
            " | > Num. instances discarded samples: 0\n",
            " | > Batch group size: 0.\n",
            "\n",
            "\u001b[1m > TRAINING (2025-07-13 14:18:41) \u001b[0m\n",
            "/usr/local/lib/python3.11/dist-packages/TTS/tts/models/tacotron2.py:337: FutureWarning: `torch.cuda.amp.autocast(args...)` is deprecated. Please use `torch.amp.autocast('cuda', args...)` instead.\n",
            "  with autocast(enabled=False):  # use float32 for the criterion\n",
            "/usr/local/lib/python3.11/dist-packages/torch/functional.py:539: UserWarning: torch.meshgrid: in an upcoming release, it will be required to pass the indexing argument. (Triggered internally at /pytorch/aten/src/ATen/native/TensorShape.cpp:3637.)\n",
            "  return _VF.meshgrid(tensors, **kwargs)  # type: ignore[attr-defined]\n",
            "\n",
            "\u001b[1m   --> TIME: 2025-07-13 14:19:03 -- STEP: 0/2 -- GLOBAL_STEP: 0\u001b[0m\n",
            "     | > decoder_loss: 3.434410810470581  (3.434410810470581)\n",
            "     | > postnet_loss: 5.616774559020996  (5.616774559020996)\n",
            "     | > stopnet_loss: 0.9308623671531677  (0.9308623671531677)\n",
            "     | > decoder_coarse_loss: 3.4202892780303955  (3.4202892780303955)\n",
            "     | > decoder_ddc_loss: 0.0023874398320913315  (0.0023874398320913315)\n",
            "     | > ga_loss: 0.004619953688234091  (0.004619953688234091)\n",
            "     | > decoder_diff_spec_loss: 0.22927922010421753  (0.22927922010421753)\n",
            "     | > postnet_diff_spec_loss: 4.675580024719238  (4.675580024719238)\n",
            "     | > decoder_ssim_loss: 0.6199552416801453  (0.6199552416801453)\n",
            "     | > postnet_ssim_loss: 0.6035393476486206  (0.6035393476486206)\n",
            "     | > loss: 7.318788051605225  (7.318788051605225)\n",
            "     | > align_error: 0.9875779170542955  (0.9875779170542955)\n",
            "     | > grad_norm: tensor(4.1970)  (tensor(4.1970))\n",
            "     | > current_lr: 2.5000000000000002e-08 \n",
            "     | > step_time: 20.7055  (20.70552134513855)\n",
            "     | > loader_time: 1.1933  (1.1933374404907227)\n",
            "\n",
            "warning: audio amplitude out of range, auto clipped.\n",
            "/usr/local/lib/python3.11/dist-packages/TTS/tts/models/tacotron2.py:337: FutureWarning: `torch.cuda.amp.autocast(args...)` is deprecated. Please use `torch.amp.autocast('cuda', args...)` instead.\n",
            "  with autocast(enabled=False):  # use float32 for the criterion\n",
            "\n",
            "\u001b[1m   --> TIME: 2025-07-13 14:19:33 -- STEP: 1/2 -- GLOBAL_STEP: 1\u001b[0m\n",
            "     | > decoder_loss: 3.4358444213867188  (3.4358444213867188)\n",
            "     | > postnet_loss: 5.4497175216674805  (5.4497175216674805)\n",
            "     | > stopnet_loss: 0.7959240674972534  (0.7959240674972534)\n",
            "     | > decoder_coarse_loss: 3.4248173236846924  (3.4248173236846924)\n",
            "     | > decoder_ddc_loss: 0.00120636448264122  (0.00120636448264122)\n",
            "     | > ga_loss: 0.002204418182373047  (0.002204418182373047)\n",
            "     | > decoder_diff_spec_loss: 0.22430065274238586  (0.22430065274238586)\n",
            "     | > postnet_diff_spec_loss: 4.306356906890869  (4.306356906890869)\n",
            "     | > decoder_ssim_loss: 0.9013830423355103  (0.9013830423355103)\n",
            "     | > postnet_ssim_loss: 0.8762511610984802  (0.8762511610984802)\n",
            "     | > loss: 7.177381992340088  (7.177381992340088)\n",
            "     | > align_error: 0.9931916389614344  (0.9931916389614344)\n",
            "     | > grad_norm: tensor(2.2404)  (tensor(2.2404))\n",
            "     | > current_lr: 2.5000000000000002e-08 \n",
            "     | > step_time: 23.4451  (23.445088863372803)\n",
            "     | > loader_time: 0.1615  (0.1614689826965332)\n",
            "\n",
            "\n",
            "\n",
            "> DataLoader initialization\n",
            "| > Tokenizer:\n",
            "\t| > add_blank: False\n",
            "\t| > use_eos_bos: False\n",
            "\t| > use_phonemes: False\n",
            "| > Number of instances : 8\n",
            " | > Preprocessing samples\n",
            " | > Max text length: 156\n",
            " | > Min text length: 26\n",
            " | > Avg text length: 98.875\n",
            " | \n",
            " | > Max audio length: 213171.0\n",
            " | > Min audio length: 39347.0\n",
            " | > Avg audio length: 138739.0\n",
            " | > Num. instances discarded samples: 0\n",
            " | > Batch group size: 0.\n",
            "\n",
            "\u001b[1m > EVALUATION \u001b[0m\n",
            "\n",
            " | > Synthesizing test sentences.\n",
            "\n",
            "  \u001b[1m--> EVAL PERFORMANCE\u001b[0m\n",
            "     | > avg_loader_time: 0.11965751647949219 \u001b[0m(+0)\n",
            "     | > avg_decoder_loss: 3.4252233505249023 \u001b[0m(+0)\n",
            "     | > avg_postnet_loss: 3.4182419776916504 \u001b[0m(+0)\n",
            "     | > avg_stopnet_loss: 0.8130189776420593 \u001b[0m(+0)\n",
            "     | > avg_decoder_coarse_loss: 3.4222991466522217 \u001b[0m(+0)\n",
            "     | > avg_decoder_ddc_loss: 0.0007015438750386238 \u001b[0m(+0)\n",
            "     | > avg_ga_loss: 0.002599000930786133 \u001b[0m(+0)\n",
            "     | > avg_decoder_diff_spec_loss: 0.2160397171974182 \u001b[0m(+0)\n",
            "     | > avg_postnet_diff_spec_loss: 0.21620570123195648 \u001b[0m(+0)\n",
            "     | > avg_decoder_ssim_loss: 0.6323318481445312 \u001b[0m(+0)\n",
            "     | > avg_postnet_ssim_loss: 0.6324002742767334 \u001b[0m(+0)\n",
            "     | > avg_loss: 5.528931140899658 \u001b[0m(+0)\n",
            "     | > avg_align_error: 0.9931688415817916 \u001b[0m(+0)\n",
            "\n",
            " > BEST MODEL : tests/train_outputs/test_sample_dataset_run-July-13-2025_02+18PM-dbf1a08a/best_model_2.pth\n"
          ]
        }
      ]
    },
    {
      "cell_type": "code",
      "source": [],
      "metadata": {
        "id": "z0s1HwfeJiok"
      },
      "execution_count": null,
      "outputs": []
    }
  ]
}